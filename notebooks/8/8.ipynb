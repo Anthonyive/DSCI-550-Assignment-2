{
 "cells": [
  {
   "cell_type": "code",
   "execution_count": 1,
   "id": "fleet-module",
   "metadata": {},
   "outputs": [],
   "source": [
    "import json\n",
    "import os\n",
    "import tqdm\n",
    "import pandas as pd"
   ]
  },
  {
   "cell_type": "markdown",
   "id": "interested-congress",
   "metadata": {},
   "source": [
    "## I. convert emails text (both training and testing) into appropriate jsonl file format "
   ]
  },
  {
   "cell_type": "markdown",
   "id": "parental-wagner",
   "metadata": {},
   "source": [
    "### 6088 entries in training set ( 2000+ machine generated, the rest are human-written)\n",
    "#### 4000+ are from email corpus, 2000+ are from gtp-2 generated and the ENRON Email Dataset \n",
    "###### kaggle datasets download -d nitishabharathi/email-spam-dataset"
   ]
  },
  {
   "cell_type": "code",
   "execution_count": 54,
   "id": "sharing-parade",
   "metadata": {},
   "outputs": [],
   "source": [
    "PATH = '/Users/jessicademacbook/DSCI-550-Assignment-2/data/Grover_input_output/8_GPT-2_Generated_Text_for_Grover/'\n",
    "folders = [f for f in os.listdir(PATH) if not f.startswith('.')]"
   ]
  },
  {
   "cell_type": "code",
   "execution_count": 55,
   "id": "amazing-indiana",
   "metadata": {},
   "outputs": [],
   "source": [
    "#read all machine txt in each folders, label all machine generated content\n",
    "lis=[]\n",
    "for folder in folders:   \n",
    "    for i in os.listdir(f'{PATH}{folder}'):  \n",
    "        f=open(f'{PATH}{folder}/{i}','r')\n",
    "        text=f.read()\n",
    "        text_dic={\"article\":text,\"label\":\"machine\",\"split\":\"train\"}\n",
    "        lis.append(text_dic)"
   ]
  },
  {
   "cell_type": "code",
   "execution_count": 56,
   "id": "destroyed-religious",
   "metadata": {},
   "outputs": [],
   "source": [
    "#read all human json in email corpus, label all content as human\n",
    "path='/Users/jessicademacbook/DSCI-550-Assignment-1/data/separated by email/'\n",
    "for i in os.listdir(path):\n",
    "    if i.endswith('.json'):\n",
    "        f=open(f'{path}{i}','r')\n",
    "        text=json.load(f)\n",
    "        try:\n",
    "            content=text[\"X-TIKA:content\"]\n",
    "            if pd.isna(content):\n",
    "                pass\n",
    "            else:\n",
    "                content_dic={\"article\":content,\"label\":\"human\",\"split\":\"train\"}\n",
    "                lis.append(content_dic)\n",
    "        except KeyError:\n",
    "            pass "
   ]
  },
  {
   "cell_type": "code",
   "execution_count": 57,
   "id": "according-truck",
   "metadata": {},
   "outputs": [],
   "source": [
    "with open('/Users/jessicademacbook/DSCI-550-Assignment-2/data/Grover_input_output/fake_emails.csv', \"r\") as f:\n",
    "    result=pd.read_csv(f)\n",
    "    spam=result['Label']==1\n",
    "    for i in result[spam]['Body']:\n",
    "        if pd.isna(i):\n",
    "            pass\n",
    "        else:\n",
    "            dic={\"article\":i,\"label\":\"machine\",\"split\":\"train\"}\n",
    "            lis.append(dic)\n",
    "\n",
    "    "
   ]
  },
  {
   "cell_type": "code",
   "execution_count": 76,
   "id": "reserved-jacket",
   "metadata": {},
   "outputs": [
    {
     "name": "stdout",
     "output_type": "stream",
     "text": [
      "The training set has  6087 emails in total.\n"
     ]
    }
   ],
   "source": [
    "print('The training set has ', len(lis),'emails in total.')"
   ]
  },
  {
   "cell_type": "code",
   "execution_count": 61,
   "id": "wrong-discipline",
   "metadata": {},
   "outputs": [],
   "source": [
    "#write to a jsonl file with all human and machine generated email content\n",
    "with open('/Users/jessicademacbook/DSCI-550-Assignment-2/data/Grover_input_output/input_emails.jsonl','w') as outfile:\n",
    "    for entry in lis:\n",
    "        json.dump(entry, outfile)\n",
    "        outfile.write('\\n')"
   ]
  },
  {
   "cell_type": "code",
   "execution_count": 77,
   "id": "signal-activity",
   "metadata": {},
   "outputs": [
    {
     "name": "stdout",
     "output_type": "stream",
     "text": [
      "Are all content are NA-free? True\n"
     ]
    }
   ],
   "source": [
    "#check the written jsonl file has correct labels\n",
    "with open('/Users/jessicademacbook/DSCI-550-Assignment-2/data/Grover_input_output/input_emails.jsonl', \"r\") as f:\n",
    "    test=[]\n",
    "    for l in f:\n",
    "        item = json.loads(l)\n",
    "        if pd.isna(item['article']):\n",
    "            pass\n",
    "        else:\n",
    "            test.append(item['article'])\n",
    "print('Are all content are NA-free?', all(test))"
   ]
  },
  {
   "cell_type": "markdown",
   "id": "affecting-bishop",
   "metadata": {},
   "source": [
    "### Collect 800 email text, labeled as test, write to jsonl file for discrimination "
   ]
  },
  {
   "cell_type": "code",
   "execution_count": 79,
   "id": "treated-offense",
   "metadata": {},
   "outputs": [
    {
     "name": "stdout",
     "output_type": "stream",
     "text": [
      "The file for discrimination has 800 emails in it.\n"
     ]
    }
   ],
   "source": [
    "#get generated text for grover test\n",
    "new_path = '/Users/jessicademacbook/DSCI-550-Assignment-2/data/additional-features-v2/new/4_GPT-2_Generated_Text/'\n",
    "folders = [f for f in os.listdir(new_path) if not f.startswith('.')]\n",
    "test_lis=[]\n",
    "for folder in folders:   \n",
    "    for i in os.listdir(f'{new_path}{folder}'):  \n",
    "        f=open(f'{new_path}{folder}/{i}','r')\n",
    "        text=f.read()\n",
    "        text_dic={\"article\":text,\"split\":\"test\",\"label\":\"machine\"}\n",
    "        test_lis.append(text_dic)\n",
    "print('The file for discrimination has', len(test_lis),'emails in it.')\n",
    "\n",
    "#write to jsonl file\n",
    "with open('/Users/jessicademacbook/DSCI-550-Assignment-2/data/Grover_input_output/test_input.jsonl','w') as f:\n",
    "    for entry in test_lis:\n",
    "        json.dump(entry, f)\n",
    "        f.write('\\n')"
   ]
  },
  {
   "cell_type": "markdown",
   "id": "becoming-denial",
   "metadata": {},
   "source": [
    "## II. Grover Training-this part is done in Google Colab, and the corresponding notebook is called Grover_training in the same folder as this one "
   ]
  },
  {
   "cell_type": "markdown",
   "id": "trying-wellington",
   "metadata": {},
   "source": [
    "see Grover_training.ipynb"
   ]
  },
  {
   "cell_type": "markdown",
   "id": "adverse-raising",
   "metadata": {},
   "source": [
    "## III. Interpreting Grover training result"
   ]
  },
  {
   "cell_type": "code",
   "execution_count": 101,
   "id": "characteristic-harvey",
   "metadata": {},
   "outputs": [],
   "source": [
    "import numpy as np"
   ]
  },
  {
   "cell_type": "markdown",
   "id": "important-equality",
   "metadata": {},
   "source": [
    "#### The grover model returns a list of data pair showing the probability of the label being corrected. I labeled all the test input as machine, and the accuracy turns out to be 1, meaning that all 800 emails are identified as machine generated. "
   ]
  },
  {
   "cell_type": "code",
   "execution_count": 73,
   "id": "characteristic-strength",
   "metadata": {},
   "outputs": [
    {
     "name": "stdout",
     "output_type": "stream",
     "text": [
      "The first 20 pairs look like [[9.9662018e-01 3.3797552e-03]\n",
      " [9.9873632e-01 1.2636491e-03]\n",
      " [9.9940217e-01 5.9788820e-04]\n",
      " [9.9938750e-01 6.1247114e-04]\n",
      " [9.9944609e-01 5.5383943e-04]\n",
      " [9.9970198e-01 2.9801764e-04]\n",
      " [9.9898297e-01 1.0170500e-03]\n",
      " [9.9977785e-01 2.2213944e-04]\n",
      " [9.9598026e-01 4.0197591e-03]\n",
      " [9.9966323e-01 3.3679375e-04]\n",
      " [9.9684596e-01 3.1541178e-03]\n",
      " [9.9589598e-01 4.1040764e-03]\n",
      " [9.9823952e-01 1.7604964e-03]\n",
      " [9.9984765e-01 1.5229598e-04]\n",
      " [9.9863845e-01 1.3614852e-03]\n",
      " [9.9976915e-01 2.3089335e-04]\n",
      " [9.9954545e-01 4.5462951e-04]\n",
      " [9.9974865e-01 2.5135945e-04]\n",
      " [9.9943906e-01 5.6092546e-04]\n",
      " [9.9943274e-01 5.6727190e-04]]\n",
      "797 of 800 emails have probability of being machine generated higher than 0.95.\n",
      "All emails are identified as machine generated.\n"
     ]
    }
   ],
   "source": [
    "path='/Users/jessicademacbook/DSCI-550-Assignment-2/data/Grover_input_output/final_outputs_test-probs.npy'\n",
    "data_array = np.load(path)\n",
    "print('The first 20 pairs look like', data_array[0:20])\n",
    "a=0\n",
    "for i in data_array:\n",
    "    if i[0]>0.95:\n",
    "        a=a+1\n",
    "print(a,\"of 800 emails have probability of being machine generated higher than 0.95.\")\n",
    "print(\"All emails are identified as machine generated.\")"
   ]
  },
  {
   "cell_type": "markdown",
   "id": "funny-engineering",
   "metadata": {},
   "source": [
    "#### Write the result to the tsv file"
   ]
  },
  {
   "cell_type": "code",
   "execution_count": 97,
   "id": "powered-merit",
   "metadata": {},
   "outputs": [
    {
     "data": {
      "text/html": [
       "<div>\n",
       "<style scoped>\n",
       "    .dataframe tbody tr th:only-of-type {\n",
       "        vertical-align: middle;\n",
       "    }\n",
       "\n",
       "    .dataframe tbody tr th {\n",
       "        vertical-align: top;\n",
       "    }\n",
       "\n",
       "    .dataframe thead th {\n",
       "        text-align: right;\n",
       "    }\n",
       "</style>\n",
       "<table border=\"1\" class=\"dataframe\">\n",
       "  <thead>\n",
       "    <tr style=\"text-align: right;\">\n",
       "      <th></th>\n",
       "      <th>Unnamed: 0</th>\n",
       "      <th>content</th>\n",
       "      <th>reply #</th>\n",
       "      <th>category</th>\n",
       "      <th>index</th>\n",
       "    </tr>\n",
       "  </thead>\n",
       "  <tbody>\n",
       "    <tr>\n",
       "      <th>0</th>\n",
       "      <td>0</td>\n",
       "      <td>When the release date for the project was anno...</td>\n",
       "      <td>0</td>\n",
       "      <td>Credential_phishing</td>\n",
       "      <td>0</td>\n",
       "    </tr>\n",
       "    <tr>\n",
       "      <th>1</th>\n",
       "      <td>1</td>\n",
       "      <td>In the course of my search, I discovered a lar...</td>\n",
       "      <td>0</td>\n",
       "      <td>Credential_phishing</td>\n",
       "      <td>1</td>\n",
       "    </tr>\n",
       "    <tr>\n",
       "      <th>2</th>\n",
       "      <td>2</td>\n",
       "      <td>Frequently Asked Questions\\n\\nQ: Can I get a 1...</td>\n",
       "      <td>0</td>\n",
       "      <td>Credential_phishing</td>\n",
       "      <td>10</td>\n",
       "    </tr>\n",
       "    <tr>\n",
       "      <th>3</th>\n",
       "      <td>3</td>\n",
       "      <td>Dear Sir/Madam,\\n\\nI am writing you because yo...</td>\n",
       "      <td>0</td>\n",
       "      <td>Credential_phishing</td>\n",
       "      <td>100</td>\n",
       "    </tr>\n",
       "    <tr>\n",
       "      <th>4</th>\n",
       "      <td>4</td>\n",
       "      <td>- Free phone and fax service.\\n- All telephone...</td>\n",
       "      <td>0</td>\n",
       "      <td>Credential_phishing</td>\n",
       "      <td>101</td>\n",
       "    </tr>\n",
       "    <tr>\n",
       "      <th>...</th>\n",
       "      <td>...</td>\n",
       "      <td>...</td>\n",
       "      <td>...</td>\n",
       "      <td>...</td>\n",
       "      <td>...</td>\n",
       "    </tr>\n",
       "    <tr>\n",
       "      <th>3195</th>\n",
       "      <td>3195</td>\n",
       "      <td>YoI can't understand what you mean by that mea...</td>\n",
       "      <td>3</td>\n",
       "      <td>Social_engineering</td>\n",
       "      <td>95</td>\n",
       "    </tr>\n",
       "    <tr>\n",
       "      <th>3196</th>\n",
       "      <td>3196</td>\n",
       "      <td>To whom may concern, F**k you! to find a way t...</td>\n",
       "      <td>3</td>\n",
       "      <td>Social_engineering</td>\n",
       "      <td>96</td>\n",
       "    </tr>\n",
       "    <tr>\n",
       "      <th>3197</th>\n",
       "      <td>3197</td>\n",
       "      <td>YoCall me at 911.\\n(CEM)\\n\\n(CEM)\\n\\n(CEM)\\n\\n...</td>\n",
       "      <td>3</td>\n",
       "      <td>Social_engineering</td>\n",
       "      <td>97</td>\n",
       "    </tr>\n",
       "    <tr>\n",
       "      <th>3198</th>\n",
       "      <td>3198</td>\n",
       "      <td>Hello, You wanted my SSN, here is my birthday,...</td>\n",
       "      <td>3</td>\n",
       "      <td>Social_engineering</td>\n",
       "      <td>98</td>\n",
       "    </tr>\n",
       "    <tr>\n",
       "      <th>3199</th>\n",
       "      <td>3199</td>\n",
       "      <td>Dear, I've located your ip address. is there n...</td>\n",
       "      <td>3</td>\n",
       "      <td>Social_engineering</td>\n",
       "      <td>99</td>\n",
       "    </tr>\n",
       "  </tbody>\n",
       "</table>\n",
       "<p>3200 rows × 5 columns</p>\n",
       "</div>"
      ],
      "text/plain": [
       "      Unnamed: 0                                            content  reply #  \\\n",
       "0              0  When the release date for the project was anno...        0   \n",
       "1              1  In the course of my search, I discovered a lar...        0   \n",
       "2              2  Frequently Asked Questions\\n\\nQ: Can I get a 1...        0   \n",
       "3              3  Dear Sir/Madam,\\n\\nI am writing you because yo...        0   \n",
       "4              4  - Free phone and fax service.\\n- All telephone...        0   \n",
       "...          ...                                                ...      ...   \n",
       "3195        3195  YoI can't understand what you mean by that mea...        3   \n",
       "3196        3196  To whom may concern, F**k you! to find a way t...        3   \n",
       "3197        3197  YoCall me at 911.\\n(CEM)\\n\\n(CEM)\\n\\n(CEM)\\n\\n...        3   \n",
       "3198        3198  Hello, You wanted my SSN, here is my birthday,...        3   \n",
       "3199        3199  Dear, I've located your ip address. is there n...        3   \n",
       "\n",
       "                 category  index  \n",
       "0     Credential_phishing      0  \n",
       "1     Credential_phishing      1  \n",
       "2     Credential_phishing     10  \n",
       "3     Credential_phishing    100  \n",
       "4     Credential_phishing    101  \n",
       "...                   ...    ...  \n",
       "3195   Social_engineering     95  \n",
       "3196   Social_engineering     96  \n",
       "3197   Social_engineering     97  \n",
       "3198   Social_engineering     98  \n",
       "3199   Social_engineering     99  \n",
       "\n",
       "[3200 rows x 5 columns]"
      ]
     },
     "execution_count": 97,
     "metadata": {},
     "output_type": "execute_result"
    }
   ],
   "source": [
    "path='/Users/jessicademacbook/DSCI-550-Assignment-2/data/additional-features-v2/new/assignment2.tsv'\n",
    "f=open(path,'r')\n",
    "tsv=pd.read_csv(f,sep='\\t')\n",
    "tsv"
   ]
  },
  {
   "cell_type": "code",
   "execution_count": 108,
   "id": "seventh-graphics",
   "metadata": {},
   "outputs": [
    {
     "data": {
      "text/html": [
       "<div>\n",
       "<style scoped>\n",
       "    .dataframe tbody tr th:only-of-type {\n",
       "        vertical-align: middle;\n",
       "    }\n",
       "\n",
       "    .dataframe tbody tr th {\n",
       "        vertical-align: top;\n",
       "    }\n",
       "\n",
       "    .dataframe thead th {\n",
       "        text-align: right;\n",
       "    }\n",
       "</style>\n",
       "<table border=\"1\" class=\"dataframe\">\n",
       "  <thead>\n",
       "    <tr style=\"text-align: right;\">\n",
       "      <th></th>\n",
       "      <th>Unnamed: 0</th>\n",
       "      <th>content</th>\n",
       "      <th>reply #</th>\n",
       "      <th>category</th>\n",
       "      <th>index</th>\n",
       "      <th>grover_result</th>\n",
       "    </tr>\n",
       "  </thead>\n",
       "  <tbody>\n",
       "    <tr>\n",
       "      <th>0</th>\n",
       "      <td>0</td>\n",
       "      <td>When the release date for the project was anno...</td>\n",
       "      <td>0</td>\n",
       "      <td>Credential_phishing</td>\n",
       "      <td>0</td>\n",
       "      <td>machine</td>\n",
       "    </tr>\n",
       "    <tr>\n",
       "      <th>1</th>\n",
       "      <td>1</td>\n",
       "      <td>In the course of my search, I discovered a lar...</td>\n",
       "      <td>0</td>\n",
       "      <td>Credential_phishing</td>\n",
       "      <td>1</td>\n",
       "      <td>machine</td>\n",
       "    </tr>\n",
       "    <tr>\n",
       "      <th>2</th>\n",
       "      <td>2</td>\n",
       "      <td>Frequently Asked Questions\\n\\nQ: Can I get a 1...</td>\n",
       "      <td>0</td>\n",
       "      <td>Credential_phishing</td>\n",
       "      <td>10</td>\n",
       "      <td>machine</td>\n",
       "    </tr>\n",
       "    <tr>\n",
       "      <th>3</th>\n",
       "      <td>3</td>\n",
       "      <td>Dear Sir/Madam,\\n\\nI am writing you because yo...</td>\n",
       "      <td>0</td>\n",
       "      <td>Credential_phishing</td>\n",
       "      <td>100</td>\n",
       "      <td>machine</td>\n",
       "    </tr>\n",
       "    <tr>\n",
       "      <th>4</th>\n",
       "      <td>4</td>\n",
       "      <td>- Free phone and fax service.\\n- All telephone...</td>\n",
       "      <td>0</td>\n",
       "      <td>Credential_phishing</td>\n",
       "      <td>101</td>\n",
       "      <td>machine</td>\n",
       "    </tr>\n",
       "    <tr>\n",
       "      <th>5</th>\n",
       "      <td>5</td>\n",
       "      <td>This is a very high priority for you.\\nThe fol...</td>\n",
       "      <td>0</td>\n",
       "      <td>Credential_phishing</td>\n",
       "      <td>102</td>\n",
       "      <td>machine</td>\n",
       "    </tr>\n",
       "    <tr>\n",
       "      <th>6</th>\n",
       "      <td>6</td>\n",
       "      <td>@kukunoha\\nI am a member of the Black Communit...</td>\n",
       "      <td>0</td>\n",
       "      <td>Credential_phishing</td>\n",
       "      <td>103</td>\n",
       "      <td>machine</td>\n",
       "    </tr>\n",
       "    <tr>\n",
       "      <th>7</th>\n",
       "      <td>7</td>\n",
       "      <td>Report Abuse.\\n\\nI am Mr. Anthony W. Sokolich....</td>\n",
       "      <td>0</td>\n",
       "      <td>Credential_phishing</td>\n",
       "      <td>104</td>\n",
       "      <td>machine</td>\n",
       "    </tr>\n",
       "    <tr>\n",
       "      <th>8</th>\n",
       "      <td>8</td>\n",
       "      <td>In this article\\nIn this article\\nDolphin Prog...</td>\n",
       "      <td>0</td>\n",
       "      <td>Credential_phishing</td>\n",
       "      <td>105</td>\n",
       "      <td>machine</td>\n",
       "    </tr>\n",
       "    <tr>\n",
       "      <th>9</th>\n",
       "      <td>9</td>\n",
       "      <td>The government of Bangladesh has agreed to pay...</td>\n",
       "      <td>0</td>\n",
       "      <td>Credential_phishing</td>\n",
       "      <td>106</td>\n",
       "      <td>machine</td>\n",
       "    </tr>\n",
       "  </tbody>\n",
       "</table>\n",
       "</div>"
      ],
      "text/plain": [
       "   Unnamed: 0                                            content  reply #  \\\n",
       "0           0  When the release date for the project was anno...        0   \n",
       "1           1  In the course of my search, I discovered a lar...        0   \n",
       "2           2  Frequently Asked Questions\\n\\nQ: Can I get a 1...        0   \n",
       "3           3  Dear Sir/Madam,\\n\\nI am writing you because yo...        0   \n",
       "4           4  - Free phone and fax service.\\n- All telephone...        0   \n",
       "5           5  This is a very high priority for you.\\nThe fol...        0   \n",
       "6           6  @kukunoha\\nI am a member of the Black Communit...        0   \n",
       "7           7  Report Abuse.\\n\\nI am Mr. Anthony W. Sokolich....        0   \n",
       "8           8  In this article\\nIn this article\\nDolphin Prog...        0   \n",
       "9           9  The government of Bangladesh has agreed to pay...        0   \n",
       "\n",
       "              category  index grover_result  \n",
       "0  Credential_phishing      0       machine  \n",
       "1  Credential_phishing      1       machine  \n",
       "2  Credential_phishing     10       machine  \n",
       "3  Credential_phishing    100       machine  \n",
       "4  Credential_phishing    101       machine  \n",
       "5  Credential_phishing    102       machine  \n",
       "6  Credential_phishing    103       machine  \n",
       "7  Credential_phishing    104       machine  \n",
       "8  Credential_phishing    105       machine  \n",
       "9  Credential_phishing    106       machine  "
      ]
     },
     "execution_count": 108,
     "metadata": {},
     "output_type": "execute_result"
    }
   ],
   "source": [
    "human_or_machine=['machine']*800+[np.nan]*2400\n",
    "tsv['grover_result']=human_or_machine\n",
    "tsv.head(10)"
   ]
  },
  {
   "cell_type": "code",
   "execution_count": 106,
   "id": "indirect-combination",
   "metadata": {},
   "outputs": [],
   "source": [
    "with open('/Users/jessicademacbook/DSCI-550-Assignment-2/data/additional-features-v2/new/assignment2.tsv', 'wt') as out_file:\n",
    "    tsv.to_csv(out_file, sep=\"\\t\")\n",
    "    "
   ]
  }
 ],
 "metadata": {
  "kernelspec": {
   "display_name": "Python 3",
   "language": "python",
   "name": "python3"
  },
  "language_info": {
   "codemirror_mode": {
    "name": "ipython",
    "version": 3
   },
   "file_extension": ".py",
   "mimetype": "text/x-python",
   "name": "python",
   "nbconvert_exporter": "python",
   "pygments_lexer": "ipython3",
   "version": "3.8.5"
  }
 },
 "nbformat": 4,
 "nbformat_minor": 5
}
