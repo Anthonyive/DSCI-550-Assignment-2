{
 "cells": [
  {
   "cell_type": "markdown",
   "metadata": {},
   "source": [
    "# Text Generate"
   ]
  },
  {
   "cell_type": "markdown",
   "metadata": {},
   "source": [
    "\n",
    "### To use gpt2, python version 3.7 or below is required.\n",
    "### To install, use : pip install tensorflow==1.15\n",
    "### Don't forget to switch kernel before running"
   ]
  },
  {
   "cell_type": "code",
   "execution_count": 1,
   "metadata": {},
   "outputs": [
    {
     "name": "stdout",
     "output_type": "stream",
     "text": [
      "WARNING:tensorflow:\n",
      "The TensorFlow contrib module will not be included in TensorFlow 2.0.\n",
      "For more information, please see:\n",
      "  * https://github.com/tensorflow/community/blob/master/rfcs/20180907-contrib-sunset.md\n",
      "  * https://github.com/tensorflow/addons\n",
      "  * https://github.com/tensorflow/io (for I/O related ops)\n",
      "If you depend on functionality not listed there, please file an issue.\n",
      "\n"
     ]
    }
   ],
   "source": [
    "import gpt_2_simple as gpt2\n",
    "import os\n",
    "import requests\n",
    "import pandas as pd\n",
    "from tqdm.notebook import tqdm"
   ]
  },
  {
   "cell_type": "markdown",
   "metadata": {},
   "source": [
    "## Download the model"
   ]
  },
  {
   "cell_type": "code",
   "execution_count": 2,
   "metadata": {},
   "outputs": [],
   "source": [
    "model_name = \"124M\"\n",
    "if not os.path.isdir(os.path.join(\"Downloads\",\"models\", model_name)):\n",
    "    print(f\"Downloading {model_name} model...\")\n",
    "    gpt2.download_gpt2(model_dir='Downloads/models', model_name=model_name)   # model is saved into current directory under /models/124M/\n"
   ]
  },
  {
   "cell_type": "markdown",
   "metadata": {},
   "source": [
    "## Input Email TTR'ed Dataset"
   ]
  },
  {
   "cell_type": "code",
   "execution_count": 3,
   "metadata": {},
   "outputs": [],
   "source": [
    "def grt_txt(file_name,model_name):\n",
    "    sess = gpt2.start_tf_sess()\n",
    "    gpt2.finetune(sess,\n",
    "                  file_name,\n",
    "                  model_name=model_name,\n",
    "                  model_dir='Downloads/models',\n",
    "                  steps=1)   # steps is max number of training steps\n",
    "#     Take too much time for large number of steps... Can use 1 to 1000.\n",
    "#     gpt2.generate(sess)\n",
    "    single_text = gpt2.generate(sess, return_as_list=False)\n",
    "    return single_text"
   ]
  },
  {
   "cell_type": "code",
   "execution_count": 4,
   "metadata": {},
   "outputs": [],
   "source": [
    "df = pd.read_csv('../data/additional-features-v2/new/additional_features_TTR.tsv',sep='\\t')"
   ]
  },
  {
   "cell_type": "code",
   "execution_count": 5,
   "metadata": {},
   "outputs": [
    {
     "name": "stdout",
     "output_type": "stream",
     "text": [
      "WARNING:tensorflow:From /home/anthony/.local/share/virtualenvs/DSCI-550-Assignment-2-MaO-uhgo/lib/python3.7/site-packages/gpt_2_simple/src/sample.py:17: where (from tensorflow.python.ops.array_ops) is deprecated and will be removed in a future version.\n",
      "Instructions for updating:\n",
      "Use tf.where in 2.0, which has the same broadcast rule as np.where\n",
      "Loading checkpoint checkpoint/run1/model-3\n",
      "INFO:tensorflow:Restoring parameters from checkpoint/run1/model-3\n"
     ]
    },
    {
     "name": "stderr",
     "output_type": "stream",
     "text": [
      "100%|██████████| 1/1 [00:00<00:00,  6.50it/s]"
     ]
    },
    {
     "name": "stdout",
     "output_type": "stream",
     "text": [
      "Loading dataset...\n",
      "dataset has 54250 tokens\n",
      "Training...\n"
     ]
    },
    {
     "name": "stderr",
     "output_type": "stream",
     "text": [
      "\n"
     ]
    },
    {
     "name": "stdout",
     "output_type": "stream",
     "text": [
      "[4 | 25.66] loss=3.11 avg=3.11\n",
      "Saving checkpoint/run1/model-4\n",
      "U.S. Immigration and Customs Enforcement (ICE) deported more than 2,500 immigrants, most of them Chihuahua and Chihuahua-born immigrants, during the first half of 2014, according to the U.S. Department of Homeland Security.\n",
      "\n",
      "\"ICE deported more than 1,200 Chihuahua immigrants during the first half of 2014,\" Kelly said in a statement. \"We are working to track down the immigrants and find their roots. A successful deportation is a long and difficult process.\"\n",
      "\n",
      "The numbers do not include the estimated 2,000 Chihuahua immigrants who were deported by ICE. The numbers do not include the estimated 2,000 Chihuahua immigrants who were deported by ICE. SEE MORE VIDEOS\n",
      "\n",
      "The ICE deportation numbers included those who did not show up for work after Dec. 31, 2015. Those who proved themselves to have been deported had their pay and benefits stopped. The numbers did not include those who did not show up for work after Dec. 31, 2015. Those who proved themselves to have been deported had their pay and benefits stopped.\n",
      "\n",
      "ICE President John Kelly said Thursday that the 8,000 figure was \"not an accurate reflection of the size of the deportation program.\"\n",
      "\n",
      "In a statement, ICE said it spoke with local police officers who were assigned to ICE's Gang of Eight operation during the first half of 2014 to determine whether to deport those who showed up to work or did not show up for work for several weeks.\n",
      "\n",
      "\"ICE will not take any action that would reduce the number of immigrants who are not able to work due to a lack of work,\" Kelly said.\n",
      "\n",
      "The staff from ICE's Gang of Eight has been working with local law enforcement agencies to identify and deport people who are undocumented, he said.\n",
      "\n",
      "The numbers do not include those who were deported because they did not show up for work. The number does not include those who were deported because they did not show up for work.\n",
      "\n",
      "ICE is working with local law enforcement agencies to identify and deport people who are undocumented, he said.\n",
      "\n",
      "\"ICE will not take any action that would reduce the number of immigrants who are not able to work due to a lack of work,\" Kelly said.\n",
      "\n",
      "The United States deported 8,835 immigrants in 2014, with some of the most recent deportations, according to the Department of Homeland Security. The number of people who were deported was about 1,813 people.\n",
      "\n",
      "Trump has said he wants to deport 10 million people and build a wall along the US-Mexico border. He has also suggested he would build a fence along the southern border between the two countries.\n",
      "\n",
      "The total number of people who were deported by ICE was also lower than the 2,500 figure, according to the DHS.\n",
      "\n",
      "Two-thirds of those who died in the line of duty were from the 82nd Infantry Regiment in Colorado Springs, Texas, the nation's capital. The U.S. Supreme Court upheld the dismissal of the case as the result of bias, but a federal appeals court in Colorado rejected the case, saying that the federal government had failed to show bias in determining whether to take the death toll.<|endoftext|>At a gathering of some of the country's most influential Democrats on Tuesday, Senators Dianne Feinstein (D-Calif.) warned that the Obama administration had no choice but to take active steps to prevent a repeat of the 2010 Dodd-Frank financial reform law that was shrouded in secrecy and unraveled along party lines.\n",
      "\n",
      "\"It is imperative that the Obama administration take the necessary steps to prevent a repeat of the 2010 Dodd-Frank financial reform law that was shrouded in secrecy and unraveled along party lines,\" Feinstein said in a statement. \"The House Financial Services Committee should be able to move forward without further delay in using a simple and simple process to ensure that no more than 10 percent of the $17 trillion in risky derivatives that were involved in the financial crisis are disclosed to the public. The Senate should follow suit and repeal the law without delay.\"\n",
      "\n",
      "Feinstein's comments came as the Senate Banking Committee held a hearing on the Dodd-Frank financial reform bill Thursday, which was being debated by minority leader Chuck Schumer (D-N.Y.) and other Democratic senators to see how the bill would affect the international financial system.\n",
      "\n",
      "Schumer and other Democrats at the hearing expressed concern that a system in which the government could face regulatory accountability would be a \"horse in the barn\" to any financial system or to any banking system that is not compliant with the law.\n",
      "\n",
      "\"It is a complete and utter disaster in the financial system,\" Schumer said. \"The American people have been screwed by this mess. It is time for Congress to step in and fix it.\"\n",
      "\n",
      "Feinstein and other Democrats also criticized the Dodd-Frank legislation, saying that it was not structured in a way that would prevent future financial crises.\n",
      "\n",
      "\"The Dodd-Frank Act was designed to prevent a systemic failure of the central bank to fulfill\n"
     ]
    }
   ],
   "source": [
    "text = grt_txt(\"../tests/test.txt\", '124M')"
   ]
  },
  {
   "cell_type": "code",
   "execution_count": 11,
   "metadata": {},
   "outputs": [
    {
     "data": {
      "text/plain": [
       "1"
      ]
     },
     "execution_count": 11,
     "metadata": {},
     "output_type": "execute_result"
    }
   ],
   "source": [
    "len(text)"
   ]
  },
  {
   "cell_type": "code",
   "execution_count": 6,
   "metadata": {},
   "outputs": [],
   "source": [
    "# df.columns"
   ]
  },
  {
   "cell_type": "code",
   "execution_count": 7,
   "metadata": {},
   "outputs": [],
   "source": [
    "# df[\"TTR'ed Text\"][0]"
   ]
  },
  {
   "cell_type": "code",
   "execution_count": 8,
   "metadata": {},
   "outputs": [],
   "source": [
    "# for i in range(800):\n",
    "#     path = f'../data/additional-features-v2/new/content_txt/{i}.txt'\n",
    "#     text = df[\"TTR'ed Text\"][i]\n",
    "#     with open(path, 'w') as f:\n",
    "#         f.write(text)\n",
    "#     lis = grt_txt(path,'124M')\n",
    "#     break"
   ]
  },
  {
   "cell_type": "code",
   "execution_count": 9,
   "metadata": {},
   "outputs": [
    {
     "ename": "NameError",
     "evalue": "name 'lis' is not defined",
     "output_type": "error",
     "traceback": [
      "\u001b[0;31m---------------------------------------------------------------------------\u001b[0m",
      "\u001b[0;31mNameError\u001b[0m                                 Traceback (most recent call last)",
      "\u001b[0;32m<ipython-input-9-62a5a82c4d4e>\u001b[0m in \u001b[0;36m<module>\u001b[0;34m\u001b[0m\n\u001b[0;32m----> 1\u001b[0;31m \u001b[0mlis\u001b[0m\u001b[0;34m\u001b[0m\u001b[0;34m\u001b[0m\u001b[0m\n\u001b[0m",
      "\u001b[0;31mNameError\u001b[0m: name 'lis' is not defined"
     ]
    }
   ],
   "source": [
    "lis"
   ]
  },
  {
   "cell_type": "code",
   "execution_count": null,
   "metadata": {},
   "outputs": [],
   "source": []
  },
  {
   "cell_type": "code",
   "execution_count": null,
   "metadata": {},
   "outputs": [],
   "source": []
  },
  {
   "cell_type": "code",
   "execution_count": null,
   "metadata": {},
   "outputs": [],
   "source": []
  }
 ],
 "metadata": {
  "kernelspec": {
   "display_name": "DSCI-550-Assignment-2",
   "language": "python",
   "name": "dsci-550-assignment-2"
  },
  "language_info": {
   "codemirror_mode": {
    "name": "ipython",
    "version": 3
   },
   "file_extension": ".py",
   "mimetype": "text/x-python",
   "name": "python",
   "nbconvert_exporter": "python",
   "pygments_lexer": "ipython3",
   "version": "3.7.10"
  }
 },
 "nbformat": 4,
 "nbformat_minor": 5
}
