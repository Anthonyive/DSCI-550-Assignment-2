{
 "cells": [
  {
   "cell_type": "markdown",
   "metadata": {},
   "source": [
    "# Text Generate"
   ]
  },
  {
   "cell_type": "markdown",
   "metadata": {},
   "source": [
    "\n",
    "### To use gpt2, python version 3.7 or below is required.\n",
    "### To install, use : pip install tensorflow==1.15\n",
    "### Don't forget to switch kernel before running"
   ]
  },
  {
   "cell_type": "code",
   "execution_count": 1,
   "metadata": {},
   "outputs": [
    {
     "name": "stdout",
     "output_type": "stream",
     "text": [
      "WARNING:tensorflow:\n",
      "The TensorFlow contrib module will not be included in TensorFlow 2.0.\n",
      "For more information, please see:\n",
      "  * https://github.com/tensorflow/community/blob/master/rfcs/20180907-contrib-sunset.md\n",
      "  * https://github.com/tensorflow/addons\n",
      "  * https://github.com/tensorflow/io (for I/O related ops)\n",
      "If you depend on functionality not listed there, please file an issue.\n",
      "\n"
     ]
    }
   ],
   "source": [
    "import gpt_2_simple as gpt2\n",
    "import os\n",
    "import requests\n",
    "import pandas as pd\n",
    "from tqdm.notebook import tqdm"
   ]
  },
  {
   "cell_type": "markdown",
   "metadata": {},
   "source": [
    "## Download the model"
   ]
  },
  {
   "cell_type": "code",
   "execution_count": 2,
   "metadata": {},
   "outputs": [],
   "source": [
    "model_name = \"124M\"\n",
    "if not os.path.isdir(os.path.join(\"models\", model_name)):\n",
    "\tprint(f\"Downloading {model_name} model...\")\n",
    "\tgpt2.download_gpt2(model_name=model_name)   # model is saved into current directory under /models/124M/\n"
   ]
  },
  {
   "cell_type": "code",
   "execution_count": 3,
   "metadata": {},
   "outputs": [],
   "source": [
    "def grt_txt(file_name,model_name):\n",
    "    sess = gpt2.start_tf_sess()\n",
    "    gpt2.finetune(sess,\n",
    "                  file_name,\n",
    "                  model_name=model_name,\n",
    "                  steps=1)   # steps is max number of training steps\n",
    "#     Take too much time for large number of steps... Can use 1 to 1000.\n",
    "    gpt2.generate(sess)\n",
    "    single_text = gpt2.generate(sess, return_as_list=True)\n",
    "    return single_text"
   ]
  },
  {
   "cell_type": "code",
   "execution_count": null,
   "metadata": {},
   "outputs": [],
   "source": []
  },
  {
   "cell_type": "code",
   "execution_count": 4,
   "metadata": {},
   "outputs": [],
   "source": [
    "df = pd.read_csv('../data/additional-features-v2/new/additional_features_TTR.tsv',sep='\\t')"
   ]
  },
  {
   "cell_type": "code",
   "execution_count": 5,
   "metadata": {},
   "outputs": [],
   "source": [
    "# df"
   ]
  },
  {
   "cell_type": "code",
   "execution_count": 6,
   "metadata": {},
   "outputs": [],
   "source": [
    "# df.columns"
   ]
  },
  {
   "cell_type": "code",
   "execution_count": 7,
   "metadata": {},
   "outputs": [],
   "source": [
    "# df[\"TTR'ed Text\"][0]"
   ]
  },
  {
   "cell_type": "code",
   "execution_count": 8,
   "metadata": {},
   "outputs": [
    {
     "name": "stdout",
     "output_type": "stream",
     "text": [
      "WARNING:tensorflow:From /Users/xiaoyuwang/.local/share/virtualenvs/DSCI-550-Assignment-2-f1o6Jtui/lib/python3.7/site-packages/gpt_2_simple/src/sample.py:17: where (from tensorflow.python.ops.array_ops) is deprecated and will be removed in a future version.\n",
      "Instructions for updating:\n",
      "Use tf.where in 2.0, which has the same broadcast rule as np.where\n",
      "Loading checkpoint checkpoint/run1/model-25\n",
      "INFO:tensorflow:Restoring parameters from checkpoint/run1/model-25\n"
     ]
    },
    {
     "name": "stderr",
     "output_type": "stream",
     "text": [
      "100%|██████████| 1/1 [00:00<00:00, 3196.88it/s]"
     ]
    },
    {
     "name": "stdout",
     "output_type": "stream",
     "text": [
      "Loading dataset...\n",
      "dataset has 1165 tokens\n",
      "Training...\n"
     ]
    },
    {
     "name": "stderr",
     "output_type": "stream",
     "text": [
      "\n"
     ]
    },
    {
     "name": "stdout",
     "output_type": "stream",
     "text": [
      "[26 | 53.04] loss=0.02 avg=0.02\n",
      "Saving checkpoint/run1/model-26\n",
      "In 2001, after witnessing some of the worst acts of terrorism to ever take place in the United States, I became the subject of a brutal and highly classified interrogation conducted by the CIA's Criminal Investigative Division.\n",
      "The interrogation involved interviewing former US Presidents Jimmy Carter and George Bush, as well as some of the most senior officials of both parties. The target was Osama bin Laden, the leader of the organization.\n",
      "The interrogation was carried out under the direct command of former United States Special Operations Command (SOCOM) director General David Petraeus.\n",
      "The interrogation involved three separate phases: (1) the questioning of several hundred individuals, (2) the apprehension and execution of approximately 20,000 people, and (3) the killing of approximately 20,000 others.\n",
      "The interrogation was conducted using a variety of methods including waterboarding, electric shocks, and other forms of physical violence.\n",
      "The subject was questioned by three separate federal prosecutors, each with specific criminal charges.\n",
      "The charges included conspiracy to commit terrorism, conspiracy to commit an organized crime syndicate, and conspiracy to commit a foreign terrorist organization.\n",
      "The charges were subsequently dropped after a thorough and thorough investigation by the CIA and the senior law enforcement officials involved in the case.\n",
      "The case was eventually concluded without incident, and the case was sealed on January 20, 2002.\n",
      "Since then, I have served as a Special Agent in Charge for the Special Operations Command (SOCOM) for the past 16 years.\n",
      "My primary responsibility is to protect the national security of the United States and its allies against any and all forms of physical, psychological, or chemical attack.\n",
      "I have also been assigned to the task of supervising the investigation and prosecution of all cases, including those involving injuries, deaths, or serious injuries.\n",
      "During my time working with the Special Operations Command, I have conducted over 16,000 hours of classified, unclassified intelligence, including classified briefings, surveillance reports, and sealed indictments.\n",
      "During my time there, I have been fully briefed on the nature of the investigation, the nature and extent of the crime, and the possible punishment. During my absence from the country, I have not been permitted access to any classified sources of information, including classified briefings or surveillance reports, concerning my involvement with the investigation.\n",
      "Since my appointment as a Special Agent, I have conducted my duties in a manner which respects both the privacy of my subordinates and the security of the United States. I have been informed of the nature of the investigation and of the possible punishment, and I have been given the opportunity to present my case to the appropriate authorities within the United States.\n",
      "Since my arrival at the country, I have been instructed by senior law enforcement officials that I am to be held responsible for any injury or death which may have occurred during the course of the investigation. I have been given the opportunity to present my case to the appropriate authorities within the United States. The investigation will then be led by a civilian judge, and I will then proceed to the disposition of the case. During my absence from the country, I have not been permitted access to any classified sources of information regarding my involvement with the investigation. I have been told that I have the right to present my case to the appropriate authorities within the United States. The case will then be dealt with by a civilian judge, subject to the approval of the court clerk. During my absence from the country, I have not been permitted access to any classified sources of information regarding my involvement with the investigation. I have been given the opportunity to present my case to the appropriate authorities within the United States. The case will then be dealt with by a military judge, subject to the approval of the court clerk. During my absence from the country, I have not been permitted access to any classified sources of information regarding my involvement with the investigation. I have been given the opportunity to present my case to the appropriate authorities within the United States. The case will then be dealt with by a civilian judge, subject to the approval of the court clerk. During my absence from the country, I have not been permitted access to any classified sources of information regarding my involvement with the investigation. I have been given the opportunity to present my case to the appropriate authorities within the United States. The case will then be dealt with by a military judge, subject to the approval of the court clerk. During my absence from the country, I have not been permitted access to any classified sources of information regarding my involvement with the investigation. I have been given the opportunity to present my case to the appropriate authorities within the United States. The case will then be dealt with by a civilian judge, subject to the approval of the court clerk. During my absence from the country, I have not been permitted access to any classified sources of information regarding my involvement with the investigation. I have been given the opportunity to present my case to the appropriate authorities within the United States. Since my arrival at the country, I have not been permitted access to any classified sources of information regarding my involvement with the investigation. I have been given the opportunity to\n"
     ]
    }
   ],
   "source": [
    "for i in range(800):\n",
    "    path = f'../data/additional-features-v2/new/content_txt/{i}.txt'\n",
    "    text = df[\"TTR'ed Text\"][i]\n",
    "    with open(path, 'w') as f:\n",
    "        f.write(text)\n",
    "    lis = grt_txt(path,'124M')\n",
    "    break"
   ]
  },
  {
   "cell_type": "code",
   "execution_count": 9,
   "metadata": {},
   "outputs": [
    {
     "data": {
      "text/plain": [
       "[\"NYC\\n\\nNewsweek\\n\\nFebruary 16, 2013\\nBERLIN\\n\\nJanuary 16, 2013\\nTHE INCIDENT OCCURRED IN OUR PRESENCE WHILE WE WERE HOLDING MEETING WITH HIS EXCELLENCY OVER THE FINANCIAL RETURNS FROM THE DIAMOND SALES IN THE AREAS CONTROLLED BY (D.R.C.) DEMOCRATIC REPUBLIC OF CONGO FORCES AND THEIR FOREIGN ALLIES ANGOLA AND ZIMBABWE, HAVING RECEIVED THE PREVIOUS DAY (USD$100M) ONE HUNDRED MILLION UNITED STATES DOLLARS, CASH IN THREE DIPLOMATIC BOXES ROUTED THROUGH ZIMBABWE. THE BOXES WERE KEPT UNDER MY CUSTODY WHEN THE SAD EVENT THAT TOOK THE LIFE OF (MR. PRESIDENT). THE CAUSE OF THE INCIDENT WAS A CONFUSION TO RELATE TO THE INCIDENT TOOK THE LIFE OF (MR. PRESIDEND ) TOOK THE LIFE OF (MR. MEMBER CONGOLESE ) AND ALSO TOOK THE RELATIONSHIP BETWEEN (MR. THE TRADE ASSISTANCE AND PARTNERSHIP ) AND WITH (MR. CIVIL LIBERTARIAN ASSISTANCE AND PARTNERSHIP ) AND ALSO TOOK THE RELATIONSHIP BETWEEN (MR. THE CIVIL LIBERTARIAN AND DIPLOMATIC BOXES ) AND WITH (MR. THE DIPLOMATIC BOXES) ABOVE THE TRUST BEHOLD THE (MR. CUSTODY ) MR. PRESIDEND KEPT UNDER MY CUSTODY WHEN THE SAD EVENT THAT TOOK THE LIFE OF (MR. ) TOOK THE LIFE OF (MR. HIS PARTNER ) TOOK THE RELATIONSHIP BETWEEN (MR. THE CIVIL LIBERTARIAN AND DIPLOMATIC BOXES ) AND WITH (MR. THE DIPLOMATIC BOXES) ABOVE THE TRUST BEHOLD THE (MR. HIS PARTNER ) THE SPORADIC SHOOTING LAND AS GOLDS WORTH (USD$25M) TWENTY FIVE MILLION UNITED STATES DOLLARS, CASH IN THREE DIPLOMATIC BOXES ROUTED THROUGH ZIMBABWE. THE BOXES WERE KEPT UNDER MY CUSTODY WHEN THE SAD EVENT THAT TOOK THE LIFE OF (MR. ) TOOK THE LIFE OF (MR. HIS PARTNER ) TOOK THE RELATIONSHIP BETWEEN (MR. THE CIVIL LIBERTARIAN AND DIPLOMATIC BOXES ) AND WITH (MR. THE DIPLOMATIC BOXES) ABOVE THE TRUST BEHOLD THE (MR. HIS PARTNER') SPORADIC SHOOTING LAND AS GOLDS WORTH (USD$25M) TWENTY FIVE MILLION UNITED STATES DOLLARS, CASH IN THREE DIPLOMATIC BOXES ROUTED THROUGH ZIMBABWE. THE BOXES WERE KEPT UNDER MY CUSTODY WHEN THE SAD EVENT THAT TOOK THE LIFE OF (MR. ) TOOK THE LIFE OF (MR.his PARTNER') SPORADIC SHOOTING LAND AS GOLDS WORTH (USD$25M) TWENTY FIVE MILLION UNITED STATES DOLLARS, CASH IN THREE DIPLOMATIC BOXES ROUTED THROUGH ZIMBABWE. THE BOXES WERE KEPT UNDER MY CUSTODY WHEN THE SAD EVENT THAT TOOK THE LIFE OF (MR. ) TOOK THE LIFE OF (MR.his PARTNER') SPORADIC SHOOTING LAND AS GOLDS WORTH (USD$25M) TWENTY FIVE MILLION UNITED STATES DOLLARS, CASH IN THREE DIPLOMATIC BOXES ROUTED THROUGH ZIMBABWE.<|endoftext|>A mysterious and incomprehensible creature known as the Yngvaldir appears in front of both the Great Hall and the Palace of Versailles.\\nBoss : I am Yngvaldir, the lord of this strange and mysterious city. I am the son of a nobleman and a slave trader, and I was raised in this city by my mother as a child. I have lived here since I was little, and I have always been devoted to my mother.\\nObjective : To achieve my objective, I will employ all my might to prevent the spread of evil in the city. I want to make sure that all my enemies, even those I love, do not escape my grasp, and I will bring them before my master, Count\"]"
      ]
     },
     "execution_count": 9,
     "metadata": {},
     "output_type": "execute_result"
    }
   ],
   "source": [
    "lis"
   ]
  },
  {
   "cell_type": "code",
   "execution_count": null,
   "metadata": {},
   "outputs": [],
   "source": []
  },
  {
   "cell_type": "code",
   "execution_count": null,
   "metadata": {},
   "outputs": [],
   "source": []
  },
  {
   "cell_type": "code",
   "execution_count": null,
   "metadata": {},
   "outputs": [],
   "source": []
  }
 ],
 "metadata": {
  "kernelspec": {
   "display_name": "py3.7",
   "language": "python",
   "name": "py3.7"
  },
  "language_info": {
   "codemirror_mode": {
    "name": "ipython",
    "version": 3
   },
   "file_extension": ".py",
   "mimetype": "text/x-python",
   "name": "python",
   "nbconvert_exporter": "python",
   "pygments_lexer": "ipython3",
   "version": "3.7.0-final"
  }
 },
 "nbformat": 4,
 "nbformat_minor": 5
}