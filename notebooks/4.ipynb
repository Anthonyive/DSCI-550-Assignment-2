{
 "cells": [
  {
   "cell_type": "markdown",
   "id": "unlikely-freeze",
   "metadata": {},
   "source": [
    "# Text Generate"
   ]
  },
  {
   "cell_type": "markdown",
   "id": "floating-assistant",
   "metadata": {},
   "source": [
    "\n",
    "### To use gpt2, python version 3.7 or below is required.\n",
    "### To install, use : pip install tensorflow==1.15\n",
    "### Don't forget to switch kernel before running"
   ]
  },
  {
   "cell_type": "code",
   "execution_count": 1,
   "id": "scientific-width",
   "metadata": {},
   "outputs": [
    {
     "name": "stdout",
     "output_type": "stream",
     "text": [
      "WARNING:tensorflow:\n",
      "The TensorFlow contrib module will not be included in TensorFlow 2.0.\n",
      "For more information, please see:\n",
      "  * https://github.com/tensorflow/community/blob/master/rfcs/20180907-contrib-sunset.md\n",
      "  * https://github.com/tensorflow/addons\n",
      "  * https://github.com/tensorflow/io (for I/O related ops)\n",
      "If you depend on functionality not listed there, please file an issue.\n",
      "\n"
     ]
    }
   ],
   "source": [
    "import gpt_2_simple as gpt2\n",
    "import os\n",
    "import requests\n",
    "import pandas as pd\n",
    "from tqdm.notebook import tqdm"
   ]
  },
  {
   "cell_type": "markdown",
   "id": "conditional-boundary",
   "metadata": {},
   "source": [
    "## Download the model"
   ]
  },
  {
   "cell_type": "code",
   "execution_count": 2,
   "id": "entitled-cotton",
   "metadata": {},
   "outputs": [],
   "source": [
    "model_name = \"124M\"\n",
    "if not os.path.isdir(os.path.join(\"Downloads\",\"models\", model_name)):\n",
    "    print(f\"Downloading {model_name} model...\")\n",
    "    gpt2.download_gpt2(model_dir='Downloads/models', model_name=model_name)   # model is saved into current directory under /models/124M/\n"
   ]
  },
  {
   "cell_type": "markdown",
   "id": "whole-bonus",
   "metadata": {},
   "source": [
    "## Input Email TTR'ed Dataset"
   ]
  },
  {
   "cell_type": "code",
   "execution_count": 3,
   "id": "convenient-equity",
   "metadata": {},
   "outputs": [],
   "source": [
    "def grt_txt(file_name,model_name,savepath):\n",
    "    sess = gpt2.start_tf_sess()\n",
    "    gpt2.finetune(sess,\n",
    "                  file_name,\n",
    "                  model_name=model_name,\n",
    "                  model_dir='Downloads/models',\n",
    "                  steps=20)   # steps is max number of training steps\n",
    "#     Take too much time for large number of steps... Can use 1 to 1000.\n",
    "\n",
    "    for i in tqdm(range(200)):\n",
    "        single_text = gpt2.generate(sess, return_as_list=True)\n",
    "        with open(f'{savepath}/{i}.txt','w') as file:\n",
    "            file.write(single_text[0])"
   ]
  },
  {
   "cell_type": "code",
   "execution_count": 4,
   "id": "vocal-cotton",
   "metadata": {},
   "outputs": [],
   "source": [
    "df = pd.read_csv('../data/additional-features-v2/new/additional_features_TTR.tsv',sep='\\t')"
   ]
  },
  {
   "cell_type": "code",
   "execution_count": null,
   "id": "associate-integration",
   "metadata": {},
   "outputs": [],
   "source": [
    "# text = grt_txt(\"../tests/test.txt\", '124M')"
   ]
  },
  {
   "cell_type": "code",
   "execution_count": null,
   "id": "catholic-extent",
   "metadata": {},
   "outputs": [],
   "source": [
    "# len(text)"
   ]
  },
  {
   "cell_type": "markdown",
   "id": "filled-basement",
   "metadata": {},
   "source": [
    "## This part is to get the 200 inital emails of each type of attack\n"
   ]
  },
  {
   "cell_type": "code",
   "execution_count": null,
   "id": "bizarre-width",
   "metadata": {},
   "outputs": [],
   "source": [
    "df.columns"
   ]
  },
  {
   "cell_type": "code",
   "execution_count": null,
   "id": "prompt-alliance",
   "metadata": {},
   "outputs": [],
   "source": [
    "types = df[['reconnaissance','social_engineering','malware','credential_phishing']]"
   ]
  },
  {
   "cell_type": "code",
   "execution_count": null,
   "id": "aging-burke",
   "metadata": {},
   "outputs": [],
   "source": [
    "types"
   ]
  },
  {
   "cell_type": "code",
   "execution_count": null,
   "id": "logical-canada",
   "metadata": {},
   "outputs": [],
   "source": [
    "value1 = types[types.sum(axis=1)==1]"
   ]
  },
  {
   "cell_type": "markdown",
   "id": "operational-telescope",
   "metadata": {},
   "source": [
    "#### Reconnaissance"
   ]
  },
  {
   "cell_type": "code",
   "execution_count": null,
   "id": "verbal-mattress",
   "metadata": {},
   "outputs": [],
   "source": [
    "value2_r = types[(types['reconnaissance']==1) & (types.sum(axis=1)==2)]"
   ]
  },
  {
   "cell_type": "code",
   "execution_count": null,
   "id": "liked-opera",
   "metadata": {},
   "outputs": [],
   "source": [
    "R1_index = value1[value1['reconnaissance']==1].index"
   ]
  },
  {
   "cell_type": "code",
   "execution_count": null,
   "id": "spectacular-membership",
   "metadata": {},
   "outputs": [],
   "source": [
    "R_list = []\n",
    "for i in R1_index:\n",
    "    R_list.append(i)"
   ]
  },
  {
   "cell_type": "code",
   "execution_count": null,
   "id": "personal-persian",
   "metadata": {},
   "outputs": [],
   "source": [
    "R2_index = value2_r.index\n",
    "temp = 0\n",
    "while len(R_list)< 200:\n",
    "    R_list.append(R2_index[temp])\n",
    "    temp += 1\n"
   ]
  },
  {
   "cell_type": "code",
   "execution_count": null,
   "id": "exclusive-calibration",
   "metadata": {},
   "outputs": [],
   "source": [
    "len(R_list)\n",
    "# R_list is the index of emails with attack reconnaissance"
   ]
  },
  {
   "cell_type": "code",
   "execution_count": null,
   "id": "empty-shareware",
   "metadata": {},
   "outputs": [],
   "source": [
    "R_txt = df[\"TTR'ed Text\"].loc[R_list]\n"
   ]
  },
  {
   "cell_type": "markdown",
   "id": "indonesian-manual",
   "metadata": {},
   "source": [
    "#### Social Engineering\n"
   ]
  },
  {
   "cell_type": "code",
   "execution_count": null,
   "id": "hindu-decade",
   "metadata": {},
   "outputs": [],
   "source": [
    "S1_index = value1[value1['social_engineering']==1].index"
   ]
  },
  {
   "cell_type": "code",
   "execution_count": null,
   "id": "prospective-language",
   "metadata": {},
   "outputs": [],
   "source": [
    "S_list = []\n",
    "for i in range(200):\n",
    "    S_list.append(S1_index[i])"
   ]
  },
  {
   "cell_type": "code",
   "execution_count": null,
   "id": "hourly-bridge",
   "metadata": {},
   "outputs": [],
   "source": [
    "len(S_list)"
   ]
  },
  {
   "cell_type": "code",
   "execution_count": null,
   "id": "designed-latest",
   "metadata": {},
   "outputs": [],
   "source": [
    "S_txt = df[\"TTR'ed Text\"].loc[S_list]\n"
   ]
  },
  {
   "cell_type": "markdown",
   "id": "competent-secretary",
   "metadata": {},
   "source": [
    "#### Malware"
   ]
  },
  {
   "cell_type": "code",
   "execution_count": null,
   "id": "overall-centre",
   "metadata": {},
   "outputs": [],
   "source": [
    "M1_index = value1[value1['malware']==1].index"
   ]
  },
  {
   "cell_type": "code",
   "execution_count": null,
   "id": "capital-affiliate",
   "metadata": {},
   "outputs": [],
   "source": [
    "value2_m = types[(types['malware']==1) & (types.sum(axis=1)==2)]"
   ]
  },
  {
   "cell_type": "code",
   "execution_count": null,
   "id": "weird-circular",
   "metadata": {},
   "outputs": [],
   "source": [
    "value3_m = types[(types['malware']==1) & (types.sum(axis=1)==3)]"
   ]
  },
  {
   "cell_type": "code",
   "execution_count": null,
   "id": "refined-questionnaire",
   "metadata": {},
   "outputs": [],
   "source": [
    "M_list = []"
   ]
  },
  {
   "cell_type": "code",
   "execution_count": null,
   "id": "vital-thanksgiving",
   "metadata": {},
   "outputs": [],
   "source": [
    "for i in M1_index:\n",
    "    M_list.append(i)\n",
    "for j in value2_m.index:\n",
    "    M_list.append(j)\n",
    "for k in value3_m.index:\n",
    "    if len(M_list) < 200:\n",
    "        M_list.append(k)\n",
    "    else:\n",
    "        break"
   ]
  },
  {
   "cell_type": "code",
   "execution_count": null,
   "id": "massive-cooler",
   "metadata": {},
   "outputs": [],
   "source": [
    "len(M_list)"
   ]
  },
  {
   "cell_type": "code",
   "execution_count": null,
   "id": "popular-penguin",
   "metadata": {},
   "outputs": [],
   "source": [
    "M_txt = df[\"TTR'ed Text\"].loc[M_list]\n"
   ]
  },
  {
   "cell_type": "markdown",
   "id": "nonprofit-majority",
   "metadata": {},
   "source": [
    "#### Credential Phishing\n"
   ]
  },
  {
   "cell_type": "code",
   "execution_count": null,
   "id": "published-python",
   "metadata": {},
   "outputs": [],
   "source": [
    "C1_index = value1[value1['credential_phishing']==1].index"
   ]
  },
  {
   "cell_type": "code",
   "execution_count": null,
   "id": "yellow-disorder",
   "metadata": {},
   "outputs": [],
   "source": [
    "C_list = []"
   ]
  },
  {
   "cell_type": "code",
   "execution_count": null,
   "id": "cosmetic-spouse",
   "metadata": {},
   "outputs": [],
   "source": [
    "for i in C1_index:\n",
    "    if len(C_list)<200:\n",
    "        C_list.append(i)"
   ]
  },
  {
   "cell_type": "code",
   "execution_count": null,
   "id": "close-thong",
   "metadata": {},
   "outputs": [],
   "source": [
    "len(C_list)"
   ]
  },
  {
   "cell_type": "code",
   "execution_count": null,
   "id": "offshore-detective",
   "metadata": {},
   "outputs": [],
   "source": [
    "C_txt = df[\"TTR'ed Text\"].loc[C_list]"
   ]
  },
  {
   "cell_type": "markdown",
   "id": "compressed-juvenile",
   "metadata": {},
   "source": [
    "#### Create Emails txt with different Attack type\n",
    "#### Delete the existing txt files before re-doing these\n"
   ]
  },
  {
   "cell_type": "code",
   "execution_count": null,
   "id": "actual-string",
   "metadata": {},
   "outputs": [],
   "source": [
    "attack=['reconnaissance','social_engineering','malware','credential_phishing']"
   ]
  },
  {
   "cell_type": "code",
   "execution_count": null,
   "id": "handmade-appointment",
   "metadata": {},
   "outputs": [],
   "source": [
    "# Reconnaissance\n",
    "# with open(f'../data/additional-features-v2/new/attack_Text/reconnaissance.txt','a+') as f:\n",
    "#     for i in R_txt:\n",
    "#         f.write(i)"
   ]
  },
  {
   "cell_type": "code",
   "execution_count": null,
   "id": "approved-foundation",
   "metadata": {},
   "outputs": [],
   "source": [
    "# Social Engineering\n",
    "# with open(f'../data/additional-features-v2/new/attack_Text/social_engineering.txt','a+') as f:\n",
    "#     for i in S_txt:\n",
    "#         f.write(i)"
   ]
  },
  {
   "cell_type": "code",
   "execution_count": null,
   "id": "sophisticated-instrumentation",
   "metadata": {},
   "outputs": [],
   "source": [
    "# Malware\n",
    "# with open(f'../data/additional-features-v2/new/attack_Text/malware.txt','a+') as f:\n",
    "#     for i in M_txt:\n",
    "#         f.write(i)"
   ]
  },
  {
   "cell_type": "code",
   "execution_count": null,
   "id": "received-madness",
   "metadata": {},
   "outputs": [],
   "source": [
    "# # Credential_phishing\n",
    "# with open(f'../data/additional-features-v2/new/attack_Text/Credential_phishing','a+') as f:\n",
    "#     for i in C_txt:\n",
    "#         f.write(i)"
   ]
  },
  {
   "cell_type": "markdown",
   "id": "homeless-candy",
   "metadata": {},
   "source": [
    "#### Text generating"
   ]
  },
  {
   "cell_type": "code",
   "execution_count": null,
   "id": "cutting-mounting",
   "metadata": {},
   "outputs": [
    {
     "name": "stdout",
     "output_type": "stream",
     "text": [
      "WARNING:tensorflow:From /Users/xiaoyuwang/.local/share/virtualenvs/DSCI-550-Assignment-2-f1o6Jtui/lib/python3.7/site-packages/gpt_2_simple/src/sample.py:17: where (from tensorflow.python.ops.array_ops) is deprecated and will be removed in a future version.\n",
      "Instructions for updating:\n",
      "Use tf.where in 2.0, which has the same broadcast rule as np.where\n",
      "Loading checkpoint checkpoint/run1/model-6\n",
      "INFO:tensorflow:Restoring parameters from checkpoint/run1/model-6\n"
     ]
    },
    {
     "name": "stderr",
     "output_type": "stream",
     "text": [
      "  0%|          | 0/1 [00:00<?, ?it/s]"
     ]
    },
    {
     "name": "stdout",
     "output_type": "stream",
     "text": [
      "Loading dataset...\n"
     ]
    },
    {
     "name": "stderr",
     "output_type": "stream",
     "text": [
      "100%|██████████| 1/1 [00:00<00:00,  1.28it/s]\n"
     ]
    },
    {
     "name": "stdout",
     "output_type": "stream",
     "text": [
      "dataset has 116204 tokens\n",
      "Training...\n",
      "[7 | 41.32] loss=3.14 avg=3.14\n",
      "[8 | 76.66] loss=2.83 avg=2.98\n",
      "[9 | 112.41] loss=3.41 avg=3.13\n",
      "[10 | 147.46] loss=3.14 avg=3.13\n",
      "[11 | 182.69] loss=2.90 avg=3.08\n",
      "[12 | 218.71] loss=3.14 avg=3.09\n",
      "[13 | 254.32] loss=2.77 avg=3.04\n",
      "[14 | 289.54] loss=3.10 avg=3.05\n",
      "[15 | 325.69] loss=2.98 avg=3.04\n",
      "[16 | 361.62] loss=3.20 avg=3.06\n",
      "[17 | 397.43] loss=3.22 avg=3.08\n",
      "[18 | 433.74] loss=2.77 avg=3.05\n",
      "[19 | 469.57] loss=2.75 avg=3.02\n",
      "[20 | 509.00] loss=2.60 avg=2.99\n",
      "[21 | 546.79] loss=3.05 avg=3.00\n",
      "[22 | 583.15] loss=3.48 avg=3.03\n",
      "[23 | 621.41] loss=3.18 avg=3.04\n",
      "[24 | 657.65] loss=3.17 avg=3.05\n",
      "[25 | 695.30] loss=2.58 avg=3.02\n",
      "[26 | 732.34] loss=2.79 avg=3.01\n",
      "Saving checkpoint/run1/model-26\n"
     ]
    },
    {
     "data": {
      "application/vnd.jupyter.widget-view+json": {
       "model_id": "e70b65e16855454d8ffb7dc618de9fcc",
       "version_major": 2,
       "version_minor": 0
      },
      "text/plain": [
       "  0%|          | 0/200 [00:00<?, ?it/s]"
      ]
     },
     "metadata": {},
     "output_type": "display_data"
    }
   ],
   "source": [
    "grt_txt(\"../data/additional-features-v2/new/attack_Text/reconnaissance.txt\", '124M','../data/additional-features-v2/new/Generated_text/Reconnaissance/')"
   ]
  },
  {
   "cell_type": "code",
   "execution_count": null,
   "id": "terminal-gibraltar",
   "metadata": {},
   "outputs": [],
   "source": [
    "grt_txt(\"../data/additional-features-v2/new/attack_Text/social_engineering.txt\", '124M','../data/additional-features-v2/new/Generated_text/Social_engineering/')"
   ]
  },
  {
   "cell_type": "code",
   "execution_count": null,
   "id": "removed-medium",
   "metadata": {},
   "outputs": [],
   "source": [
    "grt_txt(\"../data/additional-features-v2/new/attack_Text/malware.txt\", '124M','../data/additional-features-v2/new/Generated_text/Malware/')"
   ]
  },
  {
   "cell_type": "code",
   "execution_count": null,
   "id": "taken-indiana",
   "metadata": {},
   "outputs": [],
   "source": [
    "grt_txt(\"../data/additional-features-v2/new/attack_Text/Credential_phishing.txt\", '124M','../data/additional-features-v2/new/Generated_text/Credential_phishing/')"
   ]
  },
  {
   "cell_type": "code",
   "execution_count": null,
   "id": "sudden-delaware",
   "metadata": {},
   "outputs": [],
   "source": []
  },
  {
   "cell_type": "code",
   "execution_count": null,
   "id": "pleasant-member",
   "metadata": {},
   "outputs": [],
   "source": []
  }
 ],
 "metadata": {
  "kernelspec": {
   "display_name": "py3.7",
   "language": "python",
   "name": "py3.7"
  },
  "language_info": {
   "codemirror_mode": {
    "name": "ipython",
    "version": 3
   },
   "file_extension": ".py",
   "mimetype": "text/x-python",
   "name": "python",
   "nbconvert_exporter": "python",
   "pygments_lexer": "ipython3",
   "version": "3.7.0"
  }
 },
 "nbformat": 4,
 "nbformat_minor": 5
}
