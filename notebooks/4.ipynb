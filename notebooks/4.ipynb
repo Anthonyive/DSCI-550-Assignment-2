{
 "cells": [
  {
   "cell_type": "markdown",
   "id": "focal-shield",
   "metadata": {},
   "source": [
    "# Tika Parsing and TTR (Text-to-tag Ratio Algorithm Implementation)"
   ]
  },
  {
   "cell_type": "markdown",
   "id": "alert-gossip",
   "metadata": {},
   "source": [
    "## Tika Parsing"
   ]
  },
  {
   "cell_type": "code",
   "execution_count": 1,
   "id": "chicken-italy",
   "metadata": {},
   "outputs": [],
   "source": [
    "import tika"
   ]
  },
  {
   "cell_type": "code",
   "execution_count": 2,
   "id": "restricted-sharp",
   "metadata": {},
   "outputs": [],
   "source": [
    "tika.initVM()"
   ]
  },
  {
   "cell_type": "markdown",
   "id": "center-universe",
   "metadata": {},
   "source": [
    "```bash\n",
    "$ echo TIKA_VERSION=\"2.0.0-ALPHA\"\n",
    "```"
   ]
  },
  {
   "cell_type": "code",
   "execution_count": 3,
   "id": "better-dodge",
   "metadata": {},
   "outputs": [
    {
     "data": {
      "text/plain": [
       "'2.0.0-ALPHA'"
      ]
     },
     "execution_count": 3,
     "metadata": {},
     "output_type": "execute_result"
    }
   ],
   "source": [
    "import os\n",
    "os.getenv('TIKA_VERSION')"
   ]
  },
  {
   "cell_type": "code",
   "execution_count": 4,
   "id": "laden-terrain",
   "metadata": {
    "tags": []
   },
   "outputs": [],
   "source": [
    "from tika import parser\n",
    "parsed = parser.from_file('../data/fradulent_emails.txt', xmlContent=True)"
   ]
  },
  {
   "cell_type": "code",
   "execution_count": 5,
   "id": "employed-royalty",
   "metadata": {},
   "outputs": [],
   "source": [
    "import json\n",
    "with open(\"../data/tika-parsed/fradulent_emails_metadata.json\", \"w\") as f:\n",
    "    json.dump(parsed['metadata'], f)"
   ]
  },
  {
   "cell_type": "code",
   "execution_count": 6,
   "id": "necessary-affiliate",
   "metadata": {
    "tags": []
   },
   "outputs": [],
   "source": [
    "with open(\"../data/tika-parsed/fradulent_emails.xml\", \"w\") as f:\n",
    "    f.write(parsed['content'])"
   ]
  },
  {
   "cell_type": "code",
   "execution_count": 7,
   "id": "conservative-insert",
   "metadata": {},
   "outputs": [],
   "source": [
    "import re\n",
    "with open(\"../data/tika-parsed/fradulent_emails.xml\") as f:\n",
    "    splitted = re.findall(r'<html.*?>', f.read()) # check this: <html xmlns=\"http://www.w3.org/1999/xhtml\">\n",
    "    splitted = set(splitted).pop()\n",
    "    # rewind to the beginning\n",
    "    f.seek(0)\n",
    "    emails_wo_html_tag = f.read().split(splitted)\n",
    "    emails = [splitted+e for e in emails_wo_html_tag][1:] # remove the very first one because it only has the splitter"
   ]
  },
  {
   "cell_type": "code",
   "execution_count": 8,
   "id": "north-shape",
   "metadata": {},
   "outputs": [
    {
     "data": {
      "text/plain": [
       "4000"
      ]
     },
     "execution_count": 8,
     "metadata": {},
     "output_type": "execute_result"
    }
   ],
   "source": [
    "len(emails)"
   ]
  },
  {
   "cell_type": "markdown",
   "id": "precise-blend",
   "metadata": {},
   "source": [
    "### XML Syntax Error Checking"
   ]
  },
  {
   "cell_type": "code",
   "execution_count": 91,
   "id": "incorporate-preserve",
   "metadata": {},
   "outputs": [],
   "source": [
    "from lxml import etree\n",
    "for i,e in enumerate(emails):\n",
    "    try:\n",
    "        root = etree.fromstring(e)\n",
    "    except lxml.etree.XMLSyntaxError:\n",
    "        print('index', i, 'has XML syntax error')"
   ]
  },
  {
   "cell_type": "markdown",
   "id": "latest-sampling",
   "metadata": {},
   "source": [
    "### Save Separated XMLs"
   ]
  },
  {
   "cell_type": "code",
   "execution_count": 92,
   "id": "eleven-three",
   "metadata": {},
   "outputs": [],
   "source": [
    "import os\n",
    "PATH = '../data/tika-parsed/separated/'\n",
    "for i, e in enumerate(emails):\n",
    "    with open(os.path.join(PATH,str(i)+'.xml'), 'w') as f:\n",
    "        f.write(e)"
   ]
  },
  {
   "cell_type": "markdown",
   "id": "premier-prime",
   "metadata": {},
   "source": [
    "## TTR"
   ]
  },
  {
   "cell_type": "markdown",
   "id": "wireless-premiere",
   "metadata": {},
   "source": [
    "Relavant paper is in [here](https://www3.nd.edu/~tweninge/pubs/WH_TIR08.pdf)"
   ]
  },
  {
   "cell_type": "markdown",
   "id": "dietary-ownership",
   "metadata": {},
   "source": [
    "### Pseudocode"
   ]
  },
  {
   "cell_type": "markdown",
   "id": "solid-eligibility",
   "metadata": {},
   "source": [
    "![TTR-Pseudocode](img/TTR-Pseudocode.png)"
   ]
  },
  {
   "cell_type": "code",
   "execution_count": 26,
   "id": "statutory-designer",
   "metadata": {},
   "outputs": [
    {
     "name": "stdout",
     "output_type": "stream",
     "text": [
      "<html xmlns=\"http://www.w3.org/1999/xhtml\">\n",
      "\n",
      "<html xmlns=\"http://www.w3.org/1999/xhtml\">\n",
      "\n"
     ]
    }
   ],
   "source": [
    "with open(\"../data/tika-parsed/fradulent_emails.xml\") as f:\n",
    "    for line in f:\n",
    "        print(line)\n",
    "        break\n",
    "    \n",
    "    # re-read the file\n",
    "    f.seek(0)\n",
    "    \n",
    "    for line in f:\n",
    "        print(line)\n",
    "        break"
   ]
  },
  {
   "cell_type": "code",
   "execution_count": null,
   "id": "asian-florence",
   "metadata": {},
   "outputs": [],
   "source": []
  }
 ],
 "metadata": {
  "kernelspec": {
   "display_name": "dsci550-assignment2",
   "language": "python",
   "name": "dsci550-assignment2"
  },
  "language_info": {
   "codemirror_mode": {
    "name": "ipython",
    "version": 3
   },
   "file_extension": ".py",
   "mimetype": "text/x-python",
   "name": "python",
   "nbconvert_exporter": "python",
   "pygments_lexer": "ipython3",
   "version": "3.8.5"
  }
 },
 "nbformat": 4,
 "nbformat_minor": 5
}
