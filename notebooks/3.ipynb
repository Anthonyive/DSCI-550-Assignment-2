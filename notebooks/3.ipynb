{
 "cells": [
  {
   "cell_type": "markdown",
   "metadata": {},
   "source": [
    "# Tika Parsing and TTR (Text-to-tag Ratio Algorithm Implementation)"
   ]
  },
  {
   "cell_type": "markdown",
   "metadata": {},
   "source": [
    "## Tika Parsing"
   ]
  },
  {
   "cell_type": "code",
   "execution_count": 1,
   "metadata": {},
   "outputs": [],
   "source": [
    "import tika"
   ]
  },
  {
   "cell_type": "code",
   "execution_count": 2,
   "metadata": {},
   "outputs": [],
   "source": [
    "tika.initVM()"
   ]
  },
  {
   "cell_type": "code",
   "execution_count": 3,
   "metadata": {},
   "outputs": [],
   "source": [
    "import os\n",
    "os.getenv('TIKA_VERSION')"
   ]
  },
  {
   "cell_type": "code",
   "execution_count": 4,
   "metadata": {
    "tags": []
   },
   "outputs": [],
   "source": [
    "from tika import parser\n",
    "parsed = parser.from_file('../data/fradulent_emails.txt', xmlContent=True)"
   ]
  },
  {
   "cell_type": "code",
   "execution_count": 5,
   "metadata": {},
   "outputs": [],
   "source": [
    "import json\n",
    "with open(\"../data/tika-parsed/fradulent_emails_metadata.json\", \"w\") as f:\n",
    "    json.dump(parsed['metadata'], f)"
   ]
  },
  {
   "cell_type": "code",
   "execution_count": 6,
   "metadata": {
    "tags": []
   },
   "outputs": [],
   "source": [
    "with open(\"../data/tika-parsed/fradulent_emails.xhtml\", \"w\") as f:\n",
    "    f.write(parsed['content'])"
   ]
  },
  {
   "cell_type": "code",
   "execution_count": 7,
   "metadata": {},
   "outputs": [],
   "source": [
    "import re\n",
    "with open(\"../data/tika-parsed/fradulent_emails.xhtml\") as f:\n",
    "    # split the big xml file by the end of </html> tag\n",
    "    splitted = re.split(r'(<\\/html>)', f.read())\n",
    "    # emails join the odd ones with even ones\n",
    "    emails = [''.join((splitted[i],splitted[j])) for i, j in zip(range(0,len(splitted),2), range(1,len(splitted),2))]"
   ]
  },
  {
   "cell_type": "code",
   "execution_count": 8,
   "metadata": {},
   "outputs": [
    {
     "data": {
      "text/plain": [
       "4000"
      ]
     },
     "execution_count": 8,
     "metadata": {},
     "output_type": "execute_result"
    }
   ],
   "source": [
    "len(emails)"
   ]
  },
  {
   "cell_type": "markdown",
   "metadata": {},
   "source": [
    "### XML Syntax Error Checking"
   ]
  },
  {
   "cell_type": "code",
   "execution_count": 9,
   "metadata": {},
   "outputs": [
    {
     "name": "stdout",
     "output_type": "stream",
     "text": [
      "Error checking passed.\n"
     ]
    }
   ],
   "source": [
    "from lxml import etree\n",
    "for i,e in enumerate(emails):\n",
    "    try:\n",
    "        root = etree.fromstring(e)\n",
    "    except lxml.etree.XMLSyntaxError:\n",
    "        print('Error checking failed.')\n",
    "        print('Index', i, 'has XML syntax error')\n",
    "print('Error checking passed.')"
   ]
  },
  {
   "cell_type": "markdown",
   "metadata": {},
   "source": [
    "### Save Separated XMLs"
   ]
  },
  {
   "cell_type": "code",
   "execution_count": 10,
   "metadata": {},
   "outputs": [],
   "source": [
    "import os, codecs\n",
    "PATH = '../data/tika-parsed/separated/'\n",
    "for i, e in enumerate(emails):\n",
    "    with codecs.open(os.path.join(PATH,str(i)+'.xhtml'), 'w', 'utf-8') as f:\n",
    "        f.write(e)"
   ]
  },
  {
   "cell_type": "markdown",
   "metadata": {},
   "source": [
    "## Things to fix before TTR"
   ]
  },
  {
   "cell_type": "markdown",
   "metadata": {},
   "source": [
    "### Remove no content rows from assignment 1"
   ]
  },
  {
   "cell_type": "code",
   "execution_count": 11,
   "metadata": {
    "tags": []
   },
   "outputs": [],
   "source": [
    "PATH = '/Users/anthony/Documents/GitHub.nosync/DSCI-550-Assignment-1/data/separated_by_email'\n",
    "assignment1_wo_content = []\n",
    "for email in os.listdir(PATH):\n",
    "    if email.endswith('json'):\n",
    "        j = json.load(open(os.path.join(PATH,email)))\n",
    "        if 'X-TIKA:content' not in j:\n",
    "            assignment1_wo_content.append(email)\n",
    "\n",
    "assignment1_wo_content = list(map(lambda x: int(x.split('.')[0]), assignment1_wo_content))"
   ]
  },
  {
   "cell_type": "code",
   "execution_count": 12,
   "metadata": {},
   "outputs": [],
   "source": [
    "import pandas as pd\n",
    "\n",
    "df1 = pd.read_csv('../data/additional-features-v2/additional_features.tsv', sep='\\t')\n",
    "\n",
    "df1 = df1.loc[~df1.index.isin(assignment1_wo_content)] # remove rows that have no content\n",
    "\n",
    "df1 = df1.reset_index() # reset index\n",
    "\n",
    "df1 = df1.drop(['level_0', 'index'], axis=1)\n",
    "\n",
    "df1.to_csv('../data/additional-features-v2/new/additional_features_w_content.tsv', sep='\\t')"
   ]
  },
  {
   "cell_type": "code",
   "execution_count": 13,
   "metadata": {},
   "outputs": [
    {
     "data": {
      "text/plain": [
       "3992"
      ]
     },
     "execution_count": 13,
     "metadata": {},
     "output_type": "execute_result"
    }
   ],
   "source": [
    "len(df1)"
   ]
  },
  {
   "cell_type": "markdown",
   "metadata": {},
   "source": [
    "### Remove no content rows from assignment 2"
   ]
  },
  {
   "cell_type": "code",
   "execution_count": 15,
   "metadata": {},
   "outputs": [],
   "source": [
    "from lxml.html import fromstring\n",
    "PATH = '/Users/anthony/Documents/GitHub.nosync/DSCI-550-Assignment-2/data/tika-parsed/separated/'\n",
    "assignment2_wo_content = []\n",
    "for email in os.listdir(PATH):\n",
    "    if email.endswith('xhtml'):\n",
    "        with open(os.path.join(PATH, email)) as f:\n",
    "            tree = fromstring(f.read())\n",
    "\n",
    "        if not tree.text_content().strip():\n",
    "            assignment2_wo_content.append(email)\n",
    "\n",
    "assignment2_wo_content = list(map(lambda x: int(x.split('.')[0]), assignment2_wo_content))"
   ]
  },
  {
   "cell_type": "code",
   "execution_count": 16,
   "metadata": {},
   "outputs": [],
   "source": [
    "import pandas as pd, os\n",
    "\n",
    "PATH = '/Users/anthony/Documents/GitHub.nosync/DSCI-550-Assignment-2/data/tika-parsed/separated/'\n",
    "emails = [f for f in os.listdir(PATH) if not f.startswith('.')]\n",
    "numbers = list(map(lambda x: int(x.split('.')[0]), emails))\n",
    "# pd.DataFrame(pd.Series())"
   ]
  },
  {
   "cell_type": "code",
   "execution_count": 17,
   "metadata": {},
   "outputs": [],
   "source": [
    "df2 = pd.DataFrame(pd.Series(sorted(numbers)))"
   ]
  },
  {
   "cell_type": "code",
   "execution_count": 18,
   "metadata": {},
   "outputs": [],
   "source": [
    "df2 = df2.loc[~df2.index.isin(assignment2_wo_content)] # remove rows that have no content\n",
    "\n",
    "df2 = df2.reset_index() # reset index"
   ]
  },
  {
   "cell_type": "code",
   "execution_count": 19,
   "metadata": {},
   "outputs": [
    {
     "data": {
      "text/plain": [
       "3992"
      ]
     },
     "execution_count": 19,
     "metadata": {},
     "output_type": "execute_result"
    }
   ],
   "source": [
    "len(df2)"
   ]
  },
  {
   "cell_type": "markdown",
   "metadata": {},
   "source": [
    "### Mapping"
   ]
  },
  {
   "cell_type": "code",
   "execution_count": 20,
   "metadata": {},
   "outputs": [],
   "source": [
    "df2 = df2.drop([0], axis=1)"
   ]
  },
  {
   "cell_type": "code",
   "execution_count": 21,
   "metadata": {},
   "outputs": [],
   "source": [
    "df2.columns = ['mapping']"
   ]
  },
  {
   "cell_type": "code",
   "execution_count": 22,
   "metadata": {},
   "outputs": [],
   "source": [
    "mapping = json.loads(df2.to_json())['mapping']\n",
    "mapping = {y:int(x) for x,y in mapping.items()} # switch keys and values\n",
    "# explaination: since the indices were messed up, I will introduce a mapping dictionary where \n",
    "# its values are the common indices, and its keys are the indices from assignment 2 tika-parsed and \n",
    "# separated emails"
   ]
  },
  {
   "cell_type": "code",
   "execution_count": 23,
   "metadata": {},
   "outputs": [
    {
     "data": {
      "text/plain": [
       "3992"
      ]
     },
     "execution_count": 23,
     "metadata": {},
     "output_type": "execute_result"
    }
   ],
   "source": [
    "len(mapping)"
   ]
  },
  {
   "cell_type": "markdown",
   "metadata": {},
   "source": [
    "## TTR"
   ]
  },
  {
   "cell_type": "markdown",
   "metadata": {},
   "source": [
    "Relavant paper is in [here](https://www3.nd.edu/~tweninge/pubs/WH_TIR08.pdf)"
   ]
  },
  {
   "cell_type": "markdown",
   "metadata": {},
   "source": [
    "### Pseudocode"
   ]
  },
  {
   "cell_type": "markdown",
   "metadata": {},
   "source": [
    "![TTR-Pseudocode](img/TTR-Pseudocode.png)"
   ]
  },
  {
   "cell_type": "markdown",
   "metadata": {},
   "source": [
    "I have implemented `TTR` in the `utils` module (in `src`)"
   ]
  },
  {
   "cell_type": "code",
   "execution_count": 24,
   "metadata": {},
   "outputs": [],
   "source": [
    "import sys, os\n",
    "\n",
    "sys.path.append('../src/')"
   ]
  },
  {
   "cell_type": "code",
   "execution_count": 25,
   "metadata": {},
   "outputs": [],
   "source": [
    "from utils import TTR"
   ]
  },
  {
   "cell_type": "code",
   "execution_count": 26,
   "metadata": {},
   "outputs": [],
   "source": [
    "import pandas as pd\n",
    "df = pd.read_csv('../data/additional-features-v2/new/additional_features_w_content.tsv',sep='\\t')"
   ]
  },
  {
   "cell_type": "code",
   "execution_count": 27,
   "metadata": {},
   "outputs": [
    {
     "data": {
      "application/vnd.jupyter.widget-view+json": {
       "model_id": "49901e3c011d4b63bd525b854401220c",
       "version_major": 2,
       "version_minor": 0
      },
      "text/plain": [
       "  0%|          | 0/3992 [00:00<?, ?it/s]"
      ]
     },
     "metadata": {},
     "output_type": "display_data"
    }
   ],
   "source": [
    "from tqdm.notebook import tqdm\n",
    "PATH = '../data/tika-parsed/separated/'\n",
    "for emailN, index in tqdm(mapping.items()):\n",
    "    TTRArray, content = TTR(os.path.join(PATH, str(emailN) + '.xhtml'), \n",
    "                            extract_content=True, \n",
    "                            threshold=3)\n",
    "    df.loc[df.index[index], \"TTR'ed Text\"] = content"
   ]
  },
  {
   "cell_type": "code",
   "execution_count": 29,
   "metadata": {},
   "outputs": [],
   "source": [
    "df.to_csv('../data/additional-features-v2/new/additional_features_TTR.tsv',sep='\\t')"
   ]
  },
  {
   "cell_type": "code",
   "execution_count": null,
   "metadata": {},
   "outputs": [],
   "source": []
  }
 ],
 "metadata": {
  "kernelspec": {
   "display_name": "Python 3",
   "language": "python",
   "name": "python3"
  },
  "language_info": {
   "codemirror_mode": {
    "name": "ipython",
    "version": 3
   },
   "file_extension": ".py",
   "mimetype": "text/x-python",
   "name": "python",
   "nbconvert_exporter": "python",
   "pygments_lexer": "ipython3",
   "version": "3.8.3"
  }
 },
 "nbformat": 4,
 "nbformat_minor": 5
}
