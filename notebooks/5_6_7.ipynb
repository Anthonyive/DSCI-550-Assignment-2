{
 "cells": [
  {
   "cell_type": "markdown",
   "id": "derived-theorem",
   "metadata": {},
   "source": [
    "### to run this notebook, you need: python 3.7, tensorflow 2.2.0, numpy 1.19.0 or earlier\n",
    "#### for the other libraries, the most recent versions are compatible with this notebook"
   ]
  },
  {
   "cell_type": "markdown",
   "id": "animal-halifax",
   "metadata": {},
   "source": [
    "## Imports"
   ]
  },
  {
   "cell_type": "code",
   "execution_count": 1,
   "id": "buried-employer",
   "metadata": {
    "scrolled": true
   },
   "outputs": [],
   "source": [
    "# great example here: \n",
    "# https://idiotdeveloper.com/dcgan-implementing-deep-convolutional-generative-adversarial-network-in-tensorflow/\n",
    "import numpy as np\n",
    "import matplotlib.pyplot as plt\n",
    "import tensorflow as tf\n",
    "from tensorflow.keras.layers import *\n",
    "from tensorflow.keras.models import Model\n",
    "from tensorflow.keras.optimizers import Adam\n",
    "import cv2\n",
    "import os\n",
    "from glob import glob\n",
    "from matplotlib import pyplot\n",
    "from sklearn.utils import shuffle\n",
    "from tqdm.notebook import tqdm"
   ]
  },
  {
   "cell_type": "markdown",
   "id": "satisfied-carbon",
   "metadata": {},
   "source": [
    "## GPU Support"
   ]
  },
  {
   "cell_type": "code",
   "execution_count": 2,
   "id": "acute-measurement",
   "metadata": {},
   "outputs": [],
   "source": [
    "import tensorflow as tf\n",
    "gpus = tf.config.experimental.list_physical_devices('GPU')\n",
    "if gpus:\n",
    "    try:\n",
    "        for gpu in gpus:\n",
    "            tf.config.experimental.set_memory_growth(gpu, True)\n",
    "    except RuntimeError as e:\n",
    "        print(e)"
   ]
  },
  {
   "cell_type": "markdown",
   "id": "anonymous-piano",
   "metadata": {},
   "source": [
    "## Download Dataset"
   ]
  },
  {
   "cell_type": "code",
   "execution_count": 3,
   "id": "fatty-finland",
   "metadata": {},
   "outputs": [],
   "source": [
    "# https://drive.google.com/file/d/153i0Xz1osgqKeRG5ImbUUAf2pGMYtRmw/view?usp=sharing\n",
    "import gdown\n",
    "\n",
    "url = 'https://drive.google.com/uc?id=153i0Xz1osgqKeRG5ImbUUAf2pGMYtRmw'\n",
    "output = '../data/phishIRIS_DL_Dataset.zip'\n",
    "\n",
    "if not os.path.exists(output):\n",
    "    gdown.download(url, output, quiet=False)"
   ]
  },
  {
   "cell_type": "code",
   "execution_count": 4,
   "id": "ordinary-mobility",
   "metadata": {},
   "outputs": [],
   "source": [
    "from zipfile import ZipFile\n",
    "\n",
    "with ZipFile(output, 'r') as zipObj:\n",
    "   # Extract all the contents of zip file in current directory\n",
    "   zipObj.extractall('../data/')"
   ]
  },
  {
   "cell_type": "code",
   "execution_count": 20,
   "id": "unlike-workstation",
   "metadata": {},
   "outputs": [],
   "source": [
    "from pathlib import Path\n",
    "Path('../models').mkdir(parents=True, exist_ok=True)\n",
    "Path('../models/saved_model').mkdir(parents=True, exist_ok=True)\n",
    "Path('../models/samples').mkdir(parents=True, exist_ok=True)"
   ]
  },
  {
   "cell_type": "code",
   "execution_count": 21,
   "id": "precious-calgary",
   "metadata": {},
   "outputs": [],
   "source": [
    "# hyperparameters\n",
    "IMG_H = 64\n",
    "IMG_W = 64\n",
    "IMG_C = 3\n",
    "batch_size = 128\n",
    "latent_dim = 128\n",
    "num_epochs = 2000\n",
    "# images_path = glob(\"data/*\")\n",
    "category = 'reconnaissance' # either reconnaissance, malware, credencial_phishing, or social _engineering\n",
    "images_path = glob(f'../data/phishIRIS_DL_Dataset/train_classified/{category}/*')"
   ]
  },
  {
   "cell_type": "code",
   "execution_count": 22,
   "id": "blocked-command",
   "metadata": {},
   "outputs": [],
   "source": [
    "# remove models\n",
    "try:\n",
    "    for model in glob('../models/saved_model/*'):\n",
    "        os.remove(model)\n",
    "except OSError:\n",
    "    pass"
   ]
  },
  {
   "cell_type": "code",
   "execution_count": 23,
   "id": "confused-hungary",
   "metadata": {},
   "outputs": [],
   "source": [
    "w_init = tf.keras.initializers.RandomNormal(mean=0.0, stddev=0.02)"
   ]
  },
  {
   "cell_type": "code",
   "execution_count": 24,
   "id": "rising-updating",
   "metadata": {},
   "outputs": [],
   "source": [
    "def load_image(image_path):\n",
    "    img = tf.io.read_file(image_path)\n",
    "    img = tf.io.decode_jpeg(img)\n",
    "    img = tf.image.resize_with_crop_or_pad(img, IMG_H, IMG_W)\n",
    "    img = tf.cast(img, tf.float32)\n",
    "    img = (img - 127.5) / 127.5\n",
    "    # resize image\n",
    "    img = img[:, :, :3]\n",
    "    return img"
   ]
  },
  {
   "cell_type": "code",
   "execution_count": 25,
   "id": "polished-microwave",
   "metadata": {},
   "outputs": [],
   "source": [
    "def tf_dataset(images_path, batch_size):\n",
    "    dataset = tf.data.Dataset.from_tensor_slices(images_path)\n",
    "    dataset = dataset.shuffle(buffer_size=10240)\n",
    "    dataset = dataset.map(load_image, num_parallel_calls=tf.data.experimental.AUTOTUNE)\n",
    "    dataset = dataset.batch(batch_size)\n",
    "    dataset = dataset.prefetch(buffer_size=tf.data.experimental.AUTOTUNE)\n",
    "    return dataset"
   ]
  },
  {
   "cell_type": "code",
   "execution_count": 26,
   "id": "future-slave",
   "metadata": {},
   "outputs": [],
   "source": [
    "def deconv_block(inputs, num_filters, kernel_size, strides, bn=True):\n",
    "    x = Conv2DTranspose(\n",
    "        filters=num_filters,\n",
    "        kernel_size=kernel_size,\n",
    "        kernel_initializer=w_init,\n",
    "        padding=\"same\",\n",
    "        strides=strides,\n",
    "        use_bias=False\n",
    "        )(inputs)\n",
    "\n",
    "    if bn:\n",
    "        x = BatchNormalization()(x)\n",
    "        x = LeakyReLU(alpha=0.2)(x)\n",
    "    return x"
   ]
  },
  {
   "cell_type": "code",
   "execution_count": 27,
   "id": "revised-concert",
   "metadata": {},
   "outputs": [],
   "source": [
    "def conv_block(inputs, num_filters, kernel_size, padding=\"same\", strides=2, activation=True):\n",
    "    x = Conv2D(\n",
    "        filters=num_filters,\n",
    "        kernel_size=kernel_size,\n",
    "        kernel_initializer=w_init,\n",
    "        padding=padding,\n",
    "        strides=strides,\n",
    "    )(inputs)\n",
    "\n",
    "    if activation:\n",
    "        x = LeakyReLU(alpha=0.2)(x)\n",
    "        x = Dropout(0.3)(x)\n",
    "    return x"
   ]
  },
  {
   "cell_type": "code",
   "execution_count": 28,
   "id": "quantitative-helen",
   "metadata": {},
   "outputs": [],
   "source": [
    "def build_generator(latent_dim):\n",
    "    f = [2**i for i in range(5)][::-1]\n",
    "    filters = 32\n",
    "    output_strides = 16\n",
    "    h_output = IMG_H // output_strides\n",
    "    w_output = IMG_W // output_strides\n",
    "\n",
    "    noise = Input(shape=(latent_dim,), name=\"generator_noise_input\")\n",
    "\n",
    "    x = Dense(f[0] * filters * h_output * w_output, use_bias=False)(noise)\n",
    "    x = BatchNormalization()(x)\n",
    "    x = LeakyReLU(alpha=0.2)(x)\n",
    "    x = Reshape((h_output, w_output, 16 * filters))(x)\n",
    "\n",
    "    for i in range(1, 5):\n",
    "        x = deconv_block(x,\n",
    "            num_filters=f[i] * filters,\n",
    "            kernel_size=5,\n",
    "            strides=2,\n",
    "            bn=True\n",
    "        )\n",
    "\n",
    "    x = conv_block(x,\n",
    "        num_filters=3,\n",
    "        kernel_size=5,\n",
    "        strides=1,\n",
    "        activation=False\n",
    "    )\n",
    "    fake_output = Activation(\"tanh\")(x)\n",
    "\n",
    "    return Model(noise, fake_output, name=\"generator\")"
   ]
  },
  {
   "cell_type": "code",
   "execution_count": 29,
   "id": "molecular-healthcare",
   "metadata": {},
   "outputs": [],
   "source": [
    "def build_discriminator():\n",
    "    f = [2**i for i in range(4)]\n",
    "    image_input = Input(shape=(IMG_H, IMG_W, IMG_C))\n",
    "    x = image_input\n",
    "    filters = 64\n",
    "    output_strides = 16\n",
    "    h_output = IMG_H // output_strides\n",
    "    w_output = IMG_W // output_strides\n",
    "\n",
    "    for i in range(0, 4):\n",
    "        x = conv_block(x, num_filters=f[i] * filters, kernel_size=5, strides=2)\n",
    "\n",
    "    x = Flatten()(x)\n",
    "    x = Dense(1)(x)\n",
    "\n",
    "    return Model(image_input, x, name=\"discriminator\")"
   ]
  },
  {
   "cell_type": "code",
   "execution_count": 30,
   "id": "religious-tolerance",
   "metadata": {},
   "outputs": [],
   "source": [
    "class GAN(Model):\n",
    "    def __init__(self, discriminator, generator, latent_dim):\n",
    "        super(GAN, self).__init__()\n",
    "        self.discriminator = discriminator\n",
    "        self.generator = generator\n",
    "        self.latent_dim = latent_dim\n",
    "\n",
    "    def compile(self, d_optimizer, g_optimizer, loss_fn):\n",
    "        super(GAN, self).compile()\n",
    "        self.d_optimizer = d_optimizer\n",
    "        self.g_optimizer = g_optimizer\n",
    "        self.loss_fn = loss_fn\n",
    "\n",
    "    def train_step(self, real_images):\n",
    "        batch_size = tf.shape(real_images)[0]\n",
    "\n",
    "        for _ in range(2):\n",
    "            ## Train the discriminator\n",
    "            random_latent_vectors = tf.random.normal(shape=(batch_size, self.latent_dim))\n",
    "            generated_images = self.generator(random_latent_vectors)\n",
    "            generated_labels = tf.zeros((batch_size, 1))\n",
    "\n",
    "            with tf.GradientTape() as ftape:\n",
    "                predictions = self.discriminator(generated_images)\n",
    "                d1_loss = self.loss_fn(generated_labels, predictions)\n",
    "            grads = ftape.gradient(d1_loss, self.discriminator.trainable_weights)\n",
    "            self.d_optimizer.apply_gradients(zip(grads, self.discriminator.trainable_weights))\n",
    "\n",
    "            ## Train the discriminator\n",
    "            labels = tf.ones((batch_size, 1))\n",
    "\n",
    "            with tf.GradientTape() as rtape:\n",
    "                predictions = self.discriminator(real_images)\n",
    "                d2_loss = self.loss_fn(labels, predictions)\n",
    "            grads = rtape.gradient(d2_loss, self.discriminator.trainable_weights)\n",
    "            self.d_optimizer.apply_gradients(zip(grads, self.discriminator.trainable_weights))\n",
    "\n",
    "        ## Train the generator\n",
    "        random_latent_vectors = tf.random.normal(shape=(batch_size, self.latent_dim))\n",
    "        misleading_labels = tf.ones((batch_size, 1))\n",
    "\n",
    "        with tf.GradientTape() as gtape:\n",
    "            predictions = self.discriminator(self.generator(random_latent_vectors))\n",
    "            g_loss = self.loss_fn(misleading_labels, predictions)\n",
    "        grads = gtape.gradient(g_loss, self.generator.trainable_weights)\n",
    "        self.g_optimizer.apply_gradients(zip(grads, self.generator.trainable_weights))\n",
    "\n",
    "        return {\"d1_loss\": d1_loss, \"d2_loss\": d2_loss, \"g_loss\": g_loss}"
   ]
  },
  {
   "cell_type": "code",
   "execution_count": 31,
   "id": "personalized-boring",
   "metadata": {},
   "outputs": [],
   "source": [
    "def save_plot(examples, epoch, n):\n",
    "    examples = (examples + 1) / 2.0\n",
    "    for i in range(n * n):\n",
    "        pyplot.subplot(n, n, i+1)\n",
    "        pyplot.axis(\"off\")\n",
    "        pyplot.imshow(examples[i])\n",
    "    filename = f\"../models/samples/generated_plot_epoch-{epoch+1}.png\"\n",
    "    pyplot.savefig(filename)\n",
    "    pyplot.close()"
   ]
  },
  {
   "cell_type": "code",
   "execution_count": 32,
   "id": "norwegian-colleague",
   "metadata": {},
   "outputs": [],
   "source": [
    "def generate_test_image(model, noise_dim=latent_dim):\n",
    "    test_input = tf.random.normal([1, noise_dim])\n",
    "    # Notice `training` is set to False.\n",
    "    # This is so all layers run in inference mode (batchnorm).\n",
    "    predictions = model(test_input, training=False)\n",
    "    fig = plt.figure(figsize=(5,5))\n",
    "    plt.imshow((predictions[0, :, :, :] * 127.5 + 127.5) / 255.)\n",
    "    plt.axis('off') \n",
    "    plt.show()"
   ]
  },
  {
   "cell_type": "code",
   "execution_count": 33,
   "id": "postal-cabinet",
   "metadata": {},
   "outputs": [],
   "source": [
    "def generate_and_show_images(generator, noise_dim=latent_dim, rows=4, cols=4):\n",
    "    predictions = generator(tf.random.normal([16, noise_dim]))\n",
    "    print(predictions.shape)\n",
    "    fig = plt.figure(figsize=(9,9))\n",
    "    for i in range(predictions.shape[0]):\n",
    "        plt.subplot(rows, cols, i+1)\n",
    "        plt.imshow((predictions[i, :, :, :] * 127.5 + 127.5) / 255.)\n",
    "        plt.axis('off') \n",
    "        \n",
    "    plt.subplots_adjust(wspace=0, hspace=0)\n",
    "    plt.show()"
   ]
  },
  {
   "cell_type": "code",
   "execution_count": 34,
   "id": "subtle-bennett",
   "metadata": {
    "scrolled": true
   },
   "outputs": [
    {
     "data": {
      "application/vnd.jupyter.widget-view+json": {
       "model_id": "ef9ce4efe2614d72abd221c3491de2d6",
       "version_major": 2,
       "version_minor": 0
      },
      "text/plain": [
       "  0%|          | 0/2000 [00:00<?, ?it/s]"
      ]
     },
     "metadata": {},
     "output_type": "display_data"
    },
    {
     "name": "stdout",
     "output_type": "stream",
     "text": [
      "4/4 [==============================] - 1s 163ms/step - d1_loss: 0.6587 - d2_loss: 0.2716 - g_loss: 0.7660\n",
      "4/4 [==============================] - 1s 161ms/step - d1_loss: 0.2610 - d2_loss: 0.2319 - g_loss: 2.5296\n",
      "4/4 [==============================] - 1s 164ms/step - d1_loss: 0.2519 - d2_loss: 0.2234 - g_loss: 3.1125\n",
      "4/4 [==============================] - 1s 159ms/step - d1_loss: 0.2183 - d2_loss: 0.2478 - g_loss: 2.6819\n",
      "4/4 [==============================] - 1s 161ms/step - d1_loss: 0.2142 - d2_loss: 0.2523 - g_loss: 2.6671\n",
      "4/4 [==============================] - 1s 165ms/step - d1_loss: 0.3921 - d2_loss: 0.3524 - g_loss: 3.9264\n",
      "4/4 [==============================] - 1s 161ms/step - d1_loss: 0.3259 - d2_loss: 0.2618 - g_loss: 2.6557\n",
      "4/4 [==============================] - 1s 164ms/step - d1_loss: 0.4185 - d2_loss: 0.3026 - g_loss: 1.5881\n",
      "4/4 [==============================] - 1s 168ms/step - d1_loss: 0.3579 - d2_loss: 0.2227 - g_loss: 1.7900\n",
      "4/4 [==============================] - 1s 163ms/step - d1_loss: 0.2888 - d2_loss: 0.2355 - g_loss: 1.9203\n",
      "4/4 [==============================] - 1s 163ms/step - d1_loss: 0.3444 - d2_loss: 0.2755 - g_loss: 1.7408\n",
      "4/4 [==============================] - 1s 164ms/step - d1_loss: 0.2773 - d2_loss: 0.3688 - g_loss: 1.5100\n",
      "4/4 [==============================] - 1s 163ms/step - d1_loss: 0.2897 - d2_loss: 0.4916 - g_loss: 1.4251\n",
      "4/4 [==============================] - 1s 159ms/step - d1_loss: 0.3896 - d2_loss: 0.5944 - g_loss: 1.2742\n",
      "4/4 [==============================] - 1s 161ms/step - d1_loss: 0.3707 - d2_loss: 0.5914 - g_loss: 1.1841\n",
      "4/4 [==============================] - 1s 161ms/step - d1_loss: 0.3596 - d2_loss: 0.5800 - g_loss: 1.2693\n",
      "4/4 [==============================] - 1s 166ms/step - d1_loss: 0.3684 - d2_loss: 0.6148 - g_loss: 1.1701\n",
      "4/4 [==============================] - 1s 160ms/step - d1_loss: 0.3772 - d2_loss: 0.5827 - g_loss: 1.2536\n",
      "4/4 [==============================] - 1s 161ms/step - d1_loss: 0.3603 - d2_loss: 0.5622 - g_loss: 1.2890\n",
      "4/4 [==============================] - 1s 162ms/step - d1_loss: 0.3488 - d2_loss: 0.5589 - g_loss: 1.3078\n",
      "4/4 [==============================] - 1s 161ms/step - d1_loss: 0.3672 - d2_loss: 0.5552 - g_loss: 1.2584\n",
      "4/4 [==============================] - 1s 160ms/step - d1_loss: 0.3522 - d2_loss: 0.5433 - g_loss: 1.3439\n",
      "4/4 [==============================] - 1s 160ms/step - d1_loss: 0.3406 - d2_loss: 0.5388 - g_loss: 1.3643\n",
      "4/4 [==============================] - 1s 160ms/step - d1_loss: 0.3407 - d2_loss: 0.5507 - g_loss: 1.2566\n",
      "4/4 [==============================] - 1s 160ms/step - d1_loss: 0.3474 - d2_loss: 0.5709 - g_loss: 1.3412\n",
      "4/4 [==============================] - 1s 162ms/step - d1_loss: 0.3585 - d2_loss: 0.6372 - g_loss: 1.3070\n",
      "4/4 [==============================] - 1s 162ms/step - d1_loss: 0.3739 - d2_loss: 0.6196 - g_loss: 1.2113\n",
      "4/4 [==============================] - 1s 161ms/step - d1_loss: 0.3566 - d2_loss: 0.5376 - g_loss: 1.2629\n",
      "4/4 [==============================] - 1s 166ms/step - d1_loss: 0.3467 - d2_loss: 0.5374 - g_loss: 1.3171\n",
      "4/4 [==============================] - 1s 162ms/step - d1_loss: 0.3594 - d2_loss: 0.5578 - g_loss: 1.3285\n",
      "4/4 [==============================] - 1s 164ms/step - d1_loss: 0.3532 - d2_loss: 0.5452 - g_loss: 1.3133\n",
      "4/4 [==============================] - 1s 161ms/step - d1_loss: 0.3401 - d2_loss: 0.5455 - g_loss: 1.3027\n",
      "4/4 [==============================] - 1s 166ms/step - d1_loss: 0.3561 - d2_loss: 0.5540 - g_loss: 1.3050\n",
      "4/4 [==============================] - 1s 164ms/step - d1_loss: 0.3371 - d2_loss: 0.5130 - g_loss: 1.0384\n",
      "4/4 [==============================] - 1s 162ms/step - d1_loss: 0.3930 - d2_loss: 0.6844 - g_loss: 1.2213\n",
      "4/4 [==============================] - 1s 167ms/step - d1_loss: 0.3746 - d2_loss: 0.5462 - g_loss: 1.2489\n",
      "4/4 [==============================] - 1s 162ms/step - d1_loss: 0.3661 - d2_loss: 0.5430 - g_loss: 1.2960\n",
      "4/4 [==============================] - 1s 163ms/step - d1_loss: 0.3411 - d2_loss: 0.5424 - g_loss: 1.3250\n",
      "4/4 [==============================] - 1s 165ms/step - d1_loss: 0.3560 - d2_loss: 0.5355 - g_loss: 1.3083\n",
      "4/4 [==============================] - 1s 164ms/step - d1_loss: 0.3409 - d2_loss: 0.5422 - g_loss: 1.3547\n",
      "4/4 [==============================] - 1s 162ms/step - d1_loss: 0.3338 - d2_loss: 0.5053 - g_loss: 1.3813\n",
      "4/4 [==============================] - 1s 161ms/step - d1_loss: 0.3256 - d2_loss: 0.5259 - g_loss: 1.4045\n",
      "4/4 [==============================] - 1s 161ms/step - d1_loss: 0.3421 - d2_loss: 0.5665 - g_loss: 1.2773\n",
      "4/4 [==============================] - 1s 161ms/step - d1_loss: 0.3521 - d2_loss: 0.5357 - g_loss: 1.3241\n",
      "4/4 [==============================] - 1s 162ms/step - d1_loss: 0.3349 - d2_loss: 0.5163 - g_loss: 1.3336\n",
      "4/4 [==============================] - 1s 163ms/step - d1_loss: 0.3294 - d2_loss: 0.5290 - g_loss: 1.3629\n",
      "4/4 [==============================] - 1s 164ms/step - d1_loss: 0.3432 - d2_loss: 0.5241 - g_loss: 1.3753\n",
      "4/4 [==============================] - 1s 164ms/step - d1_loss: 0.3296 - d2_loss: 0.5164 - g_loss: 1.3733\n",
      "4/4 [==============================] - 1s 168ms/step - d1_loss: 0.3237 - d2_loss: 0.5158 - g_loss: 1.3808\n",
      "4/4 [==============================] - 1s 164ms/step - d1_loss: 0.3292 - d2_loss: 0.5203 - g_loss: 1.3888\n",
      "4/4 [==============================] - 1s 164ms/step - d1_loss: 0.3310 - d2_loss: 0.5207 - g_loss: 1.3516\n",
      "4/4 [==============================] - 1s 164ms/step - d1_loss: 0.3258 - d2_loss: 0.5034 - g_loss: 1.4090\n",
      "4/4 [==============================] - 1s 164ms/step - d1_loss: 0.3660 - d2_loss: 0.6189 - g_loss: 1.3105\n",
      "4/4 [==============================] - 1s 162ms/step - d1_loss: 0.3451 - d2_loss: 0.5000 - g_loss: 1.3290\n",
      "4/4 [==============================] - 1s 164ms/step - d1_loss: 0.3253 - d2_loss: 0.5076 - g_loss: 1.4066\n",
      "4/4 [==============================] - 1s 161ms/step - d1_loss: 0.3470 - d2_loss: 0.5263 - g_loss: 1.3083\n",
      "4/4 [==============================] - 1s 162ms/step - d1_loss: 0.3284 - d2_loss: 0.4917 - g_loss: 1.3509\n",
      "4/4 [==============================] - 1s 163ms/step - d1_loss: 0.3187 - d2_loss: 0.5081 - g_loss: 1.4233\n",
      "4/4 [==============================] - 1s 164ms/step - d1_loss: 0.3276 - d2_loss: 0.5198 - g_loss: 1.3437\n",
      "4/4 [==============================] - 1s 162ms/step - d1_loss: 0.3279 - d2_loss: 0.5087 - g_loss: 1.3917\n",
      "4/4 [==============================] - 1s 165ms/step - d1_loss: 0.3414 - d2_loss: 0.5093 - g_loss: 1.4102\n",
      "4/4 [==============================] - 1s 161ms/step - d1_loss: 0.3239 - d2_loss: 0.5046 - g_loss: 1.4114\n",
      "4/4 [==============================] - 1s 163ms/step - d1_loss: 0.3199 - d2_loss: 0.5011 - g_loss: 1.4208\n",
      "4/4 [==============================] - 1s 164ms/step - d1_loss: 0.3196 - d2_loss: 0.5180 - g_loss: 1.4088\n",
      "4/4 [==============================] - 1s 162ms/step - d1_loss: 0.3175 - d2_loss: 0.4822 - g_loss: 1.4327\n",
      "4/4 [==============================] - 1s 165ms/step - d1_loss: 0.3457 - d2_loss: 0.5695 - g_loss: 1.3169\n",
      "4/4 [==============================] - 1s 163ms/step - d1_loss: 0.3293 - d2_loss: 0.5291 - g_loss: 1.3801\n",
      "4/4 [==============================] - 1s 164ms/step - d1_loss: 0.3253 - d2_loss: 0.4767 - g_loss: 1.4143\n",
      "4/4 [==============================] - 1s 165ms/step - d1_loss: 0.3500 - d2_loss: 0.6384 - g_loss: 1.1256\n",
      "4/4 [==============================] - 1s 163ms/step - d1_loss: 0.3478 - d2_loss: 0.5374 - g_loss: 1.3368\n",
      "4/4 [==============================] - 1s 162ms/step - d1_loss: 0.3506 - d2_loss: 0.5561 - g_loss: 1.2305\n",
      "4/4 [==============================] - 1s 162ms/step - d1_loss: 0.3597 - d2_loss: 0.5251 - g_loss: 1.3083\n",
      "4/4 [==============================] - 1s 165ms/step - d1_loss: 0.3347 - d2_loss: 0.5281 - g_loss: 1.3609\n",
      "4/4 [==============================] - 1s 165ms/step - d1_loss: 0.3286 - d2_loss: 0.5308 - g_loss: 1.3797\n",
      "4/4 [==============================] - 1s 163ms/step - d1_loss: 0.3266 - d2_loss: 0.5233 - g_loss: 1.3920\n",
      "4/4 [==============================] - 1s 164ms/step - d1_loss: 0.3335 - d2_loss: 0.5176 - g_loss: 1.4101\n",
      "4/4 [==============================] - 1s 174ms/step - d1_loss: 0.3207 - d2_loss: 0.5113 - g_loss: 1.4177\n",
      "4/4 [==============================] - 1s 163ms/step - d1_loss: 0.3174 - d2_loss: 0.5153 - g_loss: 1.4202\n",
      "4/4 [==============================] - 1s 165ms/step - d1_loss: 0.3257 - d2_loss: 0.4583 - g_loss: 1.4274\n",
      "4/4 [==============================] - 1s 162ms/step - d1_loss: 0.3190 - d2_loss: 0.5420 - g_loss: 1.4198\n",
      "4/4 [==============================] - 1s 161ms/step - d1_loss: 0.3417 - d2_loss: 0.5325 - g_loss: 1.3914\n",
      "4/4 [==============================] - 1s 160ms/step - d1_loss: 0.3242 - d2_loss: 0.4815 - g_loss: 1.4155\n",
      "4/4 [==============================] - 1s 164ms/step - d1_loss: 0.3129 - d2_loss: 0.4898 - g_loss: 1.4464\n",
      "4/4 [==============================] - 1s 163ms/step - d1_loss: 0.3178 - d2_loss: 0.4884 - g_loss: 1.4484\n",
      "4/4 [==============================] - 1s 161ms/step - d1_loss: 0.3091 - d2_loss: 0.4803 - g_loss: 1.4756\n",
      "4/4 [==============================] - 1s 162ms/step - d1_loss: 0.3137 - d2_loss: 0.4877 - g_loss: 1.4737\n",
      "4/4 [==============================] - 1s 162ms/step - d1_loss: 0.3091 - d2_loss: 0.4945 - g_loss: 1.4576\n",
      "4/4 [==============================] - 1s 160ms/step - d1_loss: 0.3065 - d2_loss: 0.4870 - g_loss: 1.4065\n",
      "4/4 [==============================] - 1s 163ms/step - d1_loss: 0.3272 - d2_loss: 0.4835 - g_loss: 1.4856\n",
      "4/4 [==============================] - 1s 161ms/step - d1_loss: 0.3032 - d2_loss: 0.4821 - g_loss: 1.4886\n",
      "4/4 [==============================] - 1s 160ms/step - d1_loss: 0.3032 - d2_loss: 0.4929 - g_loss: 1.4850\n",
      "4/4 [==============================] - 1s 184ms/step - d1_loss: 0.3028 - d2_loss: 0.4940 - g_loss: 1.4774\n",
      "4/4 [==============================] - 1s 165ms/step - d1_loss: 0.3290 - d2_loss: 0.6699 - g_loss: 1.2806\n",
      "4/4 [==============================] - 1s 161ms/step - d1_loss: 0.3173 - d2_loss: 0.5198 - g_loss: 1.4216\n",
      "4/4 [==============================] - 1s 161ms/step - d1_loss: 0.3147 - d2_loss: 0.5034 - g_loss: 1.4396\n",
      "4/4 [==============================] - 1s 160ms/step - d1_loss: 0.3126 - d2_loss: 0.4733 - g_loss: 1.3970\n",
      "4/4 [==============================] - 1s 161ms/step - d1_loss: 0.3226 - d2_loss: 0.5105 - g_loss: 1.4084\n",
      "4/4 [==============================] - 1s 160ms/step - d1_loss: 0.3197 - d2_loss: 0.4722 - g_loss: 1.4373\n",
      "4/4 [==============================] - 1s 160ms/step - d1_loss: 0.3044 - d2_loss: 0.5241 - g_loss: 1.4607\n",
      "4/4 [==============================] - 1s 160ms/step - d1_loss: 0.3162 - d2_loss: 0.4964 - g_loss: 1.4255\n",
      "4/4 [==============================] - 1s 163ms/step - d1_loss: 0.3076 - d2_loss: 0.5080 - g_loss: 1.4619\n",
      "4/4 [==============================] - 1s 160ms/step - d1_loss: 0.3204 - d2_loss: 0.4785 - g_loss: 1.4332\n",
      "4/4 [==============================] - 1s 162ms/step - d1_loss: 0.3053 - d2_loss: 0.4875 - g_loss: 1.4810\n",
      "4/4 [==============================] - 1s 166ms/step - d1_loss: 0.3010 - d2_loss: 0.5120 - g_loss: 1.4600\n",
      "4/4 [==============================] - 1s 187ms/step - d1_loss: 0.3093 - d2_loss: 0.4677 - g_loss: 1.4144\n",
      "4/4 [==============================] - 1s 167ms/step - d1_loss: 0.3096 - d2_loss: 0.5009 - g_loss: 1.4616\n",
      "4/4 [==============================] - 1s 163ms/step - d1_loss: 0.3086 - d2_loss: 0.4745 - g_loss: 1.4737\n",
      "4/4 [==============================] - 1s 167ms/step - d1_loss: 0.3021 - d2_loss: 0.4823 - g_loss: 1.3763\n",
      "4/4 [==============================] - 1s 170ms/step - d1_loss: 0.3905 - d2_loss: 0.7149 - g_loss: 1.4926\n",
      "4/4 [==============================] - 1s 169ms/step - d1_loss: 0.3062 - d2_loss: 0.4978 - g_loss: 1.4719\n",
      "4/4 [==============================] - 1s 164ms/step - d1_loss: 0.3054 - d2_loss: 0.4831 - g_loss: 1.4794\n",
      "4/4 [==============================] - 1s 168ms/step - d1_loss: 0.3038 - d2_loss: 0.4529 - g_loss: 1.2504\n",
      "4/4 [==============================] - 1s 162ms/step - d1_loss: 0.3231 - d2_loss: 0.5311 - g_loss: 1.4089\n",
      "4/4 [==============================] - 1s 163ms/step - d1_loss: 0.3172 - d2_loss: 0.5012 - g_loss: 1.4362\n",
      "4/4 [==============================] - 1s 164ms/step - d1_loss: 0.3105 - d2_loss: 0.4891 - g_loss: 1.4536\n",
      "4/4 [==============================] - 1s 162ms/step - d1_loss: 0.3167 - d2_loss: 0.4646 - g_loss: 1.4768\n",
      "4/4 [==============================] - 1s 164ms/step - d1_loss: 0.2998 - d2_loss: 0.5205 - g_loss: 1.4830\n",
      "4/4 [==============================] - 1s 163ms/step - d1_loss: 0.3118 - d2_loss: 0.4842 - g_loss: 1.4640\n",
      "4/4 [==============================] - 1s 167ms/step - d1_loss: 0.3043 - d2_loss: 0.4793 - g_loss: 1.4789\n",
      "4/4 [==============================] - 1s 179ms/step - d1_loss: 0.3024 - d2_loss: 0.4707 - g_loss: 1.4592\n",
      "4/4 [==============================] - 1s 174ms/step - d1_loss: 0.3060 - d2_loss: 0.4965 - g_loss: 1.4955\n",
      "4/4 [==============================] - 1s 180ms/step - d1_loss: 0.3015 - d2_loss: 0.4627 - g_loss: 1.5111\n",
      "4/4 [==============================] - 1s 183ms/step - d1_loss: 0.2969 - d2_loss: 0.4716 - g_loss: 1.5187\n",
      "4/4 [==============================] - 1s 176ms/step - d1_loss: 0.4059 - d2_loss: 0.4794 - g_loss: 1.4367\n",
      "4/4 [==============================] - 1s 162ms/step - d1_loss: 0.3015 - d2_loss: 0.5203 - g_loss: 1.4773\n",
      "4/4 [==============================] - 1s 161ms/step - d1_loss: 0.3079 - d2_loss: 0.4939 - g_loss: 1.4698\n",
      "4/4 [==============================] - 1s 161ms/step - d1_loss: 0.3052 - d2_loss: 0.4690 - g_loss: 1.4894\n",
      "4/4 [==============================] - 1s 161ms/step - d1_loss: 0.3009 - d2_loss: 0.5060 - g_loss: 1.4997\n",
      "4/4 [==============================] - 1s 161ms/step - d1_loss: 0.3035 - d2_loss: 0.4681 - g_loss: 1.4938\n",
      "4/4 [==============================] - 1s 161ms/step - d1_loss: 0.2997 - d2_loss: 0.4637 - g_loss: 1.5099\n",
      "4/4 [==============================] - 1s 162ms/step - d1_loss: 0.3048 - d2_loss: 0.4788 - g_loss: 1.4804\n",
      "4/4 [==============================] - 1s 161ms/step - d1_loss: 0.2966 - d2_loss: 0.4979 - g_loss: 1.5076\n",
      "4/4 [==============================] - 1s 161ms/step - d1_loss: 0.3025 - d2_loss: 0.4827 - g_loss: 1.4922\n",
      "4/4 [==============================] - 1s 165ms/step - d1_loss: 0.2999 - d2_loss: 0.4774 - g_loss: 1.5042\n",
      "4/4 [==============================] - 1s 162ms/step - d1_loss: 0.3025 - d2_loss: 0.4868 - g_loss: 1.4822\n",
      "4/4 [==============================] - 1s 161ms/step - d1_loss: 0.2994 - d2_loss: 0.4873 - g_loss: 1.4759\n",
      "4/4 [==============================] - 1s 161ms/step - d1_loss: 0.3009 - d2_loss: 0.4603 - g_loss: 1.5023\n",
      "4/4 [==============================] - 1s 160ms/step - d1_loss: 0.2945 - d2_loss: 0.4510 - g_loss: 1.3732\n",
      "4/4 [==============================] - 1s 170ms/step - d1_loss: 0.3276 - d2_loss: 0.5335 - g_loss: 1.4956\n",
      "4/4 [==============================] - 1s 170ms/step - d1_loss: 0.3046 - d2_loss: 0.4843 - g_loss: 1.4900\n"
     ]
    },
    {
     "ename": "KeyboardInterrupt",
     "evalue": "",
     "output_type": "error",
     "traceback": [
      "\u001b[0;31m---------------------------------------------------------------------------\u001b[0m",
      "\u001b[0;31mKeyboardInterrupt\u001b[0m                         Traceback (most recent call last)",
      "\u001b[0;32m<ipython-input-34-a0c3a10307ae>\u001b[0m in \u001b[0;36m<module>\u001b[0;34m\u001b[0m\n\u001b[1;32m     14\u001b[0m \u001b[0;34m\u001b[0m\u001b[0m\n\u001b[1;32m     15\u001b[0m     \u001b[0;32mfor\u001b[0m \u001b[0mepoch\u001b[0m \u001b[0;32min\u001b[0m \u001b[0mtqdm\u001b[0m\u001b[0;34m(\u001b[0m\u001b[0mrange\u001b[0m\u001b[0;34m(\u001b[0m\u001b[0mnum_epochs\u001b[0m\u001b[0;34m)\u001b[0m\u001b[0;34m)\u001b[0m\u001b[0;34m:\u001b[0m\u001b[0;34m\u001b[0m\u001b[0;34m\u001b[0m\u001b[0m\n\u001b[0;32m---> 16\u001b[0;31m         \u001b[0mgan\u001b[0m\u001b[0;34m.\u001b[0m\u001b[0mfit\u001b[0m\u001b[0;34m(\u001b[0m\u001b[0mimages_dataset\u001b[0m\u001b[0;34m,\u001b[0m \u001b[0mepochs\u001b[0m\u001b[0;34m=\u001b[0m\u001b[0;36m1\u001b[0m\u001b[0;34m)\u001b[0m\u001b[0;34m\u001b[0m\u001b[0;34m\u001b[0m\u001b[0m\n\u001b[0m\u001b[1;32m     17\u001b[0m         \u001b[0mg_model\u001b[0m\u001b[0;34m.\u001b[0m\u001b[0msave\u001b[0m\u001b[0;34m(\u001b[0m\u001b[0;34m\"../models/saved_model/g_model.h5\"\u001b[0m\u001b[0;34m)\u001b[0m\u001b[0;34m\u001b[0m\u001b[0;34m\u001b[0m\u001b[0m\n\u001b[1;32m     18\u001b[0m         \u001b[0md_model\u001b[0m\u001b[0;34m.\u001b[0m\u001b[0msave\u001b[0m\u001b[0;34m(\u001b[0m\u001b[0;34m\"../models/saved_model/d_model.h5\"\u001b[0m\u001b[0;34m)\u001b[0m\u001b[0;34m\u001b[0m\u001b[0;34m\u001b[0m\u001b[0m\n",
      "\u001b[0;32m~/.local/share/virtualenvs/DSCI-550-Assignment-2-MaO-uhgo/lib/python3.7/site-packages/tensorflow/python/keras/engine/training.py\u001b[0m in \u001b[0;36m_method_wrapper\u001b[0;34m(self, *args, **kwargs)\u001b[0m\n\u001b[1;32m     64\u001b[0m   \u001b[0;32mdef\u001b[0m \u001b[0m_method_wrapper\u001b[0m\u001b[0;34m(\u001b[0m\u001b[0mself\u001b[0m\u001b[0;34m,\u001b[0m \u001b[0;34m*\u001b[0m\u001b[0margs\u001b[0m\u001b[0;34m,\u001b[0m \u001b[0;34m**\u001b[0m\u001b[0mkwargs\u001b[0m\u001b[0;34m)\u001b[0m\u001b[0;34m:\u001b[0m\u001b[0;34m\u001b[0m\u001b[0;34m\u001b[0m\u001b[0m\n\u001b[1;32m     65\u001b[0m     \u001b[0;32mif\u001b[0m \u001b[0;32mnot\u001b[0m \u001b[0mself\u001b[0m\u001b[0;34m.\u001b[0m\u001b[0m_in_multi_worker_mode\u001b[0m\u001b[0;34m(\u001b[0m\u001b[0;34m)\u001b[0m\u001b[0;34m:\u001b[0m  \u001b[0;31m# pylint: disable=protected-access\u001b[0m\u001b[0;34m\u001b[0m\u001b[0;34m\u001b[0m\u001b[0m\n\u001b[0;32m---> 66\u001b[0;31m       \u001b[0;32mreturn\u001b[0m \u001b[0mmethod\u001b[0m\u001b[0;34m(\u001b[0m\u001b[0mself\u001b[0m\u001b[0;34m,\u001b[0m \u001b[0;34m*\u001b[0m\u001b[0margs\u001b[0m\u001b[0;34m,\u001b[0m \u001b[0;34m**\u001b[0m\u001b[0mkwargs\u001b[0m\u001b[0;34m)\u001b[0m\u001b[0;34m\u001b[0m\u001b[0;34m\u001b[0m\u001b[0m\n\u001b[0m\u001b[1;32m     67\u001b[0m \u001b[0;34m\u001b[0m\u001b[0m\n\u001b[1;32m     68\u001b[0m     \u001b[0;31m# Running inside `run_distribute_coordinator` already.\u001b[0m\u001b[0;34m\u001b[0m\u001b[0;34m\u001b[0m\u001b[0;34m\u001b[0m\u001b[0m\n",
      "\u001b[0;32m~/.local/share/virtualenvs/DSCI-550-Assignment-2-MaO-uhgo/lib/python3.7/site-packages/tensorflow/python/keras/engine/training.py\u001b[0m in \u001b[0;36mfit\u001b[0;34m(self, x, y, batch_size, epochs, verbose, callbacks, validation_split, validation_data, shuffle, class_weight, sample_weight, initial_epoch, steps_per_epoch, validation_steps, validation_batch_size, validation_freq, max_queue_size, workers, use_multiprocessing)\u001b[0m\n\u001b[1;32m    846\u001b[0m                 batch_size=batch_size):\n\u001b[1;32m    847\u001b[0m               \u001b[0mcallbacks\u001b[0m\u001b[0;34m.\u001b[0m\u001b[0mon_train_batch_begin\u001b[0m\u001b[0;34m(\u001b[0m\u001b[0mstep\u001b[0m\u001b[0;34m)\u001b[0m\u001b[0;34m\u001b[0m\u001b[0;34m\u001b[0m\u001b[0m\n\u001b[0;32m--> 848\u001b[0;31m               \u001b[0mtmp_logs\u001b[0m \u001b[0;34m=\u001b[0m \u001b[0mtrain_function\u001b[0m\u001b[0;34m(\u001b[0m\u001b[0miterator\u001b[0m\u001b[0;34m)\u001b[0m\u001b[0;34m\u001b[0m\u001b[0;34m\u001b[0m\u001b[0m\n\u001b[0m\u001b[1;32m    849\u001b[0m               \u001b[0;31m# Catch OutOfRangeError for Datasets of unknown size.\u001b[0m\u001b[0;34m\u001b[0m\u001b[0;34m\u001b[0m\u001b[0;34m\u001b[0m\u001b[0m\n\u001b[1;32m    850\u001b[0m               \u001b[0;31m# This blocks until the batch has finished executing.\u001b[0m\u001b[0;34m\u001b[0m\u001b[0;34m\u001b[0m\u001b[0;34m\u001b[0m\u001b[0m\n",
      "\u001b[0;32m~/.local/share/virtualenvs/DSCI-550-Assignment-2-MaO-uhgo/lib/python3.7/site-packages/tensorflow/python/eager/def_function.py\u001b[0m in \u001b[0;36m__call__\u001b[0;34m(self, *args, **kwds)\u001b[0m\n\u001b[1;32m    578\u001b[0m         \u001b[0mxla_context\u001b[0m\u001b[0;34m.\u001b[0m\u001b[0mExit\u001b[0m\u001b[0;34m(\u001b[0m\u001b[0;34m)\u001b[0m\u001b[0;34m\u001b[0m\u001b[0;34m\u001b[0m\u001b[0m\n\u001b[1;32m    579\u001b[0m     \u001b[0;32melse\u001b[0m\u001b[0;34m:\u001b[0m\u001b[0;34m\u001b[0m\u001b[0;34m\u001b[0m\u001b[0m\n\u001b[0;32m--> 580\u001b[0;31m       \u001b[0mresult\u001b[0m \u001b[0;34m=\u001b[0m \u001b[0mself\u001b[0m\u001b[0;34m.\u001b[0m\u001b[0m_call\u001b[0m\u001b[0;34m(\u001b[0m\u001b[0;34m*\u001b[0m\u001b[0margs\u001b[0m\u001b[0;34m,\u001b[0m \u001b[0;34m**\u001b[0m\u001b[0mkwds\u001b[0m\u001b[0;34m)\u001b[0m\u001b[0;34m\u001b[0m\u001b[0;34m\u001b[0m\u001b[0m\n\u001b[0m\u001b[1;32m    581\u001b[0m \u001b[0;34m\u001b[0m\u001b[0m\n\u001b[1;32m    582\u001b[0m     \u001b[0;32mif\u001b[0m \u001b[0mtracing_count\u001b[0m \u001b[0;34m==\u001b[0m \u001b[0mself\u001b[0m\u001b[0;34m.\u001b[0m\u001b[0m_get_tracing_count\u001b[0m\u001b[0;34m(\u001b[0m\u001b[0;34m)\u001b[0m\u001b[0;34m:\u001b[0m\u001b[0;34m\u001b[0m\u001b[0;34m\u001b[0m\u001b[0m\n",
      "\u001b[0;32m~/.local/share/virtualenvs/DSCI-550-Assignment-2-MaO-uhgo/lib/python3.7/site-packages/tensorflow/python/eager/def_function.py\u001b[0m in \u001b[0;36m_call\u001b[0;34m(self, *args, **kwds)\u001b[0m\n\u001b[1;32m    609\u001b[0m       \u001b[0;31m# In this case we have created variables on the first call, so we run the\u001b[0m\u001b[0;34m\u001b[0m\u001b[0;34m\u001b[0m\u001b[0;34m\u001b[0m\u001b[0m\n\u001b[1;32m    610\u001b[0m       \u001b[0;31m# defunned version which is guaranteed to never create variables.\u001b[0m\u001b[0;34m\u001b[0m\u001b[0;34m\u001b[0m\u001b[0;34m\u001b[0m\u001b[0m\n\u001b[0;32m--> 611\u001b[0;31m       \u001b[0;32mreturn\u001b[0m \u001b[0mself\u001b[0m\u001b[0;34m.\u001b[0m\u001b[0m_stateless_fn\u001b[0m\u001b[0;34m(\u001b[0m\u001b[0;34m*\u001b[0m\u001b[0margs\u001b[0m\u001b[0;34m,\u001b[0m \u001b[0;34m**\u001b[0m\u001b[0mkwds\u001b[0m\u001b[0;34m)\u001b[0m  \u001b[0;31m# pylint: disable=not-callable\u001b[0m\u001b[0;34m\u001b[0m\u001b[0;34m\u001b[0m\u001b[0m\n\u001b[0m\u001b[1;32m    612\u001b[0m     \u001b[0;32melif\u001b[0m \u001b[0mself\u001b[0m\u001b[0;34m.\u001b[0m\u001b[0m_stateful_fn\u001b[0m \u001b[0;32mis\u001b[0m \u001b[0;32mnot\u001b[0m \u001b[0;32mNone\u001b[0m\u001b[0;34m:\u001b[0m\u001b[0;34m\u001b[0m\u001b[0;34m\u001b[0m\u001b[0m\n\u001b[1;32m    613\u001b[0m       \u001b[0;31m# Release the lock early so that multiple threads can perform the call\u001b[0m\u001b[0;34m\u001b[0m\u001b[0;34m\u001b[0m\u001b[0;34m\u001b[0m\u001b[0m\n",
      "\u001b[0;32m~/.local/share/virtualenvs/DSCI-550-Assignment-2-MaO-uhgo/lib/python3.7/site-packages/tensorflow/python/eager/function.py\u001b[0m in \u001b[0;36m__call__\u001b[0;34m(self, *args, **kwargs)\u001b[0m\n\u001b[1;32m   2418\u001b[0m     \u001b[0;32mwith\u001b[0m \u001b[0mself\u001b[0m\u001b[0;34m.\u001b[0m\u001b[0m_lock\u001b[0m\u001b[0;34m:\u001b[0m\u001b[0;34m\u001b[0m\u001b[0;34m\u001b[0m\u001b[0m\n\u001b[1;32m   2419\u001b[0m       \u001b[0mgraph_function\u001b[0m\u001b[0;34m,\u001b[0m \u001b[0margs\u001b[0m\u001b[0;34m,\u001b[0m \u001b[0mkwargs\u001b[0m \u001b[0;34m=\u001b[0m \u001b[0mself\u001b[0m\u001b[0;34m.\u001b[0m\u001b[0m_maybe_define_function\u001b[0m\u001b[0;34m(\u001b[0m\u001b[0margs\u001b[0m\u001b[0;34m,\u001b[0m \u001b[0mkwargs\u001b[0m\u001b[0;34m)\u001b[0m\u001b[0;34m\u001b[0m\u001b[0;34m\u001b[0m\u001b[0m\n\u001b[0;32m-> 2420\u001b[0;31m     \u001b[0;32mreturn\u001b[0m \u001b[0mgraph_function\u001b[0m\u001b[0;34m.\u001b[0m\u001b[0m_filtered_call\u001b[0m\u001b[0;34m(\u001b[0m\u001b[0margs\u001b[0m\u001b[0;34m,\u001b[0m \u001b[0mkwargs\u001b[0m\u001b[0;34m)\u001b[0m  \u001b[0;31m# pylint: disable=protected-access\u001b[0m\u001b[0;34m\u001b[0m\u001b[0;34m\u001b[0m\u001b[0m\n\u001b[0m\u001b[1;32m   2421\u001b[0m \u001b[0;34m\u001b[0m\u001b[0m\n\u001b[1;32m   2422\u001b[0m   \u001b[0;34m@\u001b[0m\u001b[0mproperty\u001b[0m\u001b[0;34m\u001b[0m\u001b[0;34m\u001b[0m\u001b[0m\n",
      "\u001b[0;32m~/.local/share/virtualenvs/DSCI-550-Assignment-2-MaO-uhgo/lib/python3.7/site-packages/tensorflow/python/eager/function.py\u001b[0m in \u001b[0;36m_filtered_call\u001b[0;34m(self, args, kwargs)\u001b[0m\n\u001b[1;32m   1663\u001b[0m          if isinstance(t, (ops.Tensor,\n\u001b[1;32m   1664\u001b[0m                            resource_variable_ops.BaseResourceVariable))),\n\u001b[0;32m-> 1665\u001b[0;31m         self.captured_inputs)\n\u001b[0m\u001b[1;32m   1666\u001b[0m \u001b[0;34m\u001b[0m\u001b[0m\n\u001b[1;32m   1667\u001b[0m   \u001b[0;32mdef\u001b[0m \u001b[0m_call_flat\u001b[0m\u001b[0;34m(\u001b[0m\u001b[0mself\u001b[0m\u001b[0;34m,\u001b[0m \u001b[0margs\u001b[0m\u001b[0;34m,\u001b[0m \u001b[0mcaptured_inputs\u001b[0m\u001b[0;34m,\u001b[0m \u001b[0mcancellation_manager\u001b[0m\u001b[0;34m=\u001b[0m\u001b[0;32mNone\u001b[0m\u001b[0;34m)\u001b[0m\u001b[0;34m:\u001b[0m\u001b[0;34m\u001b[0m\u001b[0;34m\u001b[0m\u001b[0m\n",
      "\u001b[0;32m~/.local/share/virtualenvs/DSCI-550-Assignment-2-MaO-uhgo/lib/python3.7/site-packages/tensorflow/python/eager/function.py\u001b[0m in \u001b[0;36m_call_flat\u001b[0;34m(self, args, captured_inputs, cancellation_manager)\u001b[0m\n\u001b[1;32m   1744\u001b[0m       \u001b[0;31m# No tape is watching; skip to running the function.\u001b[0m\u001b[0;34m\u001b[0m\u001b[0;34m\u001b[0m\u001b[0;34m\u001b[0m\u001b[0m\n\u001b[1;32m   1745\u001b[0m       return self._build_call_outputs(self._inference_function.call(\n\u001b[0;32m-> 1746\u001b[0;31m           ctx, args, cancellation_manager=cancellation_manager))\n\u001b[0m\u001b[1;32m   1747\u001b[0m     forward_backward = self._select_forward_and_backward_functions(\n\u001b[1;32m   1748\u001b[0m         \u001b[0margs\u001b[0m\u001b[0;34m,\u001b[0m\u001b[0;34m\u001b[0m\u001b[0;34m\u001b[0m\u001b[0m\n",
      "\u001b[0;32m~/.local/share/virtualenvs/DSCI-550-Assignment-2-MaO-uhgo/lib/python3.7/site-packages/tensorflow/python/eager/function.py\u001b[0m in \u001b[0;36mcall\u001b[0;34m(self, ctx, args, cancellation_manager)\u001b[0m\n\u001b[1;32m    596\u001b[0m               \u001b[0minputs\u001b[0m\u001b[0;34m=\u001b[0m\u001b[0margs\u001b[0m\u001b[0;34m,\u001b[0m\u001b[0;34m\u001b[0m\u001b[0;34m\u001b[0m\u001b[0m\n\u001b[1;32m    597\u001b[0m               \u001b[0mattrs\u001b[0m\u001b[0;34m=\u001b[0m\u001b[0mattrs\u001b[0m\u001b[0;34m,\u001b[0m\u001b[0;34m\u001b[0m\u001b[0;34m\u001b[0m\u001b[0m\n\u001b[0;32m--> 598\u001b[0;31m               ctx=ctx)\n\u001b[0m\u001b[1;32m    599\u001b[0m         \u001b[0;32melse\u001b[0m\u001b[0;34m:\u001b[0m\u001b[0;34m\u001b[0m\u001b[0;34m\u001b[0m\u001b[0m\n\u001b[1;32m    600\u001b[0m           outputs = execute.execute_with_cancellation(\n",
      "\u001b[0;32m~/.local/share/virtualenvs/DSCI-550-Assignment-2-MaO-uhgo/lib/python3.7/site-packages/tensorflow/python/eager/execute.py\u001b[0m in \u001b[0;36mquick_execute\u001b[0;34m(op_name, num_outputs, inputs, attrs, ctx, name)\u001b[0m\n\u001b[1;32m     58\u001b[0m     \u001b[0mctx\u001b[0m\u001b[0;34m.\u001b[0m\u001b[0mensure_initialized\u001b[0m\u001b[0;34m(\u001b[0m\u001b[0;34m)\u001b[0m\u001b[0;34m\u001b[0m\u001b[0;34m\u001b[0m\u001b[0m\n\u001b[1;32m     59\u001b[0m     tensors = pywrap_tfe.TFE_Py_Execute(ctx._handle, device_name, op_name,\n\u001b[0;32m---> 60\u001b[0;31m                                         inputs, attrs, num_outputs)\n\u001b[0m\u001b[1;32m     61\u001b[0m   \u001b[0;32mexcept\u001b[0m \u001b[0mcore\u001b[0m\u001b[0;34m.\u001b[0m\u001b[0m_NotOkStatusException\u001b[0m \u001b[0;32mas\u001b[0m \u001b[0me\u001b[0m\u001b[0;34m:\u001b[0m\u001b[0;34m\u001b[0m\u001b[0;34m\u001b[0m\u001b[0m\n\u001b[1;32m     62\u001b[0m     \u001b[0;32mif\u001b[0m \u001b[0mname\u001b[0m \u001b[0;32mis\u001b[0m \u001b[0;32mnot\u001b[0m \u001b[0;32mNone\u001b[0m\u001b[0;34m:\u001b[0m\u001b[0;34m\u001b[0m\u001b[0;34m\u001b[0m\u001b[0m\n",
      "\u001b[0;31mKeyboardInterrupt\u001b[0m: "
     ]
    }
   ],
   "source": [
    "d_model = build_discriminator()\n",
    "g_model = build_generator(latent_dim)\n",
    "\n",
    "if os.path.exists('../models/saved_model/d_model.h5') and os.path.exists('../models/saved_model/g_model.h5'):\n",
    "    d_model.load_weights(\"../models/saved_model/d_model.h5\")\n",
    "    g_model.load_weights(\"../models/saved_model/g_model.h5\")\n",
    "else:\n",
    "    gan = GAN(d_model, g_model, latent_dim)\n",
    "    bce_loss_fn = tf.keras.losses.BinaryCrossentropy(from_logits=True, label_smoothing=0.1)\n",
    "    d_optimizer = tf.keras.optimizers.Adam(learning_rate=0.0002, beta_1=0.5)\n",
    "    g_optimizer = tf.keras.optimizers.Adam(learning_rate=0.0002, beta_1=0.5)\n",
    "    gan.compile(d_optimizer, g_optimizer, bce_loss_fn)\n",
    "    images_dataset = tf_dataset(images_path, batch_size)\n",
    "\n",
    "    for epoch in tqdm(range(num_epochs)):\n",
    "        gan.fit(images_dataset, epochs=1)\n",
    "        g_model.save(\"../models/saved_model/g_model.h5\")\n",
    "        d_model.save(\"../models/saved_model/d_model.h5\")\n",
    "\n",
    "        n_samples = 25\n",
    "        noise = np.random.normal(size=(n_samples, latent_dim))\n",
    "        examples = g_model.predict(noise)\n",
    "        save_plot(examples, epoch, int(np.sqrt(n_samples)))\n",
    "\n",
    "d_model.summary()\n",
    "g_model.summary()"
   ]
  },
  {
   "cell_type": "code",
   "execution_count": null,
   "id": "comparable-quarterly",
   "metadata": {},
   "outputs": [],
   "source": [
    "generate_test_image(g_model)"
   ]
  },
  {
   "cell_type": "code",
   "execution_count": null,
   "id": "yellow-infrastructure",
   "metadata": {},
   "outputs": [],
   "source": [
    "generate_and_show_images(g_model)"
   ]
  },
  {
   "cell_type": "markdown",
   "id": "amazing-connection",
   "metadata": {},
   "source": [
    "## Move generated images to data"
   ]
  },
  {
   "cell_type": "code",
   "execution_count": null,
   "id": "nonprofit-comparative",
   "metadata": {},
   "outputs": [],
   "source": [
    "import os \n",
    "  \n",
    "# importing shutil module \n",
    "import shutil \n",
    "  \n",
    "from pathlib import Path\n",
    "Path('../data/Fake Phish Iris/').mkdir(parents=True, exist_ok=True)"
   ]
  },
  {
   "cell_type": "code",
   "execution_count": null,
   "id": "relevant-technique",
   "metadata": {},
   "outputs": [],
   "source": [
    "# Source path \n",
    "source = '../models'\n",
    "  \n",
    "# Destination path \n",
    "destination = f'../data/Fake Phish Iris/models_{category}'\n",
    "  \n",
    "# Move the content of \n",
    "# source to destination \n",
    "dest = shutil.move(source, destination) "
   ]
  },
  {
   "cell_type": "code",
   "execution_count": null,
   "id": "sweet-captain",
   "metadata": {},
   "outputs": [],
   "source": []
  }
 ],
 "metadata": {
  "kernelspec": {
   "display_name": "DSCI-550-Assignment-2",
   "language": "python",
   "name": "dsci-550-assignment-2"
  },
  "language_info": {
   "codemirror_mode": {
    "name": "ipython",
    "version": 3
   },
   "file_extension": ".py",
   "mimetype": "text/x-python",
   "name": "python",
   "nbconvert_exporter": "python",
   "pygments_lexer": "ipython3",
   "version": "3.7.10"
  }
 },
 "nbformat": 4,
 "nbformat_minor": 5
}
