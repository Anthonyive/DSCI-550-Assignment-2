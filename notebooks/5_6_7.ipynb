{
 "cells": [
  {
   "cell_type": "code",
   "execution_count": 1,
   "id": "serial-rolling",
   "metadata": {
    "scrolled": true
   },
   "outputs": [],
   "source": [
    "# great example here: \n",
    "# https://idiotdeveloper.com/dcgan-implementing-deep-convolutional-generative-adversarial-network-in-tensorflow/\n",
    "import numpy as np\n",
    "import matplotlib.pyplot as plt\n",
    "import tensorflow as tf\n",
    "from tensorflow.keras.layers import *\n",
    "from tensorflow.keras.models import Model\n",
    "from tensorflow.keras.optimizers import Adam\n",
    "import cv2\n",
    "import os\n",
    "from glob import glob\n",
    "from matplotlib import pyplot\n",
    "from sklearn.utils import shuffle\n",
    "from tqdm.notebook import tqdm"
   ]
  },
  {
   "cell_type": "code",
   "execution_count": 2,
   "id": "smaller-consumption",
   "metadata": {},
   "outputs": [],
   "source": [
    "# hyperparameters\n",
    "IMG_H = 64\n",
    "IMG_W = 64\n",
    "IMG_C = 3\n",
    "batch_size = 128\n",
    "latent_dim = 128\n",
    "num_epochs = 60\n",
    "# images_path = glob(\"data/*\")\n",
    "images_path = glob('../../input/reconnaissance/*')"
   ]
  },
  {
   "cell_type": "code",
   "execution_count": 3,
   "id": "equivalent-destiny",
   "metadata": {},
   "outputs": [],
   "source": [
    "w_init = tf.keras.initializers.RandomNormal(mean=0.0, stddev=0.02)"
   ]
  },
  {
   "cell_type": "code",
   "execution_count": 4,
   "id": "naval-binary",
   "metadata": {},
   "outputs": [],
   "source": [
    "def load_image(image_path):\n",
    "    img = tf.io.read_file(image_path)\n",
    "    img = tf.io.decode_jpeg(img)\n",
    "    img = tf.image.resize_with_crop_or_pad(img, IMG_H, IMG_W)\n",
    "    img = tf.cast(img, tf.float32)\n",
    "    img = (img - 127.5) / 127.5\n",
    "    # resize image\n",
    "    img = img[:, :, :3]\n",
    "    return img"
   ]
  },
  {
   "cell_type": "code",
   "execution_count": 5,
   "id": "white-engine",
   "metadata": {},
   "outputs": [],
   "source": [
    "def tf_dataset(images_path, batch_size):\n",
    "    dataset = tf.data.Dataset.from_tensor_slices(images_path)\n",
    "    dataset = dataset.shuffle(buffer_size=10240)\n",
    "    dataset = dataset.map(load_image, num_parallel_calls=tf.data.experimental.AUTOTUNE)\n",
    "    dataset = dataset.batch(batch_size)\n",
    "    dataset = dataset.prefetch(buffer_size=tf.data.experimental.AUTOTUNE)\n",
    "    return dataset"
   ]
  },
  {
   "cell_type": "code",
   "execution_count": 6,
   "id": "binding-disco",
   "metadata": {},
   "outputs": [],
   "source": [
    "def deconv_block(inputs, num_filters, kernel_size, strides, bn=True):\n",
    "    x = Conv2DTranspose(\n",
    "        filters=num_filters,\n",
    "        kernel_size=kernel_size,\n",
    "        kernel_initializer=w_init,\n",
    "        padding=\"same\",\n",
    "        strides=strides,\n",
    "        use_bias=False\n",
    "        )(inputs)\n",
    "\n",
    "    if bn:\n",
    "        x = BatchNormalization()(x)\n",
    "        x = LeakyReLU(alpha=0.2)(x)\n",
    "    return x"
   ]
  },
  {
   "cell_type": "code",
   "execution_count": 7,
   "id": "superior-natural",
   "metadata": {},
   "outputs": [],
   "source": [
    "def conv_block(inputs, num_filters, kernel_size, padding=\"same\", strides=2, activation=True):\n",
    "    x = Conv2D(\n",
    "        filters=num_filters,\n",
    "        kernel_size=kernel_size,\n",
    "        kernel_initializer=w_init,\n",
    "        padding=padding,\n",
    "        strides=strides,\n",
    "    )(inputs)\n",
    "\n",
    "    if activation:\n",
    "        x = LeakyReLU(alpha=0.2)(x)\n",
    "        x = Dropout(0.3)(x)\n",
    "    return x"
   ]
  },
  {
   "cell_type": "code",
   "execution_count": 8,
   "id": "developing-engine",
   "metadata": {},
   "outputs": [],
   "source": [
    "def build_generator(latent_dim):\n",
    "    f = [2**i for i in range(5)][::-1]\n",
    "    filters = 32\n",
    "    output_strides = 16\n",
    "    h_output = IMG_H // output_strides\n",
    "    w_output = IMG_W // output_strides\n",
    "\n",
    "    noise = Input(shape=(latent_dim,), name=\"generator_noise_input\")\n",
    "\n",
    "    x = Dense(f[0] * filters * h_output * w_output, use_bias=False)(noise)\n",
    "    x = BatchNormalization()(x)\n",
    "    x = LeakyReLU(alpha=0.2)(x)\n",
    "    x = Reshape((h_output, w_output, 16 * filters))(x)\n",
    "\n",
    "    for i in range(1, 5):\n",
    "        x = deconv_block(x,\n",
    "            num_filters=f[i] * filters,\n",
    "            kernel_size=5,\n",
    "            strides=2,\n",
    "            bn=True\n",
    "        )\n",
    "\n",
    "    x = conv_block(x,\n",
    "        num_filters=3,\n",
    "        kernel_size=5,\n",
    "        strides=1,\n",
    "        activation=False\n",
    "    )\n",
    "    fake_output = Activation(\"tanh\")(x)\n",
    "\n",
    "    return Model(noise, fake_output, name=\"generator\")"
   ]
  },
  {
   "cell_type": "code",
   "execution_count": 9,
   "id": "medical-comparison",
   "metadata": {},
   "outputs": [],
   "source": [
    "def build_discriminator():\n",
    "    f = [2**i for i in range(4)]\n",
    "    image_input = Input(shape=(IMG_H, IMG_W, IMG_C))\n",
    "    x = image_input\n",
    "    filters = 64\n",
    "    output_strides = 16\n",
    "    h_output = IMG_H // output_strides\n",
    "    w_output = IMG_W // output_strides\n",
    "\n",
    "    for i in range(0, 4):\n",
    "        x = conv_block(x, num_filters=f[i] * filters, kernel_size=5, strides=2)\n",
    "\n",
    "    x = Flatten()(x)\n",
    "    x = Dense(1)(x)\n",
    "\n",
    "    return Model(image_input, x, name=\"discriminator\")"
   ]
  },
  {
   "cell_type": "code",
   "execution_count": 10,
   "id": "alone-plasma",
   "metadata": {},
   "outputs": [],
   "source": [
    "class GAN(Model):\n",
    "    def __init__(self, discriminator, generator, latent_dim):\n",
    "        super(GAN, self).__init__()\n",
    "        self.discriminator = discriminator\n",
    "        self.generator = generator\n",
    "        self.latent_dim = latent_dim\n",
    "\n",
    "    def compile(self, d_optimizer, g_optimizer, loss_fn):\n",
    "        super(GAN, self).compile()\n",
    "        self.d_optimizer = d_optimizer\n",
    "        self.g_optimizer = g_optimizer\n",
    "        self.loss_fn = loss_fn\n",
    "\n",
    "    def train_step(self, real_images):\n",
    "        batch_size = tf.shape(real_images)[0]\n",
    "\n",
    "        for _ in range(2):\n",
    "            ## Train the discriminator\n",
    "            random_latent_vectors = tf.random.normal(shape=(batch_size, self.latent_dim))\n",
    "            generated_images = self.generator(random_latent_vectors)\n",
    "            generated_labels = tf.zeros((batch_size, 1))\n",
    "\n",
    "            with tf.GradientTape() as ftape:\n",
    "                predictions = self.discriminator(generated_images)\n",
    "                d1_loss = self.loss_fn(generated_labels, predictions)\n",
    "            grads = ftape.gradient(d1_loss, self.discriminator.trainable_weights)\n",
    "            self.d_optimizer.apply_gradients(zip(grads, self.discriminator.trainable_weights))\n",
    "\n",
    "            ## Train the discriminator\n",
    "            labels = tf.ones((batch_size, 1))\n",
    "\n",
    "            with tf.GradientTape() as rtape:\n",
    "                predictions = self.discriminator(real_images)\n",
    "                d2_loss = self.loss_fn(labels, predictions)\n",
    "            grads = rtape.gradient(d2_loss, self.discriminator.trainable_weights)\n",
    "            self.d_optimizer.apply_gradients(zip(grads, self.discriminator.trainable_weights))\n",
    "\n",
    "        ## Train the generator\n",
    "        random_latent_vectors = tf.random.normal(shape=(batch_size, self.latent_dim))\n",
    "        misleading_labels = tf.ones((batch_size, 1))\n",
    "\n",
    "        with tf.GradientTape() as gtape:\n",
    "            predictions = self.discriminator(self.generator(random_latent_vectors))\n",
    "            g_loss = self.loss_fn(misleading_labels, predictions)\n",
    "        grads = gtape.gradient(g_loss, self.generator.trainable_weights)\n",
    "        self.g_optimizer.apply_gradients(zip(grads, self.generator.trainable_weights))\n",
    "\n",
    "        return {\"d1_loss\": d1_loss, \"d2_loss\": d2_loss, \"g_loss\": g_loss}"
   ]
  },
  {
   "cell_type": "code",
   "execution_count": 11,
   "id": "domestic-necessity",
   "metadata": {},
   "outputs": [],
   "source": [
    "def save_plot(examples, epoch, n):\n",
    "    examples = (examples + 1) / 2.0\n",
    "    for i in range(n * n):\n",
    "        pyplot.subplot(n, n, i+1)\n",
    "        pyplot.axis(\"off\")\n",
    "        pyplot.imshow(examples[i])\n",
    "    filename = f\"../models/samples/generated_plot_epoch-{epoch+1}.png\"\n",
    "    pyplot.savefig(filename)\n",
    "    pyplot.close()"
   ]
  },
  {
   "cell_type": "code",
   "execution_count": 12,
   "id": "gothic-thong",
   "metadata": {},
   "outputs": [],
   "source": [
    "def generate_test_image(model, noise_dim=latent_dim):\n",
    "    test_input = tf.random.normal([1, noise_dim])\n",
    "    # Notice `training` is set to False.\n",
    "    # This is so all layers run in inference mode (batchnorm).\n",
    "    predictions = model(test_input, training=False)\n",
    "    fig = plt.figure(figsize=(5,5))\n",
    "    plt.imshow((predictions[0, :, :, :] * 127.5 + 127.5) / 255.)\n",
    "    plt.axis('off') \n",
    "    plt.show()"
   ]
  },
  {
   "cell_type": "code",
   "execution_count": 13,
   "id": "enormous-ranking",
   "metadata": {},
   "outputs": [],
   "source": [
    "def generate_and_show_images(generator, noise_dim=latent_dim, rows=4, cols=4):\n",
    "    predictions = generator(tf.random.normal([16, noise_dim]))\n",
    "    print(predictions.shape)\n",
    "    fig = plt.figure(figsize=(9,9))\n",
    "    for i in range(predictions.shape[0]):\n",
    "        plt.subplot(rows, cols, i+1)\n",
    "        plt.imshow((predictions[i, :, :, :] * 127.5 + 127.5) / 255.)\n",
    "        plt.axis('off') \n",
    "        \n",
    "    plt.subplots_adjust(wspace=0, hspace=0)\n",
    "    plt.show()"
   ]
  },
  {
   "cell_type": "code",
   "execution_count": 14,
   "id": "industrial-hughes",
   "metadata": {
    "scrolled": true
   },
   "outputs": [
    {
     "data": {
      "application/vnd.jupyter.widget-view+json": {
       "model_id": "5929e96503df4702b4943b54aa5422f2",
       "version_major": 2,
       "version_minor": 0
      },
      "text/plain": [
       "  0%|          | 0/60 [00:00<?, ?it/s]"
      ]
     },
     "metadata": {},
     "output_type": "display_data"
    },
    {
     "name": "stdout",
     "output_type": "stream",
     "text": [
      "4/4 [==============================] - 17s 4s/step - d1_loss: 0.6727 - d2_loss: 0.2659 - g_loss: 0.7327\n",
      "4/4 [==============================] - 17s 4s/step - d1_loss: 0.3028 - d2_loss: 0.2485 - g_loss: 2.3247\n",
      "4/4 [==============================] - 17s 4s/step - d1_loss: 0.2215 - d2_loss: 0.2186 - g_loss: 3.0263\n",
      "4/4 [==============================] - 18s 5s/step - d1_loss: 0.2168 - d2_loss: 0.2157 - g_loss: 2.8972\n",
      "4/4 [==============================] - 17s 4s/step - d1_loss: 0.2265 - d2_loss: 0.2156 - g_loss: 2.7212\n",
      "4/4 [==============================] - 17s 4s/step - d1_loss: 0.2049 - d2_loss: 0.2358 - g_loss: 2.7665\n",
      "4/4 [==============================] - 18s 4s/step - d1_loss: 0.2412 - d2_loss: 0.2549 - g_loss: 3.0433\n",
      "4/4 [==============================] - 17s 4s/step - d1_loss: 0.2977 - d2_loss: 0.4537 - g_loss: 2.7422\n",
      "4/4 [==============================] - 18s 4s/step - d1_loss: 0.2138 - d2_loss: 0.2728 - g_loss: 2.4282\n",
      "4/4 [==============================] - 17s 4s/step - d1_loss: 0.2177 - d2_loss: 0.3029 - g_loss: 1.6786\n",
      "4/4 [==============================] - 18s 4s/step - d1_loss: 0.2068 - d2_loss: 0.2973 - g_loss: 2.4228\n",
      "4/4 [==============================] - 18s 4s/step - d1_loss: 0.2006 - d2_loss: 0.3479 - g_loss: 1.6349\n",
      "4/4 [==============================] - 18s 4s/step - d1_loss: 0.2171 - d2_loss: 0.3507 - g_loss: 2.2614\n",
      "4/4 [==============================] - 18s 4s/step - d1_loss: 0.2165 - d2_loss: 0.3057 - g_loss: 2.3946\n",
      "4/4 [==============================] - 18s 4s/step - d1_loss: 0.2130 - d2_loss: 0.3018 - g_loss: 2.4540\n",
      "4/4 [==============================] - 18s 4s/step - d1_loss: 0.2136 - d2_loss: 0.3312 - g_loss: 2.4588\n",
      "4/4 [==============================] - 19s 5s/step - d1_loss: 0.2089 - d2_loss: 0.3033 - g_loss: 2.2958\n",
      "4/4 [==============================] - 18s 4s/step - d1_loss: 0.2061 - d2_loss: 0.2951 - g_loss: 2.1201\n",
      "4/4 [==============================] - 18s 5s/step - d1_loss: 0.2084 - d2_loss: 0.2919 - g_loss: 2.4127\n",
      "4/4 [==============================] - 18s 4s/step - d1_loss: 0.2122 - d2_loss: 0.2957 - g_loss: 2.5011\n",
      "4/4 [==============================] - 18s 4s/step - d1_loss: 0.3554 - d2_loss: 0.5548 - g_loss: 3.0673\n",
      "4/4 [==============================] - 17s 4s/step - d1_loss: 0.2184 - d2_loss: 0.3615 - g_loss: 2.1733\n",
      "4/4 [==============================] - 18s 4s/step - d1_loss: 0.2130 - d2_loss: 0.3207 - g_loss: 2.2617\n",
      "4/4 [==============================] - 18s 4s/step - d1_loss: 0.2101 - d2_loss: 0.3046 - g_loss: 2.3378\n",
      "4/4 [==============================] - 17s 4s/step - d1_loss: 0.2265 - d2_loss: 0.3374 - g_loss: 2.6106\n",
      "4/4 [==============================] - 18s 4s/step - d1_loss: 0.2109 - d2_loss: 0.3099 - g_loss: 2.2577\n",
      "4/4 [==============================] - 18s 4s/step - d1_loss: 0.2118 - d2_loss: 0.3053 - g_loss: 2.2841\n",
      "4/4 [==============================] - 17s 4s/step - d1_loss: 0.2052 - d2_loss: 0.2785 - g_loss: 2.3464\n",
      "4/4 [==============================] - 18s 4s/step - d1_loss: 0.2167 - d2_loss: 0.3333 - g_loss: 2.5245\n",
      "4/4 [==============================] - 18s 4s/step - d1_loss: 0.2078 - d2_loss: 0.2769 - g_loss: 2.3716\n",
      "4/4 [==============================] - 17s 4s/step - d1_loss: 0.2038 - d2_loss: 0.2782 - g_loss: 2.4067\n",
      "4/4 [==============================] - 18s 4s/step - d1_loss: 0.2204 - d2_loss: 0.3075 - g_loss: 2.4328\n",
      "4/4 [==============================] - 18s 4s/step - d1_loss: 0.2096 - d2_loss: 0.2883 - g_loss: 2.3239\n",
      "4/4 [==============================] - 18s 4s/step - d1_loss: 0.2225 - d2_loss: 0.3508 - g_loss: 2.7111\n",
      "4/4 [==============================] - 18s 4s/step - d1_loss: 0.2088 - d2_loss: 0.2799 - g_loss: 2.4373\n",
      "4/4 [==============================] - 18s 4s/step - d1_loss: 0.2090 - d2_loss: 0.2869 - g_loss: 2.0088\n",
      "4/4 [==============================] - 18s 5s/step - d1_loss: 0.2108 - d2_loss: 0.3349 - g_loss: 2.2516\n",
      "4/4 [==============================] - 18s 4s/step - d1_loss: 0.2131 - d2_loss: 0.3100 - g_loss: 2.2524\n",
      "4/4 [==============================] - 18s 4s/step - d1_loss: 0.2108 - d2_loss: 0.2894 - g_loss: 2.3806\n",
      "4/4 [==============================] - 18s 4s/step - d1_loss: 0.2061 - d2_loss: 0.2830 - g_loss: 2.3832\n",
      "4/4 [==============================] - 18s 4s/step - d1_loss: 0.2320 - d2_loss: 0.3095 - g_loss: 3.1247\n",
      "4/4 [==============================] - 18s 4s/step - d1_loss: 0.2098 - d2_loss: 0.2943 - g_loss: 2.3180\n",
      "4/4 [==============================] - 18s 4s/step - d1_loss: 0.2081 - d2_loss: 0.2840 - g_loss: 2.3817\n",
      "4/4 [==============================] - 18s 4s/step - d1_loss: 0.2072 - d2_loss: 0.2863 - g_loss: 2.3659\n",
      "4/4 [==============================] - 18s 4s/step - d1_loss: 0.2069 - d2_loss: 0.2681 - g_loss: 2.2556\n",
      "4/4 [==============================] - 18s 4s/step - d1_loss: 0.2161 - d2_loss: 0.3019 - g_loss: 2.5753\n",
      "4/4 [==============================] - 18s 5s/step - d1_loss: 0.2040 - d2_loss: 0.2709 - g_loss: 2.3695\n",
      "4/4 [==============================] - 18s 4s/step - d1_loss: 0.2183 - d2_loss: 0.2770 - g_loss: 2.7933\n",
      "4/4 [==============================] - 18s 4s/step - d1_loss: 0.2598 - d2_loss: 0.3904 - g_loss: 3.3167\n",
      "4/4 [==============================] - 18s 4s/step - d1_loss: 0.2135 - d2_loss: 0.3277 - g_loss: 2.3504\n",
      "4/4 [==============================] - 18s 4s/step - d1_loss: 0.2142 - d2_loss: 0.2849 - g_loss: 2.5163\n",
      "4/4 [==============================] - 18s 4s/step - d1_loss: 0.2080 - d2_loss: 0.2765 - g_loss: 2.4169\n",
      "4/4 [==============================] - 18s 4s/step - d1_loss: 0.2048 - d2_loss: 0.2782 - g_loss: 2.2645\n",
      "4/4 [==============================] - 18s 4s/step - d1_loss: 0.2055 - d2_loss: 0.2622 - g_loss: 2.5603\n",
      "4/4 [==============================] - 18s 4s/step - d1_loss: 0.2342 - d2_loss: 0.3641 - g_loss: 2.1674\n",
      "4/4 [==============================] - 18s 4s/step - d1_loss: 0.2099 - d2_loss: 0.3167 - g_loss: 2.3104\n",
      "4/4 [==============================] - 18s 4s/step - d1_loss: 0.2061 - d2_loss: 0.2793 - g_loss: 2.4796\n",
      "4/4 [==============================] - 18s 4s/step - d1_loss: 0.2072 - d2_loss: 0.2877 - g_loss: 2.3867\n",
      "4/4 [==============================] - 18s 4s/step - d1_loss: 0.2071 - d2_loss: 0.2904 - g_loss: 2.3901\n",
      "4/4 [==============================] - 18s 4s/step - d1_loss: 0.2040 - d2_loss: 0.2811 - g_loss: 2.3172\n",
      "Model: \"discriminator\"\n",
      "_________________________________________________________________\n",
      "Layer (type)                 Output Shape              Param #   \n",
      "=================================================================\n",
      "input_1 (InputLayer)         [(None, 64, 64, 3)]       0         \n",
      "_________________________________________________________________\n",
      "conv2d (Conv2D)              (None, 32, 32, 64)        4864      \n",
      "_________________________________________________________________\n",
      "leaky_re_lu (LeakyReLU)      (None, 32, 32, 64)        0         \n",
      "_________________________________________________________________\n",
      "dropout (Dropout)            (None, 32, 32, 64)        0         \n",
      "_________________________________________________________________\n",
      "conv2d_1 (Conv2D)            (None, 16, 16, 128)       204928    \n",
      "_________________________________________________________________\n",
      "leaky_re_lu_1 (LeakyReLU)    (None, 16, 16, 128)       0         \n",
      "_________________________________________________________________\n",
      "dropout_1 (Dropout)          (None, 16, 16, 128)       0         \n",
      "_________________________________________________________________\n",
      "conv2d_2 (Conv2D)            (None, 8, 8, 256)         819456    \n",
      "_________________________________________________________________\n",
      "leaky_re_lu_2 (LeakyReLU)    (None, 8, 8, 256)         0         \n",
      "_________________________________________________________________\n",
      "dropout_2 (Dropout)          (None, 8, 8, 256)         0         \n",
      "_________________________________________________________________\n",
      "conv2d_3 (Conv2D)            (None, 4, 4, 512)         3277312   \n",
      "_________________________________________________________________\n",
      "leaky_re_lu_3 (LeakyReLU)    (None, 4, 4, 512)         0         \n",
      "_________________________________________________________________\n",
      "dropout_3 (Dropout)          (None, 4, 4, 512)         0         \n",
      "_________________________________________________________________\n",
      "flatten (Flatten)            (None, 8192)              0         \n",
      "_________________________________________________________________\n",
      "dense (Dense)                (None, 1)                 8193      \n",
      "=================================================================\n",
      "Total params: 4,314,753\n",
      "Trainable params: 4,314,753\n",
      "Non-trainable params: 0\n",
      "_________________________________________________________________\n",
      "Model: \"generator\"\n",
      "_________________________________________________________________\n",
      "Layer (type)                 Output Shape              Param #   \n",
      "=================================================================\n",
      "generator_noise_input (Input [(None, 128)]             0         \n",
      "_________________________________________________________________\n",
      "dense_1 (Dense)              (None, 8192)              1048576   \n",
      "_________________________________________________________________\n",
      "batch_normalization (BatchNo (None, 8192)              32768     \n",
      "_________________________________________________________________\n",
      "leaky_re_lu_4 (LeakyReLU)    (None, 8192)              0         \n",
      "_________________________________________________________________\n",
      "reshape (Reshape)            (None, 4, 4, 512)         0         \n",
      "_________________________________________________________________\n",
      "conv2d_transpose (Conv2DTran (None, 8, 8, 256)         3276800   \n",
      "_________________________________________________________________\n",
      "batch_normalization_1 (Batch (None, 8, 8, 256)         1024      \n",
      "_________________________________________________________________\n",
      "leaky_re_lu_5 (LeakyReLU)    (None, 8, 8, 256)         0         \n",
      "_________________________________________________________________\n",
      "conv2d_transpose_1 (Conv2DTr (None, 16, 16, 128)       819200    \n",
      "_________________________________________________________________\n",
      "batch_normalization_2 (Batch (None, 16, 16, 128)       512       \n",
      "_________________________________________________________________\n",
      "leaky_re_lu_6 (LeakyReLU)    (None, 16, 16, 128)       0         \n",
      "_________________________________________________________________\n",
      "conv2d_transpose_2 (Conv2DTr (None, 32, 32, 64)        204800    \n",
      "_________________________________________________________________\n",
      "batch_normalization_3 (Batch (None, 32, 32, 64)        256       \n",
      "_________________________________________________________________\n",
      "leaky_re_lu_7 (LeakyReLU)    (None, 32, 32, 64)        0         \n",
      "_________________________________________________________________\n",
      "conv2d_transpose_3 (Conv2DTr (None, 64, 64, 32)        51200     \n",
      "_________________________________________________________________\n",
      "batch_normalization_4 (Batch (None, 64, 64, 32)        128       \n",
      "_________________________________________________________________\n",
      "leaky_re_lu_8 (LeakyReLU)    (None, 64, 64, 32)        0         \n",
      "_________________________________________________________________\n",
      "conv2d_4 (Conv2D)            (None, 64, 64, 3)         2403      \n",
      "_________________________________________________________________\n",
      "activation (Activation)      (None, 64, 64, 3)         0         \n",
      "=================================================================\n",
      "Total params: 5,437,667\n",
      "Trainable params: 5,420,323\n",
      "Non-trainable params: 17,344\n",
      "_________________________________________________________________\n"
     ]
    }
   ],
   "source": [
    "d_model = build_discriminator()\n",
    "g_model = build_generator(latent_dim)\n",
    "\n",
    "if os.path.exists('../models/saved_model/d_model.h5') and os.path.exists('../models/saved_model/g_model.h5'):\n",
    "    d_model.load_weights(\"../models/saved_model/d_model.h5\")\n",
    "    g_model.load_weights(\"../models/saved_model/g_model.h5\")\n",
    "else:\n",
    "    gan = GAN(d_model, g_model, latent_dim)\n",
    "    bce_loss_fn = tf.keras.losses.BinaryCrossentropy(from_logits=True, label_smoothing=0.1)\n",
    "    d_optimizer = tf.keras.optimizers.Adam(learning_rate=0.0002, beta_1=0.5)\n",
    "    g_optimizer = tf.keras.optimizers.Adam(learning_rate=0.0002, beta_1=0.5)\n",
    "    gan.compile(d_optimizer, g_optimizer, bce_loss_fn)\n",
    "    images_dataset = tf_dataset(images_path, batch_size)\n",
    "\n",
    "    for epoch in tqdm(range(num_epochs)):\n",
    "        gan.fit(images_dataset, epochs=1)\n",
    "        g_model.save(\"../models/saved_model/g_model.h5\")\n",
    "        d_model.save(\"../models/saved_model/d_model.h5\")\n",
    "\n",
    "        n_samples = 25\n",
    "        noise = np.random.normal(size=(n_samples, latent_dim))\n",
    "        examples = g_model.predict(noise)\n",
    "        save_plot(examples, epoch, int(np.sqrt(n_samples)))\n",
    "\n",
    "d_model.summary()\n",
    "g_model.summary()"
   ]
  },
  {
   "cell_type": "code",
   "execution_count": null,
   "id": "naval-lawrence",
   "metadata": {},
   "outputs": [],
   "source": []
  },
  {
   "cell_type": "code",
   "execution_count": 17,
   "id": "vertical-pillow",
   "metadata": {},
   "outputs": [
    {
     "data": {
      "image/png": "[encoded data removed]",
      "text/plain": [
       "<Figure size 360x360 with 1 Axes>"
      ]
     },
     "metadata": {
      "needs_background": "light"
     },
     "output_type": "display_data"
    }
   ],
   "source": [
    "generate_test_image(g_model)"
   ]
  },
  {
   "cell_type": "code",
   "execution_count": 18,
   "id": "advanced-myanmar",
   "metadata": {},
   "outputs": [
    {
     "name": "stdout",
     "output_type": "stream",
     "text": [
      "(16, 64, 64, 3)\n"
     ]
    },
    {
     "data": {
      "image/png": "[encoded data removed]",
      "text/plain": [
       "<Figure size 648x648 with 16 Axes>"
      ]
     },
     "metadata": {
      "needs_background": "light"
     },
     "output_type": "display_data"
    }
   ],
   "source": [
    "generate_and_show_images(g_model)"
   ]
  },
  {
   "cell_type": "code",
   "execution_count": null,
   "id": "worst-isaac",
   "metadata": {},
   "outputs": [],
   "source": []
  },
  {
   "cell_type": "code",
   "execution_count": null,
   "id": "organized-reward",
   "metadata": {},
   "outputs": [],
   "source": []
  }
 ],
 "metadata": {
  "kernelspec": {
   "display_name": "py3.7",
   "language": "python",
   "name": "py3.7"
  },
  "language_info": {
   "codemirror_mode": {
    "name": "ipython",
    "version": 3
   },
   "file_extension": ".py",
   "mimetype": "text/x-python",
   "name": "python",
   "nbconvert_exporter": "python",
   "pygments_lexer": "ipython3",
   "version": "3.7.0"
  }
 },
 "nbformat": 4,
 "nbformat_minor": 5
}
