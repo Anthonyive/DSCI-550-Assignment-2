{
 "cells": [
  {
   "cell_type": "markdown",
   "id": "cross-level",
   "metadata": {},
   "source": [
    "# Extract Captions from txt files and contert them into a json file"
   ]
  },
  {
   "cell_type": "code",
   "execution_count": 222,
   "id": "serial-frontier",
   "metadata": {},
   "outputs": [],
   "source": [
    "def extract_index_caption(txtfile):\n",
    "    caption = []\n",
    "    list_caption_dict = []\n",
    "    with open(txtfile)as f:\n",
    "        for line in f:\n",
    "            if 'meta name=\"resourceName\"' in line:\n",
    "                caption.append(line.rstrip(\"\\n\"))\n",
    "            if '<body'in line:\n",
    "                caption.append(line.rstrip(\"\\n\")) \n",
    "    index_list = caption[::2]\n",
    "    caption_list = caption[1::2]\n",
    "    zip_list = zip(index_list,caption_list)\n",
    "    index_caption = list(zip_list)\n",
    "    for i in index_caption:\n",
    "        caption_dict = {}\n",
    "        index = i[0].split()[2].strip('\"/>').lstrip('content=\"')\n",
    "        caption=\" \".join(i[1].split()[4:][:-3])\n",
    "        caption_dict[index] = caption\n",
    "        list_caption_dict.append(caption_dict)\n",
    "    return list_caption_dict"
   ]
  },
  {
   "cell_type": "code",
   "execution_count": 223,
   "id": "charitable-blame",
   "metadata": {},
   "outputs": [],
   "source": [
    "def dict_to_json(txtfile):\n",
    "    filename = txtfile.strip(\".txt\")\n",
    "    caption_dict = extract_index_caption(txtfile)\n",
    "    with open(filename+\"_captions.json\",\"w\") as file:\n",
    "        json.dump(caption_dict,file)"
   ]
  },
  {
   "cell_type": "code",
   "execution_count": 224,
   "id": "processed-bristol",
   "metadata": {},
   "outputs": [],
   "source": [
    "dict_to_json(\"models_credencial_phishing.txt\")"
   ]
  },
  {
   "cell_type": "code",
   "execution_count": 225,
   "id": "continental-fellowship",
   "metadata": {},
   "outputs": [],
   "source": [
    "dict_to_json(\"models_reconnaissance.txt\")"
   ]
  },
  {
   "cell_type": "code",
   "execution_count": 226,
   "id": "chief-helena",
   "metadata": {},
   "outputs": [],
   "source": [
    "dict_to_json(\"models_malware.txt\")"
   ]
  },
  {
   "cell_type": "code",
   "execution_count": 227,
   "id": "straight-triangle",
   "metadata": {},
   "outputs": [],
   "source": [
    "dict_to_json(\"models_social_engineering.txt\")"
   ]
  },
  {
   "cell_type": "markdown",
   "id": "plain-efficiency",
   "metadata": {},
   "source": [
    "# Extract the last 200 image captions from each category and append them to tsv file"
   ]
  },
  {
   "cell_type": "code",
   "execution_count": 279,
   "id": "nasty-setting",
   "metadata": {},
   "outputs": [],
   "source": [
    "def extract_last_800_captions(json_file):\n",
    "    last_800_captions = []\n",
    "    with open(json_file)as f:\n",
    "        file = json.load(f)\n",
    "    for i in file:\n",
    "        order = (int(list(i.keys())[0].split(\"-\")[1].strip(\".png\")))\n",
    "        if order >=3801 and order <= 4000:\n",
    "            last_800_captions.append(list(i.values())[0])\n",
    "    return last_800_captions"
   ]
  },
  {
   "cell_type": "code",
   "execution_count": 280,
   "id": "lonely-variance",
   "metadata": {},
   "outputs": [],
   "source": [
    "captions_1 = extract_last_800_captions(\"models_credencial_phishing_captions.json\")\n",
    "captions_2=extract_last_800_captions(\"models_social_engineering_captions.json\")\n",
    "captions_3=extract_last_800_captions(\"models_malware_captions.json\")\n",
    "captions_4=extract_last_800_captions(\"models_reconnaissance_captions.json\")"
   ]
  },
  {
   "cell_type": "code",
   "execution_count": 296,
   "id": "russian-right",
   "metadata": {},
   "outputs": [],
   "source": [
    "caption = captions_1+captions_3+captions_4+captions_2"
   ]
  },
  {
   "cell_type": "code",
   "execution_count": 288,
   "id": "optional-arabic",
   "metadata": {},
   "outputs": [],
   "source": [
    "captions = pd.DataFrame({\"Phish_Irish_Captions\":caption})"
   ]
  },
  {
   "cell_type": "code",
   "execution_count": 260,
   "id": "sapphire-affect",
   "metadata": {},
   "outputs": [],
   "source": [
    "# df_1= pd.DataFrame({\"credential_phishing_captions\":captions_1})\n",
    "# df_2=pd.DataFrame({\"social_engineering_captions\":captions_2})\n",
    "# df_3=pd.DataFrame({\"malware_captions\":captions_3})\n",
    "# df_4=pd.DataFrame({\"reconnaissance_captions\":captions_4})"
   ]
  },
  {
   "cell_type": "code",
   "execution_count": 271,
   "id": "executed-review",
   "metadata": {},
   "outputs": [],
   "source": [
    "import pandas as pd\n",
    "df_tsv = pd.read_csv(\"~/DSCI-550-Assignment-2/data/additional-features-v2/new/assignment2.tsv\", sep = '\\t')"
   ]
  },
  {
   "cell_type": "code",
   "execution_count": 274,
   "id": "handled-strengthening",
   "metadata": {},
   "outputs": [
    {
     "data": {
      "text/plain": [
       "array(['Credential_phishing', 'Malware', 'Reconnaissance',\n",
       "       'Social_engineering'], dtype=object)"
      ]
     },
     "execution_count": 274,
     "metadata": {},
     "output_type": "execute_result"
    }
   ],
   "source": [
    "df_tsv[\"category\"].unique()"
   ]
  },
  {
   "cell_type": "code",
   "execution_count": 270,
   "id": "expensive-still",
   "metadata": {},
   "outputs": [
    {
     "data": {
      "text/html": [
       "<div>\n",
       "<style scoped>\n",
       "    .dataframe tbody tr th:only-of-type {\n",
       "        vertical-align: middle;\n",
       "    }\n",
       "\n",
       "    .dataframe tbody tr th {\n",
       "        vertical-align: top;\n",
       "    }\n",
       "\n",
       "    .dataframe thead th {\n",
       "        text-align: right;\n",
       "    }\n",
       "</style>\n",
       "<table border=\"1\" class=\"dataframe\">\n",
       "  <thead>\n",
       "    <tr style=\"text-align: right;\">\n",
       "      <th></th>\n",
       "      <th>Unnamed: 0</th>\n",
       "      <th>content</th>\n",
       "      <th>reply #</th>\n",
       "      <th>category</th>\n",
       "      <th>index</th>\n",
       "    </tr>\n",
       "  </thead>\n",
       "  <tbody>\n",
       "    <tr>\n",
       "      <th>0</th>\n",
       "      <td>0</td>\n",
       "      <td>When the release date for the project was anno...</td>\n",
       "      <td>0</td>\n",
       "      <td>Credential_phishing</td>\n",
       "      <td>0</td>\n",
       "    </tr>\n",
       "    <tr>\n",
       "      <th>1</th>\n",
       "      <td>1</td>\n",
       "      <td>In the course of my search, I discovered a lar...</td>\n",
       "      <td>0</td>\n",
       "      <td>Credential_phishing</td>\n",
       "      <td>1</td>\n",
       "    </tr>\n",
       "    <tr>\n",
       "      <th>2</th>\n",
       "      <td>2</td>\n",
       "      <td>Frequently Asked Questions\\n\\nQ: Can I get a 1...</td>\n",
       "      <td>0</td>\n",
       "      <td>Credential_phishing</td>\n",
       "      <td>10</td>\n",
       "    </tr>\n",
       "    <tr>\n",
       "      <th>3</th>\n",
       "      <td>3</td>\n",
       "      <td>Dear Sir/Madam,\\n\\nI am writing you because yo...</td>\n",
       "      <td>0</td>\n",
       "      <td>Credential_phishing</td>\n",
       "      <td>100</td>\n",
       "    </tr>\n",
       "    <tr>\n",
       "      <th>4</th>\n",
       "      <td>4</td>\n",
       "      <td>- Free phone and fax service.\\n- All telephone...</td>\n",
       "      <td>0</td>\n",
       "      <td>Credential_phishing</td>\n",
       "      <td>101</td>\n",
       "    </tr>\n",
       "    <tr>\n",
       "      <th>...</th>\n",
       "      <td>...</td>\n",
       "      <td>...</td>\n",
       "      <td>...</td>\n",
       "      <td>...</td>\n",
       "      <td>...</td>\n",
       "    </tr>\n",
       "    <tr>\n",
       "      <th>3195</th>\n",
       "      <td>3195</td>\n",
       "      <td>YoI can't understand what you mean by that mea...</td>\n",
       "      <td>3</td>\n",
       "      <td>Social_engineering</td>\n",
       "      <td>95</td>\n",
       "    </tr>\n",
       "    <tr>\n",
       "      <th>3196</th>\n",
       "      <td>3196</td>\n",
       "      <td>To whom may concern, F**k you! to find a way t...</td>\n",
       "      <td>3</td>\n",
       "      <td>Social_engineering</td>\n",
       "      <td>96</td>\n",
       "    </tr>\n",
       "    <tr>\n",
       "      <th>3197</th>\n",
       "      <td>3197</td>\n",
       "      <td>YoCall me at 911.\\n(CEM)\\n\\n(CEM)\\n\\n(CEM)\\n\\n...</td>\n",
       "      <td>3</td>\n",
       "      <td>Social_engineering</td>\n",
       "      <td>97</td>\n",
       "    </tr>\n",
       "    <tr>\n",
       "      <th>3198</th>\n",
       "      <td>3198</td>\n",
       "      <td>Hello, You wanted my SSN, here is my birthday,...</td>\n",
       "      <td>3</td>\n",
       "      <td>Social_engineering</td>\n",
       "      <td>98</td>\n",
       "    </tr>\n",
       "    <tr>\n",
       "      <th>3199</th>\n",
       "      <td>3199</td>\n",
       "      <td>Dear, I've located your ip address. is there n...</td>\n",
       "      <td>3</td>\n",
       "      <td>Social_engineering</td>\n",
       "      <td>99</td>\n",
       "    </tr>\n",
       "  </tbody>\n",
       "</table>\n",
       "<p>3200 rows × 5 columns</p>\n",
       "</div>"
      ],
      "text/plain": [
       "      Unnamed: 0                                            content  reply #  \\\n",
       "0              0  When the release date for the project was anno...        0   \n",
       "1              1  In the course of my search, I discovered a lar...        0   \n",
       "2              2  Frequently Asked Questions\\n\\nQ: Can I get a 1...        0   \n",
       "3              3  Dear Sir/Madam,\\n\\nI am writing you because yo...        0   \n",
       "4              4  - Free phone and fax service.\\n- All telephone...        0   \n",
       "...          ...                                                ...      ...   \n",
       "3195        3195  YoI can't understand what you mean by that mea...        3   \n",
       "3196        3196  To whom may concern, F**k you! to find a way t...        3   \n",
       "3197        3197  YoCall me at 911.\\n(CEM)\\n\\n(CEM)\\n\\n(CEM)\\n\\n...        3   \n",
       "3198        3198  Hello, You wanted my SSN, here is my birthday,...        3   \n",
       "3199        3199  Dear, I've located your ip address. is there n...        3   \n",
       "\n",
       "                 category  index  \n",
       "0     Credential_phishing      0  \n",
       "1     Credential_phishing      1  \n",
       "2     Credential_phishing     10  \n",
       "3     Credential_phishing    100  \n",
       "4     Credential_phishing    101  \n",
       "...                   ...    ...  \n",
       "3195   Social_engineering     95  \n",
       "3196   Social_engineering     96  \n",
       "3197   Social_engineering     97  \n",
       "3198   Social_engineering     98  \n",
       "3199   Social_engineering     99  \n",
       "\n",
       "[3200 rows x 5 columns]"
      ]
     },
     "execution_count": 270,
     "metadata": {},
     "output_type": "execute_result"
    }
   ],
   "source": [
    "df_tsv"
   ]
  },
  {
   "cell_type": "code",
   "execution_count": 292,
   "id": "offshore-christian",
   "metadata": {},
   "outputs": [],
   "source": [
    "new = pd.concat([df_tsv,captions],axis=1)"
   ]
  },
  {
   "cell_type": "code",
   "execution_count": 354,
   "id": "arranged-track",
   "metadata": {},
   "outputs": [
    {
     "data": {
      "text/html": [
       "<div>\n",
       "<style scoped>\n",
       "    .dataframe tbody tr th:only-of-type {\n",
       "        vertical-align: middle;\n",
       "    }\n",
       "\n",
       "    .dataframe tbody tr th {\n",
       "        vertical-align: top;\n",
       "    }\n",
       "\n",
       "    .dataframe thead th {\n",
       "        text-align: right;\n",
       "    }\n",
       "</style>\n",
       "<table border=\"1\" class=\"dataframe\">\n",
       "  <thead>\n",
       "    <tr style=\"text-align: right;\">\n",
       "      <th></th>\n",
       "      <th>Unnamed: 0</th>\n",
       "      <th>content</th>\n",
       "      <th>reply #</th>\n",
       "      <th>category</th>\n",
       "      <th>index</th>\n",
       "      <th>Phish_Irish_Captions</th>\n",
       "    </tr>\n",
       "  </thead>\n",
       "  <tbody>\n",
       "    <tr>\n",
       "      <th>0</th>\n",
       "      <td>0</td>\n",
       "      <td>When the release date for the project was anno...</td>\n",
       "      <td>0</td>\n",
       "      <td>Credential_phishing</td>\n",
       "      <td>0</td>\n",
       "      <td>a black and white photo of a snow covered moun...</td>\n",
       "    </tr>\n",
       "    <tr>\n",
       "      <th>1</th>\n",
       "      <td>1</td>\n",
       "      <td>In the course of my search, I discovered a lar...</td>\n",
       "      <td>0</td>\n",
       "      <td>Credential_phishing</td>\n",
       "      <td>1</td>\n",
       "      <td>a black and white photo of a pair of scissors .</td>\n",
       "    </tr>\n",
       "    <tr>\n",
       "      <th>2</th>\n",
       "      <td>2</td>\n",
       "      <td>Frequently Asked Questions\\n\\nQ: Can I get a 1...</td>\n",
       "      <td>0</td>\n",
       "      <td>Credential_phishing</td>\n",
       "      <td>10</td>\n",
       "      <td>a pair of skis sitting on top of a snow covere...</td>\n",
       "    </tr>\n",
       "    <tr>\n",
       "      <th>3</th>\n",
       "      <td>3</td>\n",
       "      <td>Dear Sir/Madam,\\n\\nI am writing you because yo...</td>\n",
       "      <td>0</td>\n",
       "      <td>Credential_phishing</td>\n",
       "      <td>100</td>\n",
       "      <td>a black and white photo of a snow skier</td>\n",
       "    </tr>\n",
       "    <tr>\n",
       "      <th>4</th>\n",
       "      <td>4</td>\n",
       "      <td>- Free phone and fax service.\\n- All telephone...</td>\n",
       "      <td>0</td>\n",
       "      <td>Credential_phishing</td>\n",
       "      <td>101</td>\n",
       "      <td>a black and white photo of a snow board</td>\n",
       "    </tr>\n",
       "    <tr>\n",
       "      <th>...</th>\n",
       "      <td>...</td>\n",
       "      <td>...</td>\n",
       "      <td>...</td>\n",
       "      <td>...</td>\n",
       "      <td>...</td>\n",
       "      <td>...</td>\n",
       "    </tr>\n",
       "    <tr>\n",
       "      <th>796</th>\n",
       "      <td>796</td>\n",
       "      <td>Following a successful search, the owner of th...</td>\n",
       "      <td>0</td>\n",
       "      <td>Social_engineering</td>\n",
       "      <td>96</td>\n",
       "      <td>a living room with a couch and a table</td>\n",
       "    </tr>\n",
       "    <tr>\n",
       "      <th>797</th>\n",
       "      <td>797</td>\n",
       "      <td>18.5\\n\\n11.6%\\n\\n11.1%\\n\\n10.8%\\n\\n9.7%\\n\\n8.8...</td>\n",
       "      <td>0</td>\n",
       "      <td>Social_engineering</td>\n",
       "      <td>97</td>\n",
       "      <td>a bunch of different colored vases on a table .</td>\n",
       "    </tr>\n",
       "    <tr>\n",
       "      <th>798</th>\n",
       "      <td>798</td>\n",
       "      <td>The EU is ready to introduce a law that will p...</td>\n",
       "      <td>0</td>\n",
       "      <td>Social_engineering</td>\n",
       "      <td>98</td>\n",
       "      <td>a group of three vases sitting on top of a tab...</td>\n",
       "    </tr>\n",
       "    <tr>\n",
       "      <th>799</th>\n",
       "      <td>799</td>\n",
       "      <td>The only thing that is known to me so far abou...</td>\n",
       "      <td>0</td>\n",
       "      <td>Social_engineering</td>\n",
       "      <td>99</td>\n",
       "      <td>a room with a couch and a table</td>\n",
       "    </tr>\n",
       "    <tr>\n",
       "      <th>800</th>\n",
       "      <td>800</td>\n",
       "      <td>Hello, Call me at 911. in this project, please...</td>\n",
       "      <td>1</td>\n",
       "      <td>Credential_phishing</td>\n",
       "      <td>0</td>\n",
       "      <td>NaN</td>\n",
       "    </tr>\n",
       "  </tbody>\n",
       "</table>\n",
       "<p>801 rows × 6 columns</p>\n",
       "</div>"
      ],
      "text/plain": [
       "     Unnamed: 0                                            content  reply #  \\\n",
       "0             0  When the release date for the project was anno...        0   \n",
       "1             1  In the course of my search, I discovered a lar...        0   \n",
       "2             2  Frequently Asked Questions\\n\\nQ: Can I get a 1...        0   \n",
       "3             3  Dear Sir/Madam,\\n\\nI am writing you because yo...        0   \n",
       "4             4  - Free phone and fax service.\\n- All telephone...        0   \n",
       "..          ...                                                ...      ...   \n",
       "796         796  Following a successful search, the owner of th...        0   \n",
       "797         797  18.5\\n\\n11.6%\\n\\n11.1%\\n\\n10.8%\\n\\n9.7%\\n\\n8.8...        0   \n",
       "798         798  The EU is ready to introduce a law that will p...        0   \n",
       "799         799  The only thing that is known to me so far abou...        0   \n",
       "800         800  Hello, Call me at 911. in this project, please...        1   \n",
       "\n",
       "                category  index  \\\n",
       "0    Credential_phishing      0   \n",
       "1    Credential_phishing      1   \n",
       "2    Credential_phishing     10   \n",
       "3    Credential_phishing    100   \n",
       "4    Credential_phishing    101   \n",
       "..                   ...    ...   \n",
       "796   Social_engineering     96   \n",
       "797   Social_engineering     97   \n",
       "798   Social_engineering     98   \n",
       "799   Social_engineering     99   \n",
       "800  Credential_phishing      0   \n",
       "\n",
       "                                  Phish_Irish_Captions  \n",
       "0    a black and white photo of a snow covered moun...  \n",
       "1      a black and white photo of a pair of scissors .  \n",
       "2    a pair of skis sitting on top of a snow covere...  \n",
       "3              a black and white photo of a snow skier  \n",
       "4              a black and white photo of a snow board  \n",
       "..                                                 ...  \n",
       "796             a living room with a couch and a table  \n",
       "797    a bunch of different colored vases on a table .  \n",
       "798  a group of three vases sitting on top of a tab...  \n",
       "799                    a room with a couch and a table  \n",
       "800                                                NaN  \n",
       "\n",
       "[801 rows x 6 columns]"
      ]
     },
     "execution_count": 354,
     "metadata": {},
     "output_type": "execute_result"
    }
   ],
   "source": [
    "new.head(801)"
   ]
  },
  {
   "cell_type": "markdown",
   "id": "individual-stylus",
   "metadata": {},
   "source": [
    "# Calculate the common words for every catetory's captions"
   ]
  },
  {
   "cell_type": "code",
   "execution_count": 300,
   "id": "configured-attribute",
   "metadata": {},
   "outputs": [],
   "source": [
    "import matplotlib.pyplot as plt\n",
    "import pandas as pd"
   ]
  },
  {
   "cell_type": "code",
   "execution_count": 328,
   "id": "lightweight-castle",
   "metadata": {},
   "outputs": [],
   "source": [
    "with open(\"models_credencial_phishing_captions.json\")as f:\n",
    "    f1 = json.load(f)\n",
    "with open(\"models_malware_captions.json\")as f:\n",
    "    f2=json.load(f)\n",
    "with open(\"models_reconnaissance_captions.json\")as f:\n",
    "    f3=json.load(f)\n",
    "with open(\"models_social_engineering_captions.json\")as f:\n",
    "    f4=json.load(f)"
   ]
  },
  {
   "cell_type": "code",
   "execution_count": 329,
   "id": "signed-investment",
   "metadata": {},
   "outputs": [],
   "source": [
    "def word_count(file):\n",
    "    caption={}\n",
    "    for i in range(len(file)):\n",
    "        values = list(file[i].values())[0].split()\n",
    "        for j in values:\n",
    "            if j == \"a\" or j == 'the' or j == '.' or j == 'of' or j == 'and' or j =='in' or j =='on' or j =='with' or j =='up' or j==\"top\":\n",
    "                pass\n",
    "            else:\n",
    "                caption[j]=caption.get(j,1)+1\n",
    "    return caption"
   ]
  },
  {
   "cell_type": "code",
   "execution_count": 330,
   "id": "quantitative-judge",
   "metadata": {},
   "outputs": [],
   "source": [
    "def word_count_df(file):\n",
    "    wc_dict=word_count(file)\n",
    "    return pd.DataFrame(wc_dict.items(),columns = ['word','count']).sort_values(by='count',ascending=False).head(10)"
   ]
  },
  {
   "cell_type": "code",
   "execution_count": 351,
   "id": "periodic-compilation",
   "metadata": {},
   "outputs": [],
   "source": [
    "def wc_graph(file,color):\n",
    "    word_frequency = word_count_df(file)\n",
    "    fig, ax = plt.subplots(figsize=(8, 8))\n",
    "    word_frequency.sort_values(by='count').plot.barh(x='word',y='count',ax=ax,color=color)\n",
    "    ax.set_title(\"Common Words Found\")\n",
    "    plt.show()"
   ]
  },
  {
   "cell_type": "code",
   "execution_count": 352,
   "id": "intimate-truck",
   "metadata": {},
   "outputs": [
    {
     "data": {
      "image/png": "[encoded data removed]",
      "text/plain": [
       "<Figure size 576x576 with 1 Axes>"
      ]
     },
     "metadata": {
      "needs_background": "light"
     },
     "output_type": "display_data"
    }
   ],
   "source": [
    "wc_graph(f1,\"steelblue\")"
   ]
  },
  {
   "cell_type": "code",
   "execution_count": 346,
   "id": "spare-growth",
   "metadata": {},
   "outputs": [
    {
     "data": {
      "image/png": "[encoded data removed]",
      "text/plain": [
       "<Figure size 576x576 with 1 Axes>"
      ]
     },
     "metadata": {
      "needs_background": "light"
     },
     "output_type": "display_data"
    }
   ],
   "source": [
    "wc_graph(f2,\"chocolate\")"
   ]
  },
  {
   "cell_type": "code",
   "execution_count": 347,
   "id": "reliable-outside",
   "metadata": {},
   "outputs": [
    {
     "data": {
      "image/png": "[encoded data removed]",
      "text/plain": [
       "<Figure size 576x576 with 1 Axes>"
      ]
     },
     "metadata": {
      "needs_background": "light"
     },
     "output_type": "display_data"
    }
   ],
   "source": [
    "wc_graph(f3,\"salmon\")"
   ]
  },
  {
   "cell_type": "code",
   "execution_count": 348,
   "id": "graduate-boutique",
   "metadata": {},
   "outputs": [
    {
     "data": {
      "image/png": "[encoded data removed]",
      "text/plain": [
       "<Figure size 576x576 with 1 Axes>"
      ]
     },
     "metadata": {
      "needs_background": "light"
     },
     "output_type": "display_data"
    }
   ],
   "source": [
    "wc_graph(f4,\"forestgreen\")"
   ]
  },
  {
   "cell_type": "markdown",
   "id": "included-knight",
   "metadata": {},
   "source": [
    "# Extract 200 phish irish images for each category and append them to tsv file"
   ]
  },
  {
   "cell_type": "code",
   "execution_count": 358,
   "id": "substantial-monster",
   "metadata": {},
   "outputs": [],
   "source": [
    "from PIL import Image\n",
    "from numpy import asarray\n",
    "import os"
   ]
  },
  {
   "cell_type": "code",
   "execution_count": 400,
   "id": "returning-witch",
   "metadata": {},
   "outputs": [],
   "source": [
    "def img_array(filepath):\n",
    "    img_array_list = []\n",
    "    for i in os.listdir(filepath):\n",
    "        try:\n",
    "            order = int(i.split(\"-\")[1].strip(\".png\"))\n",
    "            if order >=3801 and order <= 4000:\n",
    "                img = Image.open(filepath+\"/\"+i)\n",
    "                numpydata=asarray(img)\n",
    "                img_array_list.append(numpydata)\n",
    "        except:\n",
    "            pass\n",
    "    return img_array_list"
   ]
  },
  {
   "cell_type": "code",
   "execution_count": 401,
   "id": "sorted-cookbook",
   "metadata": {},
   "outputs": [],
   "source": [
    "array_1 = img_array(\"/Users/naturbiz/Downloads/FakePhishIris/models_credencial_phishing/samples\")"
   ]
  },
  {
   "cell_type": "code",
   "execution_count": 402,
   "id": "essential-annex",
   "metadata": {},
   "outputs": [],
   "source": [
    "array_2 = img_array(\"/Users/naturbiz/Downloads/FakePhishIris/models_malware/samples\")"
   ]
  },
  {
   "cell_type": "code",
   "execution_count": 403,
   "id": "periodic-proceeding",
   "metadata": {},
   "outputs": [],
   "source": [
    "array_3 = img_array(\"/Users/naturbiz/Downloads/FakePhishIris/models_reconnaissance/samples\")\n",
    "array_4 = img_array(\"/Users/naturbiz/Downloads/FakePhishIris/models_social_engineering/samples\")"
   ]
  },
  {
   "cell_type": "code",
   "execution_count": 404,
   "id": "awful-imperial",
   "metadata": {},
   "outputs": [],
   "source": [
    "image_arrays = array_1+array_2+array_3+array_4"
   ]
  },
  {
   "cell_type": "code",
   "execution_count": 409,
   "id": "consecutive-future",
   "metadata": {},
   "outputs": [],
   "source": [
    "image_array_df = pd.DataFrame({\"Phish_Irish_Images\":image_arrays})"
   ]
  },
  {
   "cell_type": "code",
   "execution_count": 410,
   "id": "silent-century",
   "metadata": {},
   "outputs": [],
   "source": [
    "new = pd.concat([new,image_array_df],axis=1)"
   ]
  },
  {
   "cell_type": "code",
   "execution_count": 414,
   "id": "typical-gambling",
   "metadata": {},
   "outputs": [],
   "source": [
    "new.to_csv(\"assignment2.tsv\", sep = '\\t', index=False)"
   ]
  },
  {
   "cell_type": "code",
   "execution_count": 424,
   "id": "experimental-stocks",
   "metadata": {},
   "outputs": [
    {
     "data": {
      "text/html": [
       "<div>\n",
       "<style scoped>\n",
       "    .dataframe tbody tr th:only-of-type {\n",
       "        vertical-align: middle;\n",
       "    }\n",
       "\n",
       "    .dataframe tbody tr th {\n",
       "        vertical-align: top;\n",
       "    }\n",
       "\n",
       "    .dataframe thead th {\n",
       "        text-align: right;\n",
       "    }\n",
       "</style>\n",
       "<table border=\"1\" class=\"dataframe\">\n",
       "  <thead>\n",
       "    <tr style=\"text-align: right;\">\n",
       "      <th></th>\n",
       "      <th>Unnamed: 0</th>\n",
       "      <th>content</th>\n",
       "      <th>reply #</th>\n",
       "      <th>category</th>\n",
       "      <th>index</th>\n",
       "      <th>Phish_Irish_Captions</th>\n",
       "      <th>Phish_Irish_Images</th>\n",
       "    </tr>\n",
       "  </thead>\n",
       "  <tbody>\n",
       "    <tr>\n",
       "      <th>0</th>\n",
       "      <td>0</td>\n",
       "      <td>When the release date for the project was anno...</td>\n",
       "      <td>0</td>\n",
       "      <td>Credential_phishing</td>\n",
       "      <td>0</td>\n",
       "      <td>a black and white photo of a snow covered moun...</td>\n",
       "      <td>[[[255 255 255   0]\\n  [255 255 255   0]\\n  [2...</td>\n",
       "    </tr>\n",
       "    <tr>\n",
       "      <th>1</th>\n",
       "      <td>1</td>\n",
       "      <td>In the course of my search, I discovered a lar...</td>\n",
       "      <td>0</td>\n",
       "      <td>Credential_phishing</td>\n",
       "      <td>1</td>\n",
       "      <td>a black and white photo of a pair of scissors .</td>\n",
       "      <td>[[[255 255 255   0]\\n  [255 255 255   0]\\n  [2...</td>\n",
       "    </tr>\n",
       "    <tr>\n",
       "      <th>2</th>\n",
       "      <td>2</td>\n",
       "      <td>Frequently Asked Questions\\n\\nQ: Can I get a 1...</td>\n",
       "      <td>0</td>\n",
       "      <td>Credential_phishing</td>\n",
       "      <td>10</td>\n",
       "      <td>a pair of skis sitting on top of a snow covere...</td>\n",
       "      <td>[[[255 255 255   0]\\n  [255 255 255   0]\\n  [2...</td>\n",
       "    </tr>\n",
       "    <tr>\n",
       "      <th>3</th>\n",
       "      <td>3</td>\n",
       "      <td>Dear Sir/Madam,\\n\\nI am writing you because yo...</td>\n",
       "      <td>0</td>\n",
       "      <td>Credential_phishing</td>\n",
       "      <td>100</td>\n",
       "      <td>a black and white photo of a snow skier</td>\n",
       "      <td>[[[255 255 255   0]\\n  [255 255 255   0]\\n  [2...</td>\n",
       "    </tr>\n",
       "    <tr>\n",
       "      <th>4</th>\n",
       "      <td>4</td>\n",
       "      <td>- Free phone and fax service.\\n- All telephone...</td>\n",
       "      <td>0</td>\n",
       "      <td>Credential_phishing</td>\n",
       "      <td>101</td>\n",
       "      <td>a black and white photo of a snow board</td>\n",
       "      <td>[[[255 255 255   0]\\n  [255 255 255   0]\\n  [2...</td>\n",
       "    </tr>\n",
       "    <tr>\n",
       "      <th>...</th>\n",
       "      <td>...</td>\n",
       "      <td>...</td>\n",
       "      <td>...</td>\n",
       "      <td>...</td>\n",
       "      <td>...</td>\n",
       "      <td>...</td>\n",
       "      <td>...</td>\n",
       "    </tr>\n",
       "    <tr>\n",
       "      <th>796</th>\n",
       "      <td>796</td>\n",
       "      <td>Following a successful search, the owner of th...</td>\n",
       "      <td>0</td>\n",
       "      <td>Social_engineering</td>\n",
       "      <td>96</td>\n",
       "      <td>a living room with a couch and a table</td>\n",
       "      <td>[[[255 255 255   0]\\n  [255 255 255   0]\\n  [2...</td>\n",
       "    </tr>\n",
       "    <tr>\n",
       "      <th>797</th>\n",
       "      <td>797</td>\n",
       "      <td>18.5\\n\\n11.6%\\n\\n11.1%\\n\\n10.8%\\n\\n9.7%\\n\\n8.8...</td>\n",
       "      <td>0</td>\n",
       "      <td>Social_engineering</td>\n",
       "      <td>97</td>\n",
       "      <td>a bunch of different colored vases on a table .</td>\n",
       "      <td>[[[255 255 255   0]\\n  [255 255 255   0]\\n  [2...</td>\n",
       "    </tr>\n",
       "    <tr>\n",
       "      <th>798</th>\n",
       "      <td>798</td>\n",
       "      <td>The EU is ready to introduce a law that will p...</td>\n",
       "      <td>0</td>\n",
       "      <td>Social_engineering</td>\n",
       "      <td>98</td>\n",
       "      <td>a group of three vases sitting on top of a tab...</td>\n",
       "      <td>[[[255 255 255   0]\\n  [255 255 255   0]\\n  [2...</td>\n",
       "    </tr>\n",
       "    <tr>\n",
       "      <th>799</th>\n",
       "      <td>799</td>\n",
       "      <td>The only thing that is known to me so far abou...</td>\n",
       "      <td>0</td>\n",
       "      <td>Social_engineering</td>\n",
       "      <td>99</td>\n",
       "      <td>a room with a couch and a table</td>\n",
       "      <td>[[[255 255 255   0]\\n  [255 255 255   0]\\n  [2...</td>\n",
       "    </tr>\n",
       "    <tr>\n",
       "      <th>800</th>\n",
       "      <td>800</td>\n",
       "      <td>Hello, Call me at 911. in this project, please...</td>\n",
       "      <td>1</td>\n",
       "      <td>Credential_phishing</td>\n",
       "      <td>0</td>\n",
       "      <td>NaN</td>\n",
       "      <td>NaN</td>\n",
       "    </tr>\n",
       "  </tbody>\n",
       "</table>\n",
       "<p>801 rows × 7 columns</p>\n",
       "</div>"
      ],
      "text/plain": [
       "     Unnamed: 0                                            content  reply #  \\\n",
       "0             0  When the release date for the project was anno...        0   \n",
       "1             1  In the course of my search, I discovered a lar...        0   \n",
       "2             2  Frequently Asked Questions\\n\\nQ: Can I get a 1...        0   \n",
       "3             3  Dear Sir/Madam,\\n\\nI am writing you because yo...        0   \n",
       "4             4  - Free phone and fax service.\\n- All telephone...        0   \n",
       "..          ...                                                ...      ...   \n",
       "796         796  Following a successful search, the owner of th...        0   \n",
       "797         797  18.5\\n\\n11.6%\\n\\n11.1%\\n\\n10.8%\\n\\n9.7%\\n\\n8.8...        0   \n",
       "798         798  The EU is ready to introduce a law that will p...        0   \n",
       "799         799  The only thing that is known to me so far abou...        0   \n",
       "800         800  Hello, Call me at 911. in this project, please...        1   \n",
       "\n",
       "                category  index  \\\n",
       "0    Credential_phishing      0   \n",
       "1    Credential_phishing      1   \n",
       "2    Credential_phishing     10   \n",
       "3    Credential_phishing    100   \n",
       "4    Credential_phishing    101   \n",
       "..                   ...    ...   \n",
       "796   Social_engineering     96   \n",
       "797   Social_engineering     97   \n",
       "798   Social_engineering     98   \n",
       "799   Social_engineering     99   \n",
       "800  Credential_phishing      0   \n",
       "\n",
       "                                  Phish_Irish_Captions  \\\n",
       "0    a black and white photo of a snow covered moun...   \n",
       "1      a black and white photo of a pair of scissors .   \n",
       "2    a pair of skis sitting on top of a snow covere...   \n",
       "3              a black and white photo of a snow skier   \n",
       "4              a black and white photo of a snow board   \n",
       "..                                                 ...   \n",
       "796             a living room with a couch and a table   \n",
       "797    a bunch of different colored vases on a table .   \n",
       "798  a group of three vases sitting on top of a tab...   \n",
       "799                    a room with a couch and a table   \n",
       "800                                                NaN   \n",
       "\n",
       "                                    Phish_Irish_Images  \n",
       "0    [[[255 255 255   0]\\n  [255 255 255   0]\\n  [2...  \n",
       "1    [[[255 255 255   0]\\n  [255 255 255   0]\\n  [2...  \n",
       "2    [[[255 255 255   0]\\n  [255 255 255   0]\\n  [2...  \n",
       "3    [[[255 255 255   0]\\n  [255 255 255   0]\\n  [2...  \n",
       "4    [[[255 255 255   0]\\n  [255 255 255   0]\\n  [2...  \n",
       "..                                                 ...  \n",
       "796  [[[255 255 255   0]\\n  [255 255 255   0]\\n  [2...  \n",
       "797  [[[255 255 255   0]\\n  [255 255 255   0]\\n  [2...  \n",
       "798  [[[255 255 255   0]\\n  [255 255 255   0]\\n  [2...  \n",
       "799  [[[255 255 255   0]\\n  [255 255 255   0]\\n  [2...  \n",
       "800                                                NaN  \n",
       "\n",
       "[801 rows x 7 columns]"
      ]
     },
     "execution_count": 424,
     "metadata": {},
     "output_type": "execute_result"
    }
   ],
   "source": [
    "pd.read_csv(\"assignment2.tsv\",sep=\"\\t\").head(801)"
   ]
  },
  {
   "cell_type": "code",
   "execution_count": 124,
   "id": "uniform-sweet",
   "metadata": {},
   "outputs": [],
   "source": [
    "# index_list = []\n",
    "# for index,value in enumerate(caption_list):\n",
    "#     if value.startswith ('<meta name=\"resourceName\"') and index+4 < len(caption_list):\n",
    "#         photo_index = [value]\n",
    "#         if caption_list[index+4].startswith('<meta name=\"resourceName\"'):\n",
    "#             photo_index.extend(caption_list[index+1:index+4])\n",
    "#             index_list.append(photo_index)\n",
    "#         elif caption_list[index+3].startswith('<meta name=\"resourceName\"'):\n",
    "#             photo_index.extend(caption_list[index+1:index+3])\n",
    "#             index_list.append(photo_index)\n",
    "#     if value.startswith ('<meta name=\"resourceName\"') and index+4 == len(caption_list):\n",
    "#         photo_index = [value]\n",
    "#         photo_index.extend(caption_list[index+1:])\n",
    "#         index_list.append(photo_index)"
   ]
  },
  {
   "cell_type": "code",
   "execution_count": 282,
   "id": "identical-basketball",
   "metadata": {},
   "outputs": [],
   "source": [
    "# caption_list=[]\n",
    "# with open(\"models_reconnaissance.txt\")as f:\n",
    "#     for line in f:\n",
    "#         if 'meta name=\"resourceName\"' in line:\n",
    "#             caption_list.append(line.rstrip(\"\\n\"))\n",
    "#         if '<body'in line:\n",
    "#             caption_list.append(line.rstrip(\"\\n\"))  "
   ]
  },
  {
   "cell_type": "code",
   "execution_count": 284,
   "id": "national-custody",
   "metadata": {},
   "outputs": [],
   "source": [
    "# index_list = caption_list[::2]\n",
    "# caption = caption_list[1::2]\n",
    "# zip_list = zip(index_list,caption)\n",
    "# index_caption = list(zip_list)\n",
    "# caption_dict = {}\n",
    "# for i in index_caption:\n",
    "#     index = i[0].split()[2].strip('\"/>').lstrip('content=\"')\n",
    "#     caption=\" \".join(i[1].split()[4:][:-3])\n",
    "#     caption_dict [index] = caption"
   ]
  }
 ],
 "metadata": {
  "kernelspec": {
   "display_name": "Python 3",
   "language": "python",
   "name": "python3"
  },
  "language_info": {
   "codemirror_mode": {
    "name": "ipython",
    "version": 3
   },
   "file_extension": ".py",
   "mimetype": "text/x-python",
   "name": "python",
   "nbconvert_exporter": "python",
   "pygments_lexer": "ipython3",
   "version": "3.7.9"
  }
 },
 "nbformat": 4,
 "nbformat_minor": 5
}
